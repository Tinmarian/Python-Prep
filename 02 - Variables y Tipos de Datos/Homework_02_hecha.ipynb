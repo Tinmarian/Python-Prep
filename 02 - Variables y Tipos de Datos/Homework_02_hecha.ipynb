{
 "cells": [
  {
   "cell_type": "markdown",
   "metadata": {},
   "source": [
    "## Tarea 2 del Python Prep Course"
   ]
  },
  {
   "cell_type": "code",
   "execution_count": 3,
   "metadata": {},
   "outputs": [
    {
     "name": "stdout",
     "output_type": "stream",
     "text": [
      "1\n"
     ]
    }
   ],
   "source": [
    "# 1) Crear una variable que contenga un elemento del conjunto de \n",
    "# números enteros y luego imprimir por pantalla\n",
    "\n",
    "  var1 = 1\n",
    "  print(var1)"
   ]
  },
  {
   "cell_type": "code",
   "execution_count": 5,
   "metadata": {},
   "outputs": [
    {
     "name": "stdout",
     "output_type": "stream",
     "text": [
      "<class 'float'>\n"
     ]
    }
   ],
   "source": [
    "# 2) Imprimir el tipo de dato de la constante 8.5\n",
    "\n",
    "print(type(8.5))"
   ]
  },
  {
   "cell_type": "code",
   "execution_count": 7,
   "metadata": {},
   "outputs": [
    {
     "data": {
      "text/plain": [
       "int"
      ]
     },
     "execution_count": 7,
     "metadata": {},
     "output_type": "execute_result"
    }
   ],
   "source": [
    "# 3) Imprimir el tipo de dato de la variable creada en el punto 1\n",
    "\n",
    "type(var1)"
   ]
  },
  {
   "cell_type": "code",
   "execution_count": 10,
   "metadata": {},
   "outputs": [
    {
     "name": "stdout",
     "output_type": "stream",
     "text": [
      "Tinmar Armando (5+3j)\n"
     ]
    }
   ],
   "source": [
    "# 4) Crear una variable que contenga tu nombre\n",
    "#5) Crear una variable que contenga un número complejo\n",
    "\n",
    "name = 'Tinmar Armando'\n",
    "complejo = 5+3j\n",
    "\n",
    "print(name, complejo)"
   ]
  },
  {
   "cell_type": "code",
   "execution_count": 9,
   "metadata": {},
   "outputs": [
    {
     "data": {
      "text/plain": [
       "complex"
      ]
     },
     "execution_count": 9,
     "metadata": {},
     "output_type": "execute_result"
    }
   ],
   "source": [
    "# 6) Mostrar el tipo de dato de la variable crada en el punto 5\n",
    "\n",
    "type(complejo)"
   ]
  },
  {
   "cell_type": "code",
   "execution_count": 13,
   "metadata": {},
   "outputs": [
    {
     "name": "stdout",
     "output_type": "stream",
     "text": [
      "3.1416\n"
     ]
    }
   ],
   "source": [
    "# 7) Crear una variable que contenga el valor del número Pi \n",
    "# redondeado a 4 decimales\n",
    "import math\n",
    "pi = math.pi\n",
    "\n",
    "varpi = round(pi, 4)\n",
    "print(varpi)"
   ]
  },
  {
   "cell_type": "code",
   "execution_count": 15,
   "metadata": {},
   "outputs": [
    {
     "name": "stdout",
     "output_type": "stream",
     "text": [
      "<class 'str'> <class 'bool'> No son lo mismo\n"
     ]
    }
   ],
   "source": [
    "#8) Crear una variable que contenga el valor 'True' y otra que \n",
    "# contenga el valor True. ¿Se trata de lo mismo?\n",
    "\n",
    "var2 = 'True'\n",
    "var3 = True\n",
    "\n",
    "print(type(var2), type(var3), 'No son lo mismo')\n"
   ]
  },
  {
   "cell_type": "code",
   "execution_count": 17,
   "metadata": {},
   "outputs": [
    {
     "name": "stdout",
     "output_type": "stream",
     "text": [
      "1.35\n"
     ]
    }
   ],
   "source": [
    "# 10) Asignar a una variable, la suma de un número entero \n",
    "# y otro decimal\n",
    "\n",
    "var4 = 1 + 0.35\n",
    "print(var4)"
   ]
  },
  {
   "cell_type": "code",
   "execution_count": 23,
   "metadata": {},
   "outputs": [
    {
     "name": "stdout",
     "output_type": "stream",
     "text": [
      "(3+8j)\n",
      "(-13+11j)\n",
      "(0.5862068965517241+0.03448275862068969j)\n",
      "(-1-2j)\n"
     ]
    }
   ],
   "source": [
    "# 11) Realizar una operación de suma de números complejos\n",
    "\n",
    "print((1+3j) + (2+5j))\n",
    "\n",
    "print((1+3j) * (2+5j))\n",
    "\n",
    "print((1+3j) / (2+5j))\n",
    "\n",
    "print((1+3j) - (2+5j))"
   ]
  },
  {
   "cell_type": "code",
   "execution_count": 24,
   "metadata": {},
   "outputs": [
    {
     "data": {
      "text/plain": [
       "10"
      ]
     },
     "execution_count": 24,
     "metadata": {},
     "output_type": "execute_result"
    }
   ],
   "source": [
    "# 13) Realizar una operación de multiplicación\n",
    "\n",
    "2*5"
   ]
  },
  {
   "cell_type": "code",
   "execution_count": 26,
   "metadata": {},
   "outputs": [
    {
     "data": {
      "text/plain": [
       "256"
      ]
     },
     "execution_count": 26,
     "metadata": {},
     "output_type": "execute_result"
    }
   ],
   "source": [
    "# 14) Mostrar el resultado de elevar 2 a la octava potencia\n",
    "\n",
    "2**8"
   ]
  },
  {
   "cell_type": "code",
   "execution_count": 28,
   "metadata": {},
   "outputs": [
    {
     "name": "stdout",
     "output_type": "stream",
     "text": [
      "6.75\n"
     ]
    }
   ],
   "source": [
    "# 15) Obtener el cociente de la división de 27 entre 4 en una \n",
    "# variable y luego mostrarla\n",
    "\n",
    "var5 = 27/4\n",
    "print(var5)\n"
   ]
  },
  {
   "cell_type": "code",
   "execution_count": 29,
   "metadata": {},
   "outputs": [
    {
     "data": {
      "text/plain": [
       "6"
      ]
     },
     "execution_count": 29,
     "metadata": {},
     "output_type": "execute_result"
    }
   ],
   "source": [
    "# 16) De la división anterior solamente mostrar la parte entera\n",
    "\n",
    "27 // 4"
   ]
  },
  {
   "cell_type": "code",
   "execution_count": 31,
   "metadata": {},
   "outputs": [
    {
     "data": {
      "text/plain": [
       "3"
      ]
     },
     "execution_count": 31,
     "metadata": {},
     "output_type": "execute_result"
    }
   ],
   "source": [
    "# 17) De la división de 27 entre 4 mostrar solamente el resto\n",
    "\n",
    "27 % 4"
   ]
  },
  {
   "cell_type": "code",
   "execution_count": 38,
   "metadata": {},
   "outputs": [
    {
     "name": "stdout",
     "output_type": "stream",
     "text": [
      "27\n"
     ]
    }
   ],
   "source": [
    "# 18) Utilizando como operandos el número 4 y los resultados \n",
    "# obtenidos en los puntos 16 y 17. Obtener 27 como resultado\n",
    "\n",
    "print(4 * 6 + 4 - 4%3)\n",
    "\n"
   ]
  },
  {
   "cell_type": "code",
   "execution_count": 42,
   "metadata": {},
   "outputs": [
    {
     "data": {
      "text/plain": [
       "'Hola Mundo!'"
      ]
     },
     "execution_count": 42,
     "metadata": {},
     "output_type": "execute_result"
    }
   ],
   "source": [
    "# 19) Utilizar el operador \"+\" en una operación donde intervengan \n",
    "# solo variables alfanuméricas\n",
    "\n",
    "'Hola' + \" Mundo!\"\n"
   ]
  },
  {
   "cell_type": "code",
   "execution_count": 45,
   "metadata": {},
   "outputs": [
    {
     "data": {
      "text/plain": [
       "False"
      ]
     },
     "execution_count": 45,
     "metadata": {},
     "output_type": "execute_result"
    }
   ],
   "source": [
    "# 20) Evaluar si \"2\" es igual a 2. ¿Por qué ocurre eso?\n",
    "\n",
    "'2' == 2"
   ]
  },
  {
   "cell_type": "code",
   "execution_count": 47,
   "metadata": {},
   "outputs": [
    {
     "data": {
      "text/plain": [
       "True"
      ]
     },
     "execution_count": 47,
     "metadata": {},
     "output_type": "execute_result"
    }
   ],
   "source": [
    "# 21) Utilizar las funciones de cambio de tipo de dato, \n",
    "# para que la validación del punto 20 resulte verdadera\n",
    "\n",
    "int('2') == 2\n"
   ]
  },
  {
   "cell_type": "code",
   "execution_count": 52,
   "metadata": {},
   "outputs": [
    {
     "name": "stdout",
     "output_type": "stream",
     "text": [
      "Porque el comando float necesita un punto, no una coma\n"
     ]
    }
   ],
   "source": [
    "# 22) ¿Por qué arroja error el siguiente cambio de tipo de datos? \n",
    "# a = float('3,8')\n",
    "\n",
    "print('Porque el comando ''float'' necesita un punto, no una coma')"
   ]
  },
  {
   "cell_type": "code",
   "execution_count": 54,
   "metadata": {},
   "outputs": [
    {
     "data": {
      "text/plain": [
       "-1"
      ]
     },
     "execution_count": 54,
     "metadata": {},
     "output_type": "execute_result"
    }
   ],
   "source": [
    "# 23) Crear una variable con el valor 3, y utilizar el operador \n",
    "# '-=' para modificar su contenido\n",
    "\n",
    "x = 3\n",
    "x-=4\n",
    "x"
   ]
  },
  {
   "cell_type": "code",
   "execution_count": 59,
   "metadata": {},
   "outputs": [
    {
     "name": "stdout",
     "output_type": "stream",
     "text": [
      "4\n",
      "Realmente no sé cómo se obtiene el resultado de dicha operación \n",
      "\n",
      "El sistema binario es un sistema duodecimal en donde seutilizan los números 0 y 1\n"
     ]
    }
   ],
   "source": [
    "# 24) Realizar la operacion 1 << 2 ¿Por qué da ese resultado? \n",
    "# ¿Qué es el sistema de numeración binario?\n",
    "\n",
    "print(1 << 2)\n",
    "\n",
    "print('Realmente no sé cómo se obtiene el resultado de dicha operación \\n')\n",
    "print('El sistema binario es un sistema duodecimal en donde se' \n",
    "    'utilizan los números 0 y 1')"
   ]
  },
  {
   "cell_type": "code",
   "execution_count": 62,
   "metadata": {},
   "outputs": [
    {
     "name": "stdout",
     "output_type": "stream",
     "text": [
      "Porque son tipos de datos que no se pueden operar entre si\n",
      "Si ambos son enteros o string darían siempre el mismoresultado\n"
     ]
    }
   ],
   "source": [
    "# 25) Realizar la operación 2 + '2' ¿Por qué no está permitido? \n",
    "# ¿Si los dos operandos serían del mismo tipo, \n",
    "# siempre arrojaría el mismo resultado?\n",
    "\n",
    "#print(2 + '2')\n",
    "\n",
    "print('Porque son tipos de datos que no se pueden operar entre si')\n",
    "print('Si ambos son enteros o string darían siempre el mismo'\n",
    "    'resultado')"
   ]
  },
  {
   "cell_type": "code",
   "execution_count": 66,
   "metadata": {},
   "outputs": [
    {
     "name": "stdout",
     "output_type": "stream",
     "text": [
      "4\n"
     ]
    },
    {
     "data": {
      "text/plain": [
       "'holaholahola'"
      ]
     },
     "execution_count": 66,
     "metadata": {},
     "output_type": "execute_result"
    }
   ],
   "source": [
    "#26) Realizar una operación válida entre valores de tipo \n",
    "# entero y string\n",
    "\n",
    "print(2 + int('2'))\n",
    "\n",
    "'hola' * 3"
   ]
  }
 ],
 "metadata": {
  "kernelspec": {
   "display_name": "Python 3.10.8 64-bit",
   "language": "python",
   "name": "python3"
  },
  "language_info": {
   "codemirror_mode": {
    "name": "ipython",
    "version": 3
   },
   "file_extension": ".py",
   "mimetype": "text/x-python",
   "name": "python",
   "nbconvert_exporter": "python",
   "pygments_lexer": "ipython3",
   "version": "3.10.8"
  },
  "orig_nbformat": 4,
  "vscode": {
   "interpreter": {
    "hash": "be0442737b7318fa7ad3b13af002331592740854ffc0bd4e6d4b05a822eb54b5"
   }
  }
 },
 "nbformat": 4,
 "nbformat_minor": 2
}
