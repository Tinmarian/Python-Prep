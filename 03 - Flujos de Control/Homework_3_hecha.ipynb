{
 "cells": [
  {
   "cell_type": "markdown",
   "metadata": {},
   "source": [
    "## Tarea 3: Flujos de Control"
   ]
  },
  {
   "cell_type": "code",
   "execution_count": 3,
   "metadata": {},
   "outputs": [
    {
     "name": "stdout",
     "output_type": "stream",
     "text": [
      "5\n"
     ]
    }
   ],
   "source": [
    "# 1) Crear una variable que contenga un elemento del conjunto de\n",
    "# números enteros y luego imprimir por pantalla si es mayor \n",
    "# o menor a cero\n",
    "\n",
    "a = 5\n",
    "if a < 0:\n",
    "    print(a)\n",
    "elif a > 0:\n",
    "    print(a)\n"
   ]
  },
  {
   "cell_type": "code",
   "execution_count": 6,
   "metadata": {},
   "outputs": [
    {
     "name": "stdout",
     "output_type": "stream",
     "text": [
      "Los tipos de dato de ambas variables son el mismo\n"
     ]
    }
   ],
   "source": [
    "# 2) Crear dos variables y un condicional que informe si \n",
    "# son del mismo tipo de dato\n",
    "\n",
    "a = 'hola'\n",
    "b = '1'\n",
    "\n",
    "if type(a) == type(b):\n",
    "    print('Los tipos de dato de ambas variables son el mismo')\n",
    "else:\n",
    "    print('Los tipos de datos no son iguales')"
   ]
  },
  {
   "cell_type": "code",
   "execution_count": 9,
   "metadata": {},
   "outputs": [
    {
     "name": "stdout",
     "output_type": "stream",
     "text": [
      "El número 1 es impar\n",
      "El número 2 es par\n",
      "El número 3 es impar\n",
      "El número 4 es par\n",
      "El número 5 es impar\n",
      "El número 6 es par\n",
      "El número 7 es impar\n",
      "El número 8 es par\n",
      "El número 9 es impar\n",
      "El número 10 es par\n",
      "El número 11 es impar\n",
      "El número 12 es par\n",
      "El número 13 es impar\n",
      "El número 14 es par\n",
      "El número 15 es impar\n",
      "El número 16 es par\n",
      "El número 17 es impar\n",
      "El número 18 es par\n",
      "El número 19 es impar\n",
      "El número 20 es par\n"
     ]
    }
   ],
   "source": [
    "# 3) Para los valores enteros del 1 al 20, imprimir por pantalla \n",
    "# si es par o impar\n",
    "\n",
    "for i in range(1,21):\n",
    "    if i % 2 == 0:\n",
    "        print('El número', i, 'es par')\n",
    "    else:\n",
    "        print('El número', i, 'es impar')"
   ]
  },
  {
   "cell_type": "code",
   "execution_count": 11,
   "metadata": {},
   "outputs": [
    {
     "name": "stdout",
     "output_type": "stream",
     "text": [
      "0\n",
      "1\n",
      "8\n",
      "27\n",
      "64\n",
      "125\n"
     ]
    }
   ],
   "source": [
    "# 4) En un ciclo for mostrar para los valores entre 0 y 5 \n",
    "# el resultado de elevarlo a la potencia igual a 3\n",
    "\n",
    "for i in range(0,6):\n",
    "    print(i**3)"
   ]
  },
  {
   "cell_type": "code",
   "execution_count": 17,
   "metadata": {},
   "outputs": [
    {
     "name": "stdout",
     "output_type": "stream",
     "text": [
      "7 ciclos:\n",
      "Ciclo 1\n",
      "Ciclo 2\n",
      "Ciclo 3\n",
      "Ciclo 4\n",
      "Ciclo 5\n",
      "Ciclo 6\n",
      "Ciclo 7\n"
     ]
    }
   ],
   "source": [
    "# 5) Crear una variable que contenga un número entero y \n",
    "# realizar un ciclo for la misma cantidad de ciclos\n",
    "\n",
    "a = 7\n",
    "print(i, 'ciclos:')\n",
    "for i in range(1,a+1):\n",
    "    print('Ciclo', i)\n"
   ]
  },
  {
   "cell_type": "code",
   "execution_count": 13,
   "metadata": {},
   "outputs": [
    {
     "name": "stdout",
     "output_type": "stream",
     "text": [
      "El factorial de 4 es 24\n"
     ]
    }
   ],
   "source": [
    "# 6) Utilizar un ciclo while para realizar el factorial de un \n",
    "# número guardado en una variable, sólo si la variable contiene \n",
    "# un número entero mayor a 0\n",
    "\n",
    "i = 1\n",
    "x = 4\n",
    "y = x\n",
    "\n",
    "if type(x) == int:\n",
    "    if x > 0:\n",
    "        while x > 0:\n",
    "            i = i * x\n",
    "            x -= 1\n",
    "            if x == 0:\n",
    "                print('El factorial de', y, 'es', i)  \n",
    "    elif x == 0:\n",
    "        print('El número debe ser mayor a cero')\n",
    "    else:\n",
    "        print('El número debe ser positivo')\n",
    "else:\n",
    "    print('El tipo de dato debe ser [int] positivo')\n"
   ]
  },
  {
   "cell_type": "code",
   "execution_count": 37,
   "metadata": {},
   "outputs": [
    {
     "name": "stdout",
     "output_type": "stream",
     "text": [
      "Esta es la vuelta 1 de 3 vueltas\n",
      "Esta es la vuelta 2 de 3 vueltas\n",
      "Esta es la vuelta 3 de 3 vueltas\n",
      "Esta es la vuelta 1 de 2 vueltas\n",
      "Esta es la vuelta 2 de 2 vueltas\n",
      "Esta es la vuelta 1 de 1 vueltas\n"
     ]
    }
   ],
   "source": [
    "# 7) Crear un ciclo for dentro de un ciclo while\n",
    "\n",
    "x = 3\n",
    "\n",
    "while x > 0:\n",
    "    for i in range(1,x+1):\n",
    "        print('Esta es la vuelta', i, 'de', x, 'vueltas')\n",
    "    x -= 1\n"
   ]
  },
  {
   "cell_type": "code",
   "execution_count": 7,
   "metadata": {},
   "outputs": [
    {
     "name": "stdout",
     "output_type": "stream",
     "text": [
      "1\n",
      "2\n",
      "3\n",
      "4\n",
      "5\n",
      "6\n",
      "7\n",
      "8\n",
      "9\n"
     ]
    }
   ],
   "source": [
    "# 8) Crear un ciclo while dentro de un ciclo for\n",
    "\n",
    "x = 10\n",
    "\n",
    "for i in range(1,x+1):\n",
    "    while i < x:\n",
    "        print(i)\n",
    "        break"
   ]
  },
  {
   "cell_type": "code",
   "execution_count": 26,
   "metadata": {},
   "outputs": [
    {
     "name": "stdout",
     "output_type": "stream",
     "text": [
      "[2, 3, 5, 7, 11, 13, 17, 19, 23, 29, 31, 37, 41, 43, 47, 53, 59, 61, 67, 71, 73, 79, 83, 89, 97, 101, 103, 107, 109, 113, 127, 131, 137, 139, 149, 151, 157, 163, 167, 173, 179, 181, 191, 193, 197, 199, 211, 223, 227, 229, 233, 239, 241, 251, 257, 263, 269, 271, 277, 281, 283, 293, 307, 311, 313, 317, 331, 337, 347, 349, 353, 359, 367, 373, 379, 383, 389, 397, 401, 409, 419, 421, 431, 433, 439, 443, 449, 457, 461, 463, 467, 479, 487, 491, 499, 503, 509, 521, 523, 541, 547, 557, 563, 569, 571, 577, 587, 593, 599, 601, 607, 613, 617, 619, 631, 641, 643, 647, 653, 659, 661, 673, 677, 683, 691, 701, 709, 719, 727, 733, 739, 743, 751, 757, 761, 769, 773, 787, 797, 809, 811, 821, 823, 827, 829, 839, 853, 857, 859, 863, 877, 881, 883, 887, 907, 911, 919, 929, 937, 941, 947, 953, 967, 971, 977, 983, 991, 997]\n",
      "ciclos del primer [for]: 1000 Ciclos del segundo [for]: 40040\n"
     ]
    },
    {
     "data": {
      "text/plain": [
       "False"
      ]
     },
     "execution_count": 26,
     "metadata": {},
     "output_type": "execute_result"
    }
   ],
   "source": [
    "# 9) Imprimir los números primos existentes entre 0 y 30\n",
    "\n",
    "x = 0\n",
    "y = 1000\n",
    "primos = []\n",
    "primos_reales = [2, 3, 5, 7, 11, 13, 17, 19, 23, 29]\n",
    "cantidad_ciclos1 = 0\n",
    "cantidad_ciclos2 = 0\n",
    "\n",
    "for n in range(x,y):\n",
    "    cantidad_ciclos1 += 1\n",
    "\n",
    "    if n == 2 or n == 3 or n == 5:\n",
    "        primos.append(n)\n",
    "\n",
    "    elif n > 5:\n",
    "\n",
    "        for i in range(2,int(n/2)+1):\n",
    "            cantidad_ciclos2 += 1\n",
    "\n",
    "            if n % i == 0:\n",
    "                break\n",
    "            elif i == int(n/2):\n",
    "                primos.append(n)\n",
    "\n",
    "print(primos)\n",
    "print('ciclos del primer [for]:', cantidad_ciclos1, 'Ciclos del segundo [for]:', cantidad_ciclos2)\n",
    "primos == primos_reales\n"
   ]
  },
  {
   "cell_type": "code",
   "execution_count": 29,
   "metadata": {},
   "outputs": [
    {
     "name": "stdout",
     "output_type": "stream",
     "text": [
      "[0, 1, 2, 3, 5, 7, 11, 13, 17, 19, 23, 29, 31, 37, 41, 43, 47, 53, 59, 61, 67, 71, 73, 79, 83, 89, 97, 101, 103, 107, 109, 113, 127, 131, 137, 139, 149, 151, 157, 163, 167, 173, 179, 181, 191, 193, 197, 199, 211, 223, 227, 229, 233, 239, 241, 251, 257, 263, 269, 271, 277, 281, 283, 293, 307, 311, 313, 317, 331, 337, 347, 349, 353, 359, 367, 373, 379, 383, 389, 397, 401, 409, 419, 421, 431, 433, 439, 443, 449, 457, 461, 463, 467, 479, 487, 491, 499, 503, 509, 521, 523, 541, 547, 557, 563, 569, 571, 577, 587, 593, 599, 601, 607, 613, 617, 619, 631, 641, 643, 647, 653, 659, 661, 673, 677, 683, 691, 701, 709, 719, 727, 733, 739, 743, 751, 757, 761, 769, 773, 787, 797, 809, 811, 821, 823, 827, 829, 839, 853, 857, 859, 863, 877, 881, 883, 887, 907, 911, 919, 929, 937, 941, 947, 953, 967, 971, 977, 983, 991, 997]\n",
      "1000 78021\n"
     ]
    }
   ],
   "source": [
    "# 10) ¿Se puede mejorar el proceso del punto 9? Utilizar \n",
    "# las sentencias break y/ó continue para tal fin\n",
    "\n",
    "# R: En el punto 9 tengo menor cantidad de ciclos que los que hace el código \n",
    "# que proponen... Además, mi código sí distingue que el 0 y el 1 no son primos. \n",
    "\n",
    "# El código que propone HENRY es:\n",
    "\n",
    "cantidad_ciclos3 = 0\n",
    "cantidad_ciclos4 = 0\n",
    "primos = []\n",
    "\n",
    "for n in range(0,1000):\n",
    "    cantidad_ciclos3 += 1\n",
    "    primo = True\n",
    "    for i in range(2,n):\n",
    "        cantidad_ciclos4 += 1\n",
    "        if (n % i == 0):\n",
    "            primo = False\n",
    "            break\n",
    "    if(primo):\n",
    "        primos.append(n)\n",
    "\n",
    "print(primos)\n",
    "print(cantidad_ciclos3, cantidad_ciclos4)\n",
    "\n"
   ]
  },
  {
   "cell_type": "code",
   "execution_count": 22,
   "metadata": {},
   "outputs": [
    {
     "name": "stdout",
     "output_type": "stream",
     "text": [
      "Se puede saber que se optimizó contando el número de ciclos.En este caso, mi código tiene menor número de ciclos\n"
     ]
    }
   ],
   "source": [
    "# 11) En los puntos 9 y 10, se diseño un código que encuentra \n",
    "# números primos y además se lo optimizó. \n",
    "# ¿Es posible saber en qué medida se optimizó?\n",
    "\n",
    "print('Se puede saber que se optimizó contando el número de ciclos.'\n",
    "        'En este caso, mi código tiene menor número de ciclos')"
   ]
  },
  {
   "cell_type": "code",
   "execution_count": 25,
   "metadata": {},
   "outputs": [
    {
     "name": "stdout",
     "output_type": "stream",
     "text": [
      "La optimización entre el código que escribí y el que proponen en HENRY es depoco menos de un 50%\n",
      "Resulta que sí crece dicha optimización si el número crece\n"
     ]
    }
   ],
   "source": [
    "# 12) Si la cantidad de números que se evalúa es mayor a treinta, \n",
    "# esa optimización crece?\n",
    "\n",
    "print('La optimización entre el código que escribí y el que proponen en HENRY es de'\n",
    "     'poco menos de un 50%')\n",
    "print('Resulta que sí crece dicha optimización si el número crece')"
   ]
  },
  {
   "cell_type": "code",
   "execution_count": 41,
   "metadata": {},
   "outputs": [
    {
     "name": "stdout",
     "output_type": "stream",
     "text": [
      "Para mi código: ciclos del primer [for]: 31 Ciclos del segundo [for]: 76\n",
      "Para HENRY: ciclos del primer [for]: 31 Ciclos del segundo [for]: 135\n",
      "Tiempo HENRY: 0.0. Tiempo mío: 0.0\n",
      "False False \n",
      "\n",
      "\n",
      "Para mi código: ciclos del primer [for]: 101 Ciclos del segundo [for]: 616\n",
      "Para HENRY: ciclos del primer [for]: 101 Ciclos del segundo [for]: 1133\n",
      "Tiempo HENRY: 0.0. Tiempo mío: 0.0\n",
      "False False \n",
      "\n",
      "\n",
      "Para mi código: ciclos del primer [for]: 1001 Ciclos del segundo [for]: 40043\n",
      "Para HENRY: ciclos del primer [for]: 1001 Ciclos del segundo [for]: 78022\n",
      "Tiempo HENRY: 0.009062528610229492. Tiempo mío: 0.003850698471069336\n",
      "False False \n",
      "\n",
      "\n",
      "Para mi código: ciclos del primer [for]: 3001 Ciclos del segundo [for]: 305180\n",
      "Para HENRY: ciclos del primer [for]: 3001 Ciclos del segundo [for]: 601876\n",
      "Tiempo HENRY: 0.03592348098754883. Tiempo mío: 0.0507962703704834\n",
      "False False \n",
      "\n",
      "\n",
      "Para mi código: ciclos del primer [for]: 5001 Ciclos del segundo [for]: 790136\n",
      "Para HENRY: ciclos del primer [for]: 5001 Ciclos del segundo [for]: 1563869\n",
      "Tiempo HENRY: 0.08738398551940918. Tiempo mío: 0.09830021858215332\n",
      "False False \n",
      "\n",
      "\n",
      "Para mi código: ciclos del primer [for]: 7001 Ciclos del segundo [for]: 1492585\n",
      "Para HENRY: ciclos del primer [for]: 7001 Ciclos del segundo [for]: 2959870\n",
      "Tiempo HENRY: 0.17873501777648926. Tiempo mío: 0.21905255317687988\n",
      "False False \n",
      "\n",
      "\n",
      "Para mi código: ciclos del primer [for]: 10001 Ciclos del segundo [for]: 2907640\n",
      "Para HENRY: ciclos del primer [for]: 10001 Ciclos del segundo [for]: 5775223\n",
      "Tiempo HENRY: 0.4525327682495117. Tiempo mío: 0.3892824649810791\n",
      "False False \n",
      "\n",
      "\n",
      "Para mi código: ciclos del primer [for]: 15001 Ciclos del segundo [for]: 6215053\n",
      "Para HENRY: ciclos del primer [for]: 15001 Ciclos del segundo [for]: 12362160\n",
      "Tiempo HENRY: 0.7644152641296387. Tiempo mío: 0.8594570159912109\n",
      "False False \n",
      "\n",
      "\n",
      "Para mi código: ciclos del primer [for]: 20001 Ciclos del segundo [for]: 10683106\n",
      "Para HENRY: ciclos del primer [for]: 20001 Ciclos del segundo [for]: 21267570\n",
      "Tiempo HENRY: 1.2825210094451904. Tiempo mío: 1.3498203754425049\n",
      "False False \n",
      "\n",
      "\n",
      "Para mi código: ciclos del primer [for]: 50001 Ciclos del segundo [for]: 60827784\n",
      "Para HENRY: ciclos del primer [for]: 50001 Ciclos del segundo [for]: 121331871\n",
      "Tiempo HENRY: 7.647714853286743. Tiempo mío: 7.742944955825806\n",
      "False False \n",
      "\n",
      "\n"
     ]
    }
   ],
   "source": [
    "import time as t\n",
    "\n",
    "\n",
    "\n",
    "primos_reales = [2, 3, 5, 7, 11, 13, 17, 19, 23, 29]\n",
    "\n",
    "\n",
    "# Código de HENRY\n",
    "\n",
    "for j in [30,100,1000,3000,5000,7000,10000,15000,20000,50000]:\n",
    "    x = 0\n",
    "    y = j\n",
    "    cantidad_ciclos3 = 0\n",
    "    cantidad_ciclos4 = 0\n",
    "    primos1 = []\n",
    "\n",
    "    inicio1 = t.time()\n",
    "    for n in range(x,y+1):\n",
    "        cantidad_ciclos3 += 1\n",
    "        primo = True\n",
    "        for i in range(2,n):\n",
    "            cantidad_ciclos4 += 1\n",
    "            if (n % i == 0):\n",
    "                primo = False\n",
    "                break\n",
    "        if(primo):\n",
    "            primos1.append(n)\n",
    "    fin1 = t.time()\n",
    "\n",
    "    # Código mío\n",
    "\n",
    "    primos2 = []\n",
    "    cantidad_ciclos1 = 0\n",
    "    cantidad_ciclos2 = 0\n",
    "\n",
    "    inicio2 = t.time()\n",
    "    for n in range(x,y+1):\n",
    "        cantidad_ciclos1 += 1\n",
    "\n",
    "        if n == 2 or n == 3:\n",
    "            primos2.append(n)\n",
    "\n",
    "        elif n > 3:\n",
    "\n",
    "            for i in range(2,int(n/2)+1):\n",
    "                cantidad_ciclos2 += 1\n",
    "\n",
    "                if n % i == 0:\n",
    "                    break\n",
    "                elif i == int(n/2):\n",
    "                    primos2.append(n)\n",
    "\n",
    "    fin2 = t.time()\n",
    "        \n",
    "\n",
    "    print('Para mi código: ciclos del primer [for]:', cantidad_ciclos1, 'Ciclos del segundo [for]:', cantidad_ciclos2)\n",
    "    print('Para HENRY: ciclos del primer [for]:', cantidad_ciclos3, 'Ciclos del segundo [for]:', cantidad_ciclos4)\n",
    "    print(f'Tiempo HENRY: {(fin1 - inicio1)}. Tiempo mío: {(fin2 - inicio2)}')\n",
    "    print(primos1 == primos_reales, primos1 == primos2, '\\n\\n')"
   ]
  },
  {
   "cell_type": "code",
   "execution_count": 42,
   "metadata": {},
   "outputs": [
    {
     "name": "stdout",
     "output_type": "stream",
     "text": [
      "Después de la celda anterior podemos concluir que se optimiza el proceso en términos de los ciclos que se realizan, sin embargo, no se optimiza en el tiempo\n"
     ]
    }
   ],
   "source": [
    "print('Después de la celda anterior podemos concluir que se optimiza el proceso'\n",
    "' en términos de los ciclos que se realizan, sin embargo, no se optimiza en el tiempo')"
   ]
  },
  {
   "cell_type": "code",
   "execution_count": 43,
   "metadata": {},
   "outputs": [
    {
     "name": "stdout",
     "output_type": "stream",
     "text": [
      "ciclos del primer [for]: 100 Ciclos del segundo [for]: 1132\n"
     ]
    },
    {
     "data": {
      "text/plain": [
       "[2,\n",
       " 3,\n",
       " 5,\n",
       " 7,\n",
       " 11,\n",
       " 13,\n",
       " 17,\n",
       " 19,\n",
       " 23,\n",
       " 29,\n",
       " 31,\n",
       " 37,\n",
       " 41,\n",
       " 43,\n",
       " 47,\n",
       " 53,\n",
       " 59,\n",
       " 61,\n",
       " 67,\n",
       " 71,\n",
       " 73,\n",
       " 79,\n",
       " 83,\n",
       " 89,\n",
       " 97]"
      ]
     },
     "execution_count": 43,
     "metadata": {},
     "output_type": "execute_result"
    }
   ],
   "source": [
    "# Para empezar, este código no funciona si no se utiliza el break, por lo que no \n",
    "# podemos comparar su eficiencia\n",
    "\n",
    "x = 0\n",
    "y = 100\n",
    "primos = []\n",
    "primos_reales = [2, 3, 5, 7, 11, 13, 17, 19, 23, 29]\n",
    "cantidad_ciclos1 = 0\n",
    "cantidad_ciclos2 = 0\n",
    "\n",
    "for n in range(x,y):\n",
    "    cantidad_ciclos1 += 1\n",
    "\n",
    "    if n == 2:\n",
    "        primos.append(n)\n",
    "\n",
    "    elif n > 2:\n",
    "\n",
    "        for i in range(2,n):\n",
    "            cantidad_ciclos2 += 1\n",
    "\n",
    "            if n % i == 0:\n",
    "                break\n",
    "            elif i == n - 1:\n",
    "                primos.append(n)\n",
    "                \n",
    "print('ciclos del primer [for]:', cantidad_ciclos1, 'Ciclos del segundo [for]:', \n",
    "    cantidad_ciclos2)\n",
    "primos\n"
   ]
  },
  {
   "cell_type": "code",
   "execution_count": 109,
   "metadata": {},
   "outputs": [
    {
     "name": "stdout",
     "output_type": "stream",
     "text": [
      "[0, 1, 2, 3, 5, 7, 11, 13, 17, 19, 23, 29, 31, 37, 41, 43, 47, 53, 59, 61, 67, 71, 73, 79, 83, 89, 97]\n",
      "100 4753\n",
      "Optimizamos 3621 ciclos, los cuales no se realizaron para una lista con 99 dígitos\n"
     ]
    }
   ],
   "source": [
    "# Para el código que propone HENRY sí es posible medir la optimización. Y sí es bastante\n",
    "\n",
    "cantidad_ciclos5 = 0\n",
    "cantidad_ciclos6 = 0\n",
    "primos = []\n",
    "\n",
    "for n in range(0,100):\n",
    "    cantidad_ciclos5 += 1\n",
    "    primo = True\n",
    "    for i in range(2,n):\n",
    "        cantidad_ciclos6 += 1\n",
    "        if (n % i == 0):\n",
    "            primo = False\n",
    "    if(primo):\n",
    "        primos.append(n)\n",
    "\n",
    "print(primos)\n",
    "print(cantidad_ciclos5, cantidad_ciclos6)\n",
    "print('Optimizamos', cantidad_ciclos6 - cantidad_ciclos4 , 'ciclos, los cuales no se realizaron para una lista con', n, 'dígitos')"
   ]
  },
  {
   "cell_type": "code",
   "execution_count": 31,
   "metadata": {},
   "outputs": [
    {
     "name": "stdout",
     "output_type": "stream",
     "text": [
      "108\n",
      "120\n",
      "132\n",
      "144\n",
      "156\n",
      "168\n",
      "180\n",
      "192\n",
      "204\n",
      "216\n",
      "228\n",
      "240\n",
      "252\n",
      "264\n",
      "276\n",
      "288\n",
      "300\n"
     ]
    }
   ],
   "source": [
    "# 13) Aplicando continue, armar un ciclo while que solo imprima \n",
    "# los valores divisibles por 12, dentro del rango de números \n",
    "# de 100 a 300\n",
    "\n",
    "x = 100\n",
    "\n",
    "while x < 301:\n",
    "    if x % 12 == 0:\n",
    "        print(x)\n",
    "    x += 1\n",
    "    continue\n"
   ]
  },
  {
   "cell_type": "code",
   "execution_count": 16,
   "metadata": {},
   "outputs": [
    {
     "name": "stdout",
     "output_type": "stream",
     "text": [
      "21 no es primo\n",
      "23 es el siguiente número primo\n",
      "29 es el siguiente número primo\n",
      "31 es el siguiente número primo\n",
      "8 no es primo\n",
      "8 no es primo\n",
      "6 no es primo\n"
     ]
    }
   ],
   "source": [
    "# 14) Utilizar la función **input()** que permite hacer ingresos \n",
    "# por teclado, para encontrar números primos y dar la opción \n",
    "# al usario de buscar el siguiente\n",
    "\n",
    "\n",
    "# Definimos la función para verificar si un número es primo o no\n",
    "def verifica_primo(numero):\n",
    "    es_primo = True\n",
    "    for i in range(2, numero):\n",
    "        if numero % i == 0:\n",
    "            es_primo = False\n",
    "            break\n",
    "    return es_primo\n",
    "\n",
    "\n",
    "# Iniciamos un bucle para estar dando las opciones de salir del programa o de ingresar un número para verificar si es primo, \n",
    "# y en caso de que dicho número sea primo, dar las opciones de encontrar el siguiente número primo o de ingresar \n",
    "# otro número para su verificación.\n",
    "while True:\n",
    "\n",
    "    a = input('Ingresa un número para verificar si es primo, recuerda ingresar solo números enteros, '\n",
    "            'si ingresas un número real se omitiran las decimales después del punto. Puedes salir del programa con la tecla \"ESC\".')\n",
    "    type(a)\n",
    "    # Es importante no olvidarnos de que el comando input() regresa una cadena, no un entero. Y nosotros necesitamos un entero.\n",
    "    a = float(a)\n",
    "    a = int(a)\n",
    "\n",
    "    # Sabemos que números menores o iguales a 1 no son primos.\n",
    "    if a <= 1:\n",
    "        print(a, 'no es primo \\n')\n",
    "        b = input('Escribe 1 para dar otro número a verificar o escribe 2 para salir')\n",
    "\n",
    "    # Para todos los números positivos mayores a uno vamos a verificar si es primo.\n",
    "    else:\n",
    "        if verifica_primo(a):\n",
    "            print(a, 'es primo \\n')\n",
    "            b = input('Escribe 1 para encontrar el siguiente número primo o 2 para dar otro número. '\n",
    "                'Puedes salir del programa con la tecla \"ESC\" o con cualquier otro número.')\n",
    "            b = float(b)\n",
    "            b = int(b)\n",
    "\n",
    "            if b == 1:\n",
    "                while b == 1:\n",
    "                    while True:\n",
    "                        a += 1\n",
    "                        if verifica_primo(a):\n",
    "                            print(a, 'es el siguiente número primo')\n",
    "                            break\n",
    "                    b = input('Escribe 1 para encontrar el siguiente número primo o 2 para dar otro número. '\n",
    "                        'Puedes salir del programa con la tecla \"ESC\" o con cualquier otro número.')\n",
    "                    b = float(b)\n",
    "                    b = int(b)\n",
    "\n",
    "            if b == 2:\n",
    "                continue\n",
    "            else:\n",
    "                break\n",
    "\n",
    "        else:\n",
    "            print(a, 'no es primo')           \n",
    "            b = input('Escribe 1 para encontrar el siguiente número que sí sea primo o 2 para verificar otro número. '\n",
    "                'Puedes salir del programa con la tecla \"ESC\" o con cualquier otro número.')\n",
    "            b = float(b)\n",
    "            b = int(b)\n",
    "\n",
    "            while b == 1:\n",
    "                while True:\n",
    "                    a += 1\n",
    "                    if verifica_primo(a):\n",
    "                        print(a, 'es el siguiente número primo')\n",
    "                        break\n",
    "                b = input('Escribe 1 para encontrar el siguiente número primo o 2 para dar otro número. '\n",
    "                    'Puedes salir del programa con la tecla \"ESC\" o con cualquier otro número.')\n",
    "                b = float(b)\n",
    "                b = int(b)\n",
    "\n",
    "            if b == 2:\n",
    "                continue\n",
    "            else:\n",
    "                break\n",
    "                    \n"
   ]
  },
  {
   "cell_type": "code",
   "execution_count": 4,
   "metadata": {},
   "outputs": [
    {
     "name": "stdout",
     "output_type": "stream",
     "text": [
      "102\n"
     ]
    }
   ],
   "source": [
    "# 15) Crear un ciclo while que encuentre dentro del rango de \n",
    "# 100 a 300 el primer número divisible por 3 y además sea\n",
    "# múltiplo de 6\n",
    "\n",
    "x = 100\n",
    "\n",
    "while x < 301:\n",
    "    if x % 3 == 0 and x % 6 == 0:\n",
    "        print(x)\n",
    "        break\n",
    "    x += 1"
   ]
  }
 ],
 "metadata": {
  "kernelspec": {
   "display_name": "Python 3.10.8 64-bit",
   "language": "python",
   "name": "python3"
  },
  "language_info": {
   "codemirror_mode": {
    "name": "ipython",
    "version": 3
   },
   "file_extension": ".py",
   "mimetype": "text/x-python",
   "name": "python",
   "nbconvert_exporter": "python",
   "pygments_lexer": "ipython3",
   "version": "3.10.8"
  },
  "orig_nbformat": 4,
  "vscode": {
   "interpreter": {
    "hash": "be0442737b7318fa7ad3b13af002331592740854ffc0bd4e6d4b05a822eb54b5"
   }
  }
 },
 "nbformat": 4,
 "nbformat_minor": 2
}
