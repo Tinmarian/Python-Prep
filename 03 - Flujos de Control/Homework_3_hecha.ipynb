{
 "cells": [
  {
   "cell_type": "markdown",
   "metadata": {},
   "source": [
    "## Tarea 3: Flujos de Control"
   ]
  },
  {
   "cell_type": "code",
   "execution_count": 3,
   "metadata": {},
   "outputs": [
    {
     "name": "stdout",
     "output_type": "stream",
     "text": [
      "5\n"
     ]
    }
   ],
   "source": [
    "# 1) Crear una variable que contenga un elemento del conjunto de\n",
    "# números enteros y luego imprimir por pantalla si es mayor \n",
    "# o menor a cero\n",
    "\n",
    "a = 5\n",
    "if a < 0:\n",
    "    print(a)\n",
    "elif a > 0:\n",
    "    print(a)\n"
   ]
  },
  {
   "cell_type": "code",
   "execution_count": 6,
   "metadata": {},
   "outputs": [
    {
     "name": "stdout",
     "output_type": "stream",
     "text": [
      "Los tipos de dato de ambas variables son el mismo\n"
     ]
    }
   ],
   "source": [
    "# 2) Crear dos variables y un condicional que informe si \n",
    "# son del mismo tipo de dato\n",
    "\n",
    "a = 'hola'\n",
    "b = '1'\n",
    "\n",
    "if type(a) == type(b):\n",
    "    print('Los tipos de dato de ambas variables son el mismo')\n",
    "else:\n",
    "    print('Los tipos de datos no son iguales')"
   ]
  },
  {
   "cell_type": "code",
   "execution_count": 9,
   "metadata": {},
   "outputs": [
    {
     "name": "stdout",
     "output_type": "stream",
     "text": [
      "El número 1 es impar\n",
      "El número 2 es par\n",
      "El número 3 es impar\n",
      "El número 4 es par\n",
      "El número 5 es impar\n",
      "El número 6 es par\n",
      "El número 7 es impar\n",
      "El número 8 es par\n",
      "El número 9 es impar\n",
      "El número 10 es par\n",
      "El número 11 es impar\n",
      "El número 12 es par\n",
      "El número 13 es impar\n",
      "El número 14 es par\n",
      "El número 15 es impar\n",
      "El número 16 es par\n",
      "El número 17 es impar\n",
      "El número 18 es par\n",
      "El número 19 es impar\n",
      "El número 20 es par\n"
     ]
    }
   ],
   "source": [
    "# 3) Para los valores enteros del 1 al 20, imprimir por pantalla \n",
    "# si es par o impar\n",
    "\n",
    "for i in range(1,21):\n",
    "    if i % 2 == 0:\n",
    "        print('El número', i, 'es par')\n",
    "    else:\n",
    "        print('El número', i, 'es impar')"
   ]
  },
  {
   "cell_type": "code",
   "execution_count": 11,
   "metadata": {},
   "outputs": [
    {
     "name": "stdout",
     "output_type": "stream",
     "text": [
      "0\n",
      "1\n",
      "8\n",
      "27\n",
      "64\n",
      "125\n"
     ]
    }
   ],
   "source": [
    "# 4) En un ciclo for mostrar para los valores entre 0 y 5 \n",
    "# el resultado de elevarlo a la potencia igual a 3\n",
    "\n",
    "for i in range(0,6):\n",
    "    print(i**3)"
   ]
  },
  {
   "cell_type": "code",
   "execution_count": 17,
   "metadata": {},
   "outputs": [
    {
     "name": "stdout",
     "output_type": "stream",
     "text": [
      "7 ciclos:\n",
      "Ciclo 1\n",
      "Ciclo 2\n",
      "Ciclo 3\n",
      "Ciclo 4\n",
      "Ciclo 5\n",
      "Ciclo 6\n",
      "Ciclo 7\n"
     ]
    }
   ],
   "source": [
    "# 5) Crear una variable que contenga un número entero y \n",
    "# realizar un ciclo for la misma cantidad de ciclos\n",
    "\n",
    "a = 7\n",
    "print(i, 'ciclos:')\n",
    "for i in range(1,a+1):\n",
    "    print('Ciclo', i)\n"
   ]
  },
  {
   "cell_type": "code",
   "execution_count": 30,
   "metadata": {},
   "outputs": [
    {
     "name": "stdout",
     "output_type": "stream",
     "text": [
      "1307674368000\n"
     ]
    }
   ],
   "source": [
    "# 6) Utilizar un ciclo while para realizar el factorial de un \n",
    "# número guardado en una variable, sólo si la variable contiene \n",
    "# un número entero mayor a 0\n",
    "\n",
    "i = 1\n",
    "x = 15\n",
    "\n",
    "while x > 0:\n",
    "    i = i * x\n",
    "    x -= 1  \n",
    "\n",
    "print(i)"
   ]
  },
  {
   "cell_type": "code",
   "execution_count": 37,
   "metadata": {},
   "outputs": [
    {
     "name": "stdout",
     "output_type": "stream",
     "text": [
      "Esta es la vuelta 1 de 3 vueltas\n",
      "Esta es la vuelta 2 de 3 vueltas\n",
      "Esta es la vuelta 3 de 3 vueltas\n",
      "Esta es la vuelta 1 de 2 vueltas\n",
      "Esta es la vuelta 2 de 2 vueltas\n",
      "Esta es la vuelta 1 de 1 vueltas\n"
     ]
    }
   ],
   "source": [
    "# 7) Crear un ciclo for dentro de un ciclo while\n",
    "\n",
    "x = 3\n",
    "\n",
    "while x > 0:\n",
    "    for i in range(1,x+1):\n",
    "        print('Esta es la vuelta', i, 'de', x, 'vueltas')\n",
    "    x -= 1\n"
   ]
  },
  {
   "cell_type": "code",
   "execution_count": null,
   "metadata": {},
   "outputs": [],
   "source": [
    "# 8) Crear un ciclo while dentro de un ciclo for\n",
    "\n",
    "for i in range(1,6):\n",
    "    while i > 1:\n",
    "        print(i)"
   ]
  }
 ],
 "metadata": {
  "kernelspec": {
   "display_name": "Python 3.10.8 64-bit",
   "language": "python",
   "name": "python3"
  },
  "language_info": {
   "codemirror_mode": {
    "name": "ipython",
    "version": 3
   },
   "file_extension": ".py",
   "mimetype": "text/x-python",
   "name": "python",
   "nbconvert_exporter": "python",
   "pygments_lexer": "ipython3",
   "version": "3.10.8"
  },
  "orig_nbformat": 4,
  "vscode": {
   "interpreter": {
    "hash": "be0442737b7318fa7ad3b13af002331592740854ffc0bd4e6d4b05a822eb54b5"
   }
  }
 },
 "nbformat": 4,
 "nbformat_minor": 2
}
