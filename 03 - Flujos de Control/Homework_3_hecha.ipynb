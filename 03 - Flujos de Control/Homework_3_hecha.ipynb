{
 "cells": [
  {
   "cell_type": "markdown",
   "metadata": {},
   "source": [
    "## Tarea 3: Flujos de Control"
   ]
  },
  {
   "cell_type": "code",
   "execution_count": 3,
   "metadata": {},
   "outputs": [
    {
     "name": "stdout",
     "output_type": "stream",
     "text": [
      "5\n"
     ]
    }
   ],
   "source": [
    "# 1) Crear una variable que contenga un elemento del conjunto de\n",
    "# números enteros y luego imprimir por pantalla si es mayor \n",
    "# o menor a cero\n",
    "\n",
    "a = 5\n",
    "if a < 0:\n",
    "    print(a)\n",
    "elif a > 0:\n",
    "    print(a)\n"
   ]
  },
  {
   "cell_type": "code",
   "execution_count": 6,
   "metadata": {},
   "outputs": [
    {
     "name": "stdout",
     "output_type": "stream",
     "text": [
      "Los tipos de dato de ambas variables son el mismo\n"
     ]
    }
   ],
   "source": [
    "# 2) Crear dos variables y un condicional que informe si \n",
    "# son del mismo tipo de dato\n",
    "\n",
    "a = 'hola'\n",
    "b = '1'\n",
    "\n",
    "if type(a) == type(b):\n",
    "    print('Los tipos de dato de ambas variables son el mismo')\n",
    "else:\n",
    "    print('Los tipos de datos no son iguales')"
   ]
  },
  {
   "cell_type": "code",
   "execution_count": 9,
   "metadata": {},
   "outputs": [
    {
     "name": "stdout",
     "output_type": "stream",
     "text": [
      "El número 1 es impar\n",
      "El número 2 es par\n",
      "El número 3 es impar\n",
      "El número 4 es par\n",
      "El número 5 es impar\n",
      "El número 6 es par\n",
      "El número 7 es impar\n",
      "El número 8 es par\n",
      "El número 9 es impar\n",
      "El número 10 es par\n",
      "El número 11 es impar\n",
      "El número 12 es par\n",
      "El número 13 es impar\n",
      "El número 14 es par\n",
      "El número 15 es impar\n",
      "El número 16 es par\n",
      "El número 17 es impar\n",
      "El número 18 es par\n",
      "El número 19 es impar\n",
      "El número 20 es par\n"
     ]
    }
   ],
   "source": [
    "# 3) Para los valores enteros del 1 al 20, imprimir por pantalla \n",
    "# si es par o impar\n",
    "\n",
    "for i in range(1,21):\n",
    "    if i % 2 == 0:\n",
    "        print('El número', i, 'es par')\n",
    "    else:\n",
    "        print('El número', i, 'es impar')"
   ]
  },
  {
   "cell_type": "code",
   "execution_count": 11,
   "metadata": {},
   "outputs": [
    {
     "name": "stdout",
     "output_type": "stream",
     "text": [
      "0\n",
      "1\n",
      "8\n",
      "27\n",
      "64\n",
      "125\n"
     ]
    }
   ],
   "source": [
    "# 4) En un ciclo for mostrar para los valores entre 0 y 5 \n",
    "# el resultado de elevarlo a la potencia igual a 3\n",
    "\n",
    "for i in range(0,6):\n",
    "    print(i**3)"
   ]
  },
  {
   "cell_type": "code",
   "execution_count": 17,
   "metadata": {},
   "outputs": [
    {
     "name": "stdout",
     "output_type": "stream",
     "text": [
      "7 ciclos:\n",
      "Ciclo 1\n",
      "Ciclo 2\n",
      "Ciclo 3\n",
      "Ciclo 4\n",
      "Ciclo 5\n",
      "Ciclo 6\n",
      "Ciclo 7\n"
     ]
    }
   ],
   "source": [
    "# 5) Crear una variable que contenga un número entero y \n",
    "# realizar un ciclo for la misma cantidad de ciclos\n",
    "\n",
    "a = 7\n",
    "print(i, 'ciclos:')\n",
    "for i in range(1,a+1):\n",
    "    print('Ciclo', i)\n"
   ]
  },
  {
   "cell_type": "code",
   "execution_count": 30,
   "metadata": {},
   "outputs": [
    {
     "name": "stdout",
     "output_type": "stream",
     "text": [
      "1307674368000\n"
     ]
    }
   ],
   "source": [
    "# 6) Utilizar un ciclo while para realizar el factorial de un \n",
    "# número guardado en una variable, sólo si la variable contiene \n",
    "# un número entero mayor a 0\n",
    "\n",
    "i = 1\n",
    "x = 15\n",
    "\n",
    "while x > 0:\n",
    "    i = i * x\n",
    "    x -= 1  \n",
    "\n",
    "print(i)"
   ]
  },
  {
   "cell_type": "code",
   "execution_count": 37,
   "metadata": {},
   "outputs": [
    {
     "name": "stdout",
     "output_type": "stream",
     "text": [
      "Esta es la vuelta 1 de 3 vueltas\n",
      "Esta es la vuelta 2 de 3 vueltas\n",
      "Esta es la vuelta 3 de 3 vueltas\n",
      "Esta es la vuelta 1 de 2 vueltas\n",
      "Esta es la vuelta 2 de 2 vueltas\n",
      "Esta es la vuelta 1 de 1 vueltas\n"
     ]
    }
   ],
   "source": [
    "# 7) Crear un ciclo for dentro de un ciclo while\n",
    "\n",
    "x = 3\n",
    "\n",
    "while x > 0:\n",
    "    for i in range(1,x+1):\n",
    "        print('Esta es la vuelta', i, 'de', x, 'vueltas')\n",
    "    x -= 1\n"
   ]
  },
  {
   "cell_type": "code",
   "execution_count": 7,
   "metadata": {},
   "outputs": [
    {
     "name": "stdout",
     "output_type": "stream",
     "text": [
      "1\n",
      "2\n",
      "3\n",
      "4\n",
      "5\n",
      "6\n",
      "7\n",
      "8\n",
      "9\n"
     ]
    }
   ],
   "source": [
    "# 8) Crear un ciclo while dentro de un ciclo for\n",
    "\n",
    "x = 10\n",
    "\n",
    "for i in range(1,x+1):\n",
    "    while i < x:\n",
    "        print(i)\n",
    "        break"
   ]
  },
  {
   "cell_type": "code",
   "execution_count": 20,
   "metadata": {},
   "outputs": [
    {
     "data": {
      "text/plain": [
       "[0, 1, 2, 3, 5, 7, 11, 13, 17, 19, 23, 29]"
      ]
     },
     "execution_count": 20,
     "metadata": {},
     "output_type": "execute_result"
    }
   ],
   "source": [
    "# 9) Imprimir los números primos existentes entre 0 y 30\n",
    "\n",
    "def verifica_primo(numero):\n",
    "    es_primo = True\n",
    "    for i in range(2,numero):\n",
    "        if numero % i == 0:\n",
    "            es_primo = False\n",
    "    return es_primo\n",
    "\n",
    "def extrae_primos(lista):\n",
    "    lista_primos = []\n",
    "    for elemento in lista:\n",
    "        if verifica_primo(elemento):\n",
    "            lista_primos.append(elemento)\n",
    "    return lista_primos\n",
    "\n",
    "\n",
    "j = list(range(0,31))\n",
    "\n",
    "extrae_primos(j)"
   ]
  },
  {
   "cell_type": "code",
   "execution_count": 19,
   "metadata": {},
   "outputs": [],
   "source": [
    "# 10) ¿Se puede mejorar el proceso del punto 9? Utilizar \n",
    "# las sentencias break y/ó continue para tal fin\n",
    "\n"
   ]
  },
  {
   "cell_type": "code",
   "execution_count": 21,
   "metadata": {},
   "outputs": [],
   "source": [
    "# 11) En los puntos 9 y 10, se diseño un código que encuentra \n",
    "# números primos y además se lo optimizó. \n",
    "# ¿Es posible saber en qué medida se optimizó?\n",
    "\n"
   ]
  },
  {
   "cell_type": "code",
   "execution_count": 22,
   "metadata": {},
   "outputs": [],
   "source": [
    "# 12) Si la cantidad de números que se evalúa es mayor a treinta, \n",
    "# esa optimización crece?\n",
    "\n"
   ]
  },
  {
   "cell_type": "code",
   "execution_count": 31,
   "metadata": {},
   "outputs": [
    {
     "name": "stdout",
     "output_type": "stream",
     "text": [
      "108\n",
      "120\n",
      "132\n",
      "144\n",
      "156\n",
      "168\n",
      "180\n",
      "192\n",
      "204\n",
      "216\n",
      "228\n",
      "240\n",
      "252\n",
      "264\n",
      "276\n",
      "288\n",
      "300\n"
     ]
    }
   ],
   "source": [
    "# 13) Aplicando continue, armar un ciclo while que solo imprima \n",
    "# los valores divisibles por 12, dentro del rango de números \n",
    "# de 100 a 300\n",
    "\n",
    "x = 100\n",
    "\n",
    "while x < 301:\n",
    "    if x % 12 == 0:\n",
    "        print(x)\n",
    "    x += 1\n",
    "    continue\n"
   ]
  },
  {
   "cell_type": "code",
   "execution_count": 35,
   "metadata": {},
   "outputs": [],
   "source": [
    "# 14) Utilizar la función **input()** que permite hacer ingresos \n",
    "# por teclado, para encontrar números primos y dar la opción \n",
    "# al usario de buscar el siguiente\n",
    "\n",
    "print('Ingresa un número para verificar si es primo')\n",
    "\n",
    "verifica_primo()\n"
   ]
  },
  {
   "cell_type": "code",
   "execution_count": 4,
   "metadata": {},
   "outputs": [
    {
     "name": "stdout",
     "output_type": "stream",
     "text": [
      "102\n"
     ]
    }
   ],
   "source": [
    "# 15) Crear un ciclo while que encuentre dentro del rango de \n",
    "# 100 a 300 el primer número divisible por 3 y además sea\n",
    "# múltiplo de 6\n",
    "\n",
    "x = 100\n",
    "\n",
    "while x < 301:\n",
    "    if x % 3 == 0 and x % 6 == 0:\n",
    "        print(x)\n",
    "        break\n",
    "    x += 1"
   ]
  }
 ],
 "metadata": {
  "kernelspec": {
   "display_name": "Python 3.10.8 64-bit",
   "language": "python",
   "name": "python3"
  },
  "language_info": {
   "codemirror_mode": {
    "name": "ipython",
    "version": 3
   },
   "file_extension": ".py",
   "mimetype": "text/x-python",
   "name": "python",
   "nbconvert_exporter": "python",
   "pygments_lexer": "ipython3",
   "version": "3.10.8"
  },
  "orig_nbformat": 4,
  "vscode": {
   "interpreter": {
    "hash": "be0442737b7318fa7ad3b13af002331592740854ffc0bd4e6d4b05a822eb54b5"
   }
  }
 },
 "nbformat": 4,
 "nbformat_minor": 2
}
