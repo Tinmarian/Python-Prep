{
 "cells": [
  {
   "cell_type": "markdown",
   "metadata": {},
   "source": [
    "## Tarea 6 : Funciones"
   ]
  },
  {
   "cell_type": "code",
   "execution_count": 2,
   "metadata": {},
   "outputs": [
    {
     "data": {
      "text/plain": [
       "True"
      ]
     },
     "execution_count": 2,
     "metadata": {},
     "output_type": "execute_result"
    }
   ],
   "source": [
    "# 1) Crear una función que reciba un número como parámetro y devuelva True si es primo \n",
    "# y False si no lo es\n",
    "\n",
    "def fprimo(numero):\n",
    "    primo = True\n",
    "    if numero < 2:\n",
    "        primo = False\n",
    "    else:\n",
    "        for i in range(2, int(numero/2) + 1):\n",
    "            if numero % i == 0:\n",
    "                primo = False\n",
    "                break\n",
    "    return primo\n",
    "fprimo(23)\n"
   ]
  },
  {
   "cell_type": "code",
   "execution_count": 79,
   "metadata": {},
   "outputs": [
    {
     "data": {
      "text/plain": [
       "[2, 3, 5, 7, 11, 13, 17, 19, 23, 29]"
      ]
     },
     "execution_count": 79,
     "metadata": {},
     "output_type": "execute_result"
    }
   ],
   "source": [
    "# 2) Utilizando la función del punto 1, realizar otra función que reciba de parámetro \n",
    "# una lista de números y devuelva sólo aquellos que son primos en otra lista\n",
    "\n",
    "n = 30\n",
    "lis = list(range(0,n))\n",
    "\n",
    "def lisprimo(lista):\n",
    "    lis1 = []\n",
    "    for i in lista:\n",
    "        if fprimo(i):\n",
    "            lis1.append(i)\n",
    "    return lis1\n",
    "\n",
    "lisprimo(lis)"
   ]
  },
  {
   "cell_type": "code",
   "execution_count": 82,
   "metadata": {},
   "outputs": [
    {
     "name": "stdout",
     "output_type": "stream",
     "text": [
      "None\n"
     ]
    }
   ],
   "source": [
    "lis = list(range(0,n))"
   ]
  },
  {
   "cell_type": "code",
   "execution_count": 47,
   "metadata": {},
   "outputs": [
    {
     "data": {
      "text/plain": [
       "'La moda es 5 y se repite 8 veces'"
      ]
     },
     "execution_count": 47,
     "metadata": {},
     "output_type": "execute_result"
    }
   ],
   "source": [
    "# 3) Crear una función que al recibir una lista de números, devuelva el que más se repite \n",
    "# y cuántas veces lo hace. Si hay más de un \"más repetido\", que devuelva cualquiera\n",
    "\n",
    "lis = [0,0,2,2,2,5,4,8,8,4,4,8,5,5,0,0,0,6,6,5,5,5,5,5,6,6,6,6,6,6]\n",
    "\n",
    "def moda(lista):\n",
    "\n",
    "    x = []\n",
    "    for i in list(set(lista)):\n",
    "        x.append(lista.count(i))\n",
    "        lis2 = list(zip(list(set(lista)),x))\n",
    "    for j in range(1,len(lis2)):\n",
    "        if lis2[j][1] > lis2[j-1][1]:\n",
    "            y = lis2[j][0]    \n",
    "\n",
    "    return f'La moda es {y} y se repite {max(x)} veces'\n",
    "\n",
    "moda(lis)"
   ]
  },
  {
   "cell_type": "code",
   "execution_count": 231,
   "metadata": {},
   "outputs": [
    {
     "data": {
      "text/plain": [
       "('La moda es 1 y se repite 9 veces',\n",
       " [(0, 5),\n",
       "  (1, 9),\n",
       "  (2, 3),\n",
       "  (4, 3),\n",
       "  (5, 9),\n",
       "  (6, 9),\n",
       "  (8, 3),\n",
       "  (24, 1),\n",
       "  (28, 1),\n",
       "  (35, 1)])"
      ]
     },
     "execution_count": 231,
     "metadata": {},
     "output_type": "execute_result"
    }
   ],
   "source": [
    "# 4) A la función del punto 3, agregar un parámetro más, que permita elegir si se \n",
    "# requiere el menor o el mayor de los mas repetidos.\n",
    "\n",
    "lis = [0,0,,2,5,4,8,8,4,4,8,5,5,0,0,0,6,6,5,5,5,5,5,5,6,6,6,6,6,6,6,1,1,1,1,1,1,1,1,1]\n",
    "\n",
    "def moda(lista, max):\n",
    "\n",
    "    x = []\n",
    "    z = 0\n",
    "    lis2 = list(set(lista))\n",
    "\n",
    "    if len(lista) == 0:\n",
    "        return None\n",
    "\n",
    "    lis2.sort(reverse=max)\n",
    "        \n",
    "    for i in lis2:\n",
    "        x.append(lista.count(i))\n",
    "        lis3 = list(zip(lis2,x))\n",
    "    for j in range(1,len(lis3)):\n",
    "        if lis3[j][1] > z:\n",
    "            y = lis3[j][0]\n",
    "            z = lis3[j][1]\n",
    "        \n",
    "    return f'La moda es {y} y se repite {z} veces', lis3\n",
    "\n",
    "moda(lis, False) "
   ]
  },
  {
   "cell_type": "code",
   "execution_count": 236,
   "metadata": {},
   "outputs": [
    {
     "data": {
      "text/plain": [
       "('celsius', 0, 'kelvin', 273.15, 273.15)"
      ]
     },
     "execution_count": 236,
     "metadata": {},
     "output_type": "execute_result"
    }
   ],
   "source": [
    "# 5) Crear una función que convierta entre grados Celsius, Farenheit y Kelvin\n",
    "\n",
    "# Fórmula 1\t: (°C × 9/5) + 32 = °F\n",
    "# Fórmula 2\t: °C + 273.15 = °K\n",
    "\n",
    "# Debe recibir 3 parámetros: el valor, la medida de orígen y la medida de destino\n",
    "\n",
    "def temperatura(origen, valor, destino):\n",
    "    \n",
    "    y = 'NaN'\n",
    "    \n",
    "    if (origen == 'celsius' and destino == 'farenheit'):\n",
    "        y = (valor*9/5) + 32\n",
    "    elif origen == 'celsius' and destino == 'kelvin':\n",
    "        y = valor + 273.15\n",
    "    elif origen == 'celsius' and destino == 'celsius':\n",
    "        y = valor\n",
    "    elif origen == 'farenheit' and destino == 'celsius':\n",
    "        y = (valor - 32)*5/9\n",
    "    elif origen == 'farenheit' and destino == 'kelvin':\n",
    "        y = (valor - 32)*5/9 + 273.15\n",
    "    elif origen == 'farenheit' and destino == 'farenheit':\n",
    "        y = valor\n",
    "    elif origen == 'kelvin' and destino == 'farenheit':\n",
    "        y = (valor - 273.15)*9/5 +32\n",
    "    elif origen == 'kelvin' and destino == 'celsius':\n",
    "        y = valor - 273.15\n",
    "    elif origen == 'kelvin' and destino == 'kelvin':\n",
    "        y = valor\n",
    "\n",
    "    if type(y) == int or type(y) == float:    \n",
    "        return origen, valor, destino, round(y,4), y\n",
    "    else:\n",
    "        return print('Recuerda que solo puedes convertir grados [celsius, farenheit, kelvin], y solo puedes obtener,'\n",
    "                     'como resultado, grados [celsius, farenheit, kelvin]')\n",
    "\n",
    "temperatura('celsius', 0, 'kelvin')"
   ]
  },
  {
   "cell_type": "code",
   "execution_count": 238,
   "metadata": {},
   "outputs": [
    {
     "name": "stdout",
     "output_type": "stream",
     "text": [
      "('celsius', 0, 'celsius', 0, 0)\n",
      "('celsius', 0, 'farenheit', 32.0, 32.0)\n",
      "('celsius', 0, 'kelvin', 273.15, 273.15)\n",
      "('farenheit', 0, 'celsius', -17.7778, -17.77777777777778)\n",
      "('farenheit', 0, 'farenheit', 0, 0)\n",
      "('farenheit', 0, 'kelvin', 255.3722, 255.3722222222222)\n",
      "('kelvin', 0, 'celsius', -273.15, -273.15)\n",
      "('kelvin', 0, 'farenheit', -459.67, -459.66999999999996)\n",
      "('kelvin', 0, 'kelvin', 0, 0)\n"
     ]
    }
   ],
   "source": [
    "# 6) Iterando una lista con los tres valores posibles de temperatura que recibe la \n",
    "# función del punto 5, hacer un print para cada combinación de los mismos:\n",
    "\n",
    "for i in ['celsius', 'farenheit', 'kelvin']:\n",
    "    for j in ['celsius', 'farenheit', 'kelvin']:\n",
    "        print(temperatura(i,0,j))"
   ]
  },
  {
   "cell_type": "code",
   "execution_count": 244,
   "metadata": {},
   "outputs": [
    {
     "data": {
      "text/plain": [
       "6"
      ]
     },
     "execution_count": 244,
     "metadata": {},
     "output_type": "execute_result"
    }
   ],
   "source": [
    "# 7) Armar una función que devuelva el factorial de un número. Tener en cuenta que \n",
    "# el usuario puede equivocarse y enviar de parámetro un número no entero o negativo\n",
    "\n",
    "def factorial(numero):\n",
    "\n",
    "    x = 1\n",
    "\n",
    "    if numero < 0:\n",
    "        print('Debes ingresar un entero que sea positivo')\n",
    "    elif type(numero) == str or type(numero) == float or type(numero) == bool or type(numero) == list or type(numero) == tuple:\n",
    "        print('El tipo de dato debe ser [int]')\n",
    "    else:\n",
    "        for i in range(1,numero+1):\n",
    "            x = x * i\n",
    "    return x\n",
    "\n",
    "factorial(3)"
   ]
  }
 ],
 "metadata": {
  "kernelspec": {
   "display_name": "Python 3.10.8 64-bit",
   "language": "python",
   "name": "python3"
  },
  "language_info": {
   "codemirror_mode": {
    "name": "ipython",
    "version": 3
   },
   "file_extension": ".py",
   "mimetype": "text/x-python",
   "name": "python",
   "nbconvert_exporter": "python",
   "pygments_lexer": "ipython3",
   "version": "3.10.8"
  },
  "orig_nbformat": 4,
  "vscode": {
   "interpreter": {
    "hash": "be0442737b7318fa7ad3b13af002331592740854ffc0bd4e6d4b05a822eb54b5"
   }
  }
 },
 "nbformat": 4,
 "nbformat_minor": 2
}
