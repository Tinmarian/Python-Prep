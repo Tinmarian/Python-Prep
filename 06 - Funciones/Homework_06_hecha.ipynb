{
 "cells": [
  {
   "cell_type": "markdown",
   "metadata": {},
   "source": [
    "## Tarea 6 : Funciones"
   ]
  },
  {
   "cell_type": "code",
   "execution_count": 9,
   "metadata": {},
   "outputs": [
    {
     "name": "stdout",
     "output_type": "stream",
     "text": [
      "True\n"
     ]
    },
    {
     "data": {
      "text/plain": [
       "bool"
      ]
     },
     "execution_count": 9,
     "metadata": {},
     "output_type": "execute_result"
    }
   ],
   "source": [
    "# 1) Crear una función que reciba un número como parámetro y devuelva True si es primo \n",
    "# y False si no lo es\n",
    "\n",
    "def fprimo(numero):\n",
    "    '''\n",
    "    Esta función permite conocer si el número ingresado, la variable \"numero\", es un \n",
    "    número primo o no. Devuelve la variable \"primo\" como tipo bool.\n",
    "    '''\n",
    "    primo = True\n",
    "    if numero < 2:\n",
    "        primo = False\n",
    "    else:\n",
    "        for i in range(2, int(numero/2) + 1):\n",
    "            if numero % i == 0:\n",
    "                primo = False\n",
    "                break\n",
    "    return primo\n",
    "print(fprimo(23))\n",
    "type(fprimo(23))"
   ]
  },
  {
   "cell_type": "code",
   "execution_count": 10,
   "metadata": {},
   "outputs": [
    {
     "data": {
      "text/plain": [
       "[2, 3, 5, 7, 11, 13, 17, 19, 23, 29]"
      ]
     },
     "execution_count": 10,
     "metadata": {},
     "output_type": "execute_result"
    }
   ],
   "source": [
    "# 2) Utilizando la función del punto 1, realizar otra función que reciba de parámetro \n",
    "# una lista de números y devuelva sólo aquellos que son primos en otra lista\n",
    "\n",
    "n = 30\n",
    "lis = list(range(0,n))\n",
    "\n",
    "def lisprimo(lista):\n",
    "    '''\n",
    "    Función que permite conocer todos los números primos que existen en una lista de\n",
    "    números enteros.\n",
    "    '''\n",
    "    lis1 = []\n",
    "    for i in lista:\n",
    "        if fprimo(i):\n",
    "            lis1.append(i)\n",
    "    return lis1\n",
    "\n",
    "lisprimo(lis)"
   ]
  },
  {
   "cell_type": "code",
   "execution_count": 11,
   "metadata": {},
   "outputs": [],
   "source": [
    "lis = list(range(0,n))"
   ]
  },
  {
   "cell_type": "code",
   "execution_count": 12,
   "metadata": {},
   "outputs": [
    {
     "data": {
      "text/plain": [
       "'La moda es 5 y se repite 8 veces'"
      ]
     },
     "execution_count": 12,
     "metadata": {},
     "output_type": "execute_result"
    }
   ],
   "source": [
    "# 3) Crear una función que al recibir una lista de números, devuelva el que más se repite \n",
    "# y cuántas veces lo hace. Si hay más de un \"más repetido\", que devuelva cualquiera\n",
    "\n",
    "lis = [0,0,2,2,2,5,4,8,8,4,4,8,5,5,0,0,0,6,6,5,5,5,5,5,6,6,6,6,6,6]\n",
    "\n",
    "def moda(lista):\n",
    "\n",
    "    '''\n",
    "    De una lista de números enteros, devuelve el valor más repetido y cuántas veces se \n",
    "    repitio\n",
    "    '''\n",
    "\n",
    "    x = []\n",
    "    for i in list(set(lista)):\n",
    "        x.append(lista.count(i))\n",
    "        lis2 = list(zip(list(set(lista)),x))\n",
    "    for j in range(1,len(lis2)):\n",
    "        if lis2[j][1] > lis2[j-1][1]:\n",
    "            y = lis2[j][0]    \n",
    "\n",
    "    return f'La moda es {y} y se repite {max(x)} veces'\n",
    "\n",
    "moda(lis)"
   ]
  },
  {
   "cell_type": "code",
   "execution_count": 37,
   "metadata": {},
   "outputs": [
    {
     "data": {
      "text/plain": [
       "('La moda es 6 y se repite 9 veces',\n",
       " [(8, 3), (6, 9), (5, 9), (4, 3), (2, 1), (1, 9), (0, 5)])"
      ]
     },
     "execution_count": 37,
     "metadata": {},
     "output_type": "execute_result"
    }
   ],
   "source": [
    "# 4) A la función del punto 3, agregar un parámetro más, que permita elegir si se \n",
    "# requiere el menor o el mayor de los mas repetidos.\n",
    "\n",
    "lis = [0,0,2,5,4,8,8,4,4,8,5,5,0,0,0,6,6,5,5,5,5,5,5,6,6,6,6,6,6,6,1,1,1,1,1,1,1,1,1]\n",
    "\n",
    "def moda(lista, max):\n",
    "\n",
    "    '''\n",
    "    De una lista de números enteros, devuelve el valor más repetido y cuántas veces se \n",
    "    repitio, y si hay más de 1 número que se repitio la máxima cantidad de veces, \n",
    "    puede regresar el mayor o el menor de dicho grupo.\n",
    "    '''\n",
    "\n",
    "    x = []\n",
    "    z = 0\n",
    "    lis2 = list(set(lista))\n",
    "\n",
    "    if len(lista) == 0:\n",
    "        return None\n",
    "\n",
    "    lis2.sort(reverse=max)\n",
    "        \n",
    "    for i in lis2:\n",
    "        x.append(lista.count(i))\n",
    "        lis3 = list(zip(lis2,x))\n",
    "    for j in range(1,len(lis3)):\n",
    "        if lis3[j][1] > z:\n",
    "            y = lis3[j][0]\n",
    "            z = lis3[j][1]\n",
    "        \n",
    "    return f'La moda es {y} y se repite {z} veces', lis3\n",
    "\n",
    "moda(lis, True) "
   ]
  },
  {
   "cell_type": "code",
   "execution_count": 15,
   "metadata": {},
   "outputs": [
    {
     "data": {
      "text/plain": [
       "('celsius', 0, 'kelvin', 273.15, 273.15)"
      ]
     },
     "execution_count": 15,
     "metadata": {},
     "output_type": "execute_result"
    }
   ],
   "source": [
    "# 5) Crear una función que convierta entre grados Celsius, Farenheit y Kelvin\n",
    "\n",
    "# Fórmula 1\t: (°C × 9/5) + 32 = °F\n",
    "# Fórmula 2\t: °C + 273.15 = °K\n",
    "\n",
    "# Debe recibir 3 parámetros: el valor, la medida de orígen y la medida de destino\n",
    "\n",
    "def temperatura(origen, valor, destino):\n",
    "\n",
    "    '''\n",
    "    Esta función permite obtener la temperatura en 3 escalas diferentes \n",
    "    [fahrenheit, celsius, kelvin], y solo acepta dichas escalas como input y un valor\n",
    "    del tipo int o float\n",
    "    '''\n",
    "    \n",
    "    y = 'NaN'\n",
    "    \n",
    "    if (origen == 'celsius' and destino == 'farenheit'):\n",
    "        y = (valor*9/5) + 32\n",
    "    elif origen == 'celsius' and destino == 'kelvin':\n",
    "        y = valor + 273.15\n",
    "    elif origen == 'celsius' and destino == 'celsius':\n",
    "        y = valor\n",
    "    elif origen == 'farenheit' and destino == 'celsius':\n",
    "        y = (valor - 32)*5/9\n",
    "    elif origen == 'farenheit' and destino == 'kelvin':\n",
    "        y = (valor - 32)*5/9 + 273.15\n",
    "    elif origen == 'farenheit' and destino == 'farenheit':\n",
    "        y = valor\n",
    "    elif origen == 'kelvin' and destino == 'farenheit':\n",
    "        y = (valor - 273.15)*9/5 +32\n",
    "    elif origen == 'kelvin' and destino == 'celsius':\n",
    "        y = valor - 273.15\n",
    "    elif origen == 'kelvin' and destino == 'kelvin':\n",
    "        y = valor\n",
    "\n",
    "    if type(y) == int or type(y) == float:    \n",
    "        return origen, valor, destino, round(y,4), y\n",
    "    else:\n",
    "        return print('Recuerda que solo puedes convertir grados [celsius, farenheit,'\n",
    "                    'kelvin], y solo puedes obtener,''como resultado, grados [celsius, farenheit, kelvin]')\n",
    "\n",
    "temperatura('celsius', 0, 'kelvin')"
   ]
  },
  {
   "cell_type": "code",
   "execution_count": 35,
   "metadata": {},
   "outputs": [
    {
     "name": "stdout",
     "output_type": "stream",
     "text": [
      "De 0 grados celsius a grados celsius = 0\n",
      "De 0 grados celsius a grados farenheit = 32.0\n",
      "De 0 grados celsius a grados kelvin = 273.15\n",
      "De 0 grados farenheit a grados celsius = -17.7778\n",
      "De 0 grados farenheit a grados farenheit = 0\n",
      "De 0 grados farenheit a grados kelvin = 255.3722\n",
      "De 0 grados kelvin a grados celsius = -273.15\n",
      "De 0 grados kelvin a grados farenheit = -459.67\n",
      "De 0 grados kelvin a grados kelvin = 0\n"
     ]
    }
   ],
   "source": [
    "# 6) Iterando una lista con los tres valores posibles de temperatura que recibe la \n",
    "# función del punto 5, hacer un print para cada combinación de los mismos:\n",
    "\n",
    "for i in ['celsius', 'farenheit', 'kelvin']:\n",
    "    for j in ['celsius', 'farenheit', 'kelvin']:\n",
    "        print('De', temperatura(i,0,j)[1], 'grados', temperatura(i,0,j)[0],\n",
    "         'a grados', temperatura(i,0,j)[2], '=', temperatura(i,0,j)[3])\n"
   ]
  },
  {
   "cell_type": "code",
   "execution_count": 38,
   "metadata": {},
   "outputs": [
    {
     "data": {
      "text/plain": [
       "39916800"
      ]
     },
     "execution_count": 38,
     "metadata": {},
     "output_type": "execute_result"
    }
   ],
   "source": [
    "# 7) Armar una función que devuelva el factorial de un número. Tener en cuenta que \n",
    "# el usuario puede equivocarse y enviar de parámetro un número no entero o negativo\n",
    "\n",
    "def factorial(numero):\n",
    "\n",
    "    '''\n",
    "    Función factorial sin recurrencia. Necesita un input de tipo int.  \n",
    "    '''\n",
    "\n",
    "    x = 1\n",
    "\n",
    "    if numero < 0:\n",
    "        print('Debes ingresar un entero que sea positivo')\n",
    "    #elif type(numero) == str or type(numero) == float or type(numero) == bool or type(numero) == list or type(numero) == tuple:\n",
    "    elif type(numero) != int:\n",
    "        print('El tipo de dato debe ser [int]')\n",
    "    else:\n",
    "        for i in range(1,numero+1):\n",
    "            x = x * i\n",
    "    return x\n",
    "\n",
    "factorial(11)"
   ]
  },
  {
   "cell_type": "code",
   "execution_count": 46,
   "metadata": {},
   "outputs": [
    {
     "data": {
      "text/plain": [
       "120"
      ]
     },
     "execution_count": 46,
     "metadata": {},
     "output_type": "execute_result"
    }
   ],
   "source": [
    "# Ahora veamos la función mediante recurrencia de la misma función. Al parecer, funciona\n",
    "# como un loop con una restricción\n",
    "\n",
    "\n",
    "def Factorial(numero):\n",
    "\n",
    "    '''\n",
    "    Función factorial con recurrencia. Necesita un input de tipo int.  \n",
    "    '''\n",
    "\n",
    "    if type(numero) != int:\n",
    "        return 'Necesitas ingresar un número entero positivo'\n",
    "    if numero < 0:\n",
    "        return 'Necesitas ingresar un número entero positivo'\n",
    "    if numero > 1:\n",
    "        numero = numero * Factorial(numero-1)\n",
    "\n",
    "    return numero\n",
    "\n",
    "Factorial(5)"
   ]
  }
 ],
 "metadata": {
  "kernelspec": {
   "display_name": "Python 3.10.8 64-bit",
   "language": "python",
   "name": "python3"
  },
  "language_info": {
   "codemirror_mode": {
    "name": "ipython",
    "version": 3
   },
   "file_extension": ".py",
   "mimetype": "text/x-python",
   "name": "python",
   "nbconvert_exporter": "python",
   "pygments_lexer": "ipython3",
   "version": "3.10.8"
  },
  "orig_nbformat": 4,
  "vscode": {
   "interpreter": {
    "hash": "be0442737b7318fa7ad3b13af002331592740854ffc0bd4e6d4b05a822eb54b5"
   }
  }
 },
 "nbformat": 4,
 "nbformat_minor": 2
}
