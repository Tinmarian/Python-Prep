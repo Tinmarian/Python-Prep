{
 "cells": [
  {
   "cell_type": "markdown",
   "metadata": {},
   "source": [
    "## Tarea 7: Clases y Programación Orientada a Objetos"
   ]
  },
  {
   "cell_type": "code",
   "execution_count": 2,
   "metadata": {},
   "outputs": [],
   "source": [
    "# 1) Crear la clase vehículo que contenga los atributos:<br> Color<br> \n",
    "# Si es moto, auto, camioneta ó camión<br> Cilindrada del motor\n",
    "\n",
    "class vehiculo:\n",
    "\n",
    "    def __init__(self, Color, Tipo, Cc) -> None:\n",
    "        self.x1 = Color\n",
    "        self.x2 = Tipo\n",
    "        self.x3 = Cc\n",
    "        #pass"
   ]
  },
  {
   "cell_type": "code",
   "execution_count": 3,
   "metadata": {},
   "outputs": [],
   "source": [
    "# 2) A la clase Vehiculo creada en el punto 1, agregar los siguientes métodos:<br>\n",
    "# Acelerar<br>\n",
    "# Frenar<br>\n",
    "# Doblar<br>\n",
    "\n",
    "class vehiculo:\n",
    "\n",
    "    def __init__(self, Color, Tipo, Tipo_de_Cc) -> None:\n",
    "        self.x1 = Color\n",
    "        self.x2 = Tipo\n",
    "        self.x3 = Tipo_de_Cc\n",
    "\n",
    "    def Acelerar(self):\n",
    "        return 'Suena el motor acelerando'\n",
    "\n",
    "    def Frenar(self):\n",
    "        pass\n",
    "\n",
    "    def Doblar(self):\n",
    "        return 'Aceleración centrípeta en el vehículo'"
   ]
  },
  {
   "cell_type": "code",
   "execution_count": 9,
   "metadata": {},
   "outputs": [
    {
     "name": "stdout",
     "output_type": "stream",
     "text": [
      "Aceleración centrípeta en el vehículo\n",
      "Suena el motor acelerando\n",
      "None\n"
     ]
    }
   ],
   "source": [
    "y1 = vehiculo('Azul', 'Carro', 'C')\n",
    "y2 = vehiculo('Blanco con Rojo', 'Avión', 'A')\n",
    "y3 = vehiculo('Negro', 'Moto', 'M')\n",
    "\n",
    "\n",
    "print(y1.Doblar())\n",
    "print(y1.Acelerar())\n",
    "print(y1.Frenar())\n"
   ]
  },
  {
   "cell_type": "code",
   "execution_count": null,
   "metadata": {},
   "outputs": [],
   "source": []
  }
 ],
 "metadata": {
  "kernelspec": {
   "display_name": "Python 3.10.8 64-bit",
   "language": "python",
   "name": "python3"
  },
  "language_info": {
   "codemirror_mode": {
    "name": "ipython",
    "version": 3
   },
   "file_extension": ".py",
   "mimetype": "text/x-python",
   "name": "python",
   "nbconvert_exporter": "python",
   "pygments_lexer": "ipython3",
   "version": "3.10.8"
  },
  "orig_nbformat": 4,
  "vscode": {
   "interpreter": {
    "hash": "be0442737b7318fa7ad3b13af002331592740854ffc0bd4e6d4b05a822eb54b5"
   }
  }
 },
 "nbformat": 4,
 "nbformat_minor": 2
}
