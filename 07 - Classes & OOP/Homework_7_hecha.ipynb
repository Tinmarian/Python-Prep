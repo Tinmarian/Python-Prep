{
 "cells": [
  {
   "cell_type": "markdown",
   "metadata": {},
   "source": [
    "# Tarea 7: Clases y Programación Orientada a Objetos"
   ]
  },
  {
   "cell_type": "markdown",
   "metadata": {},
   "source": [
    "### 1) Crear la clase vehículo que contenga los atributos: Color; Si es moto, auto, camioneta ó camión; Cilindrada del motor."
   ]
  },
  {
   "cell_type": "code",
   "execution_count": 1,
   "metadata": {},
   "outputs": [],
   "source": [
    "class vehiculo:\n",
    "\n",
    "    def __init__(self, Color, Tipo, Cc):\n",
    "        self.x1 = Color\n",
    "        self.x2 = Tipo\n",
    "        self.x3 = Cc\n",
    "        #pass"
   ]
  },
  {
   "cell_type": "markdown",
   "metadata": {},
   "source": [
    "### 2) A la clase Vehiculo creada en el punto 1, agregar los siguientes métodos:<br>\n",
    "##### Acelerar\n",
    "##### Frenar\n",
    "##### Doblar"
   ]
  },
  {
   "cell_type": "code",
   "execution_count": 2,
   "metadata": {},
   "outputs": [],
   "source": [
    "class vehiculo:\n",
    "\n",
    "    def __init__(self, Color, Tipo, Tipo_de_Cc):\n",
    "        self.x1 = Color\n",
    "        self.x2 = Tipo\n",
    "        self.x3 = Tipo_de_Cc\n",
    "\n",
    "    def Acelerar(self):\n",
    "        return 'Suena el motor acelerando'\n",
    "\n",
    "    def Frenar(self):\n",
    "        return 'Se detiene el vehículo'\n",
    "\n",
    "    def Doblar(self):\n",
    "        return 'Aceleración centrípeta en el vehículo'"
   ]
  },
  {
   "cell_type": "markdown",
   "metadata": {},
   "source": [
    "### 3) Instanciar 3 objetos de la clase vehículo y ejecutar sus métodos, probar luego el resultado"
   ]
  },
  {
   "cell_type": "code",
   "execution_count": 3,
   "metadata": {},
   "outputs": [
    {
     "name": "stdout",
     "output_type": "stream",
     "text": [
      "Aceleración centrípeta en el vehículo\n",
      "Suena el motor acelerando\n",
      "Se detiene el vehículo\n",
      "Aceleración centrípeta en el vehículo\n",
      "Suena el motor acelerando\n",
      "Se detiene el vehículo\n",
      "Aceleración centrípeta en el vehículo\n",
      "Suena el motor acelerando\n",
      "Se detiene el vehículo\n"
     ]
    }
   ],
   "source": [
    "y1 = vehiculo('Azul', 'Carro', 'C')\n",
    "y2 = vehiculo('Blanco con Rojo', 'Avión', 'A')\n",
    "y3 = vehiculo('Negro', 'Moto', 'M')\n",
    "\n",
    "\n",
    "print(y1.Doblar())\n",
    "print(y1.Acelerar())\n",
    "print(y1.Frenar())\n",
    "print(y2.Doblar())\n",
    "print(y2.Acelerar())\n",
    "print(y2.Frenar())\n",
    "print(y3.Doblar())\n",
    "print(y3.Acelerar())\n",
    "print(y3.Frenar())\n"
   ]
  },
  {
   "cell_type": "markdown",
   "metadata": {},
   "source": [
    "### 4) Agregar a la clase Vehiculo, un método que muestre su estado, es decir, a que velocidad se encuentra y su dirección. Y otro método que muestre color, tipo y cilindrada"
   ]
  },
  {
   "cell_type": "code",
   "execution_count": 4,
   "metadata": {},
   "outputs": [],
   "source": [
    "class vehiculo:\n",
    "\n",
    "     def __init__(self, Color, Tipo, Tipo_de_Cc):\n",
    "        self.x1 = Color\n",
    "        self.x2 = Tipo\n",
    "        self.x3 = Tipo_de_Cc\n",
    "\n",
    "     def Acelerar(self):\n",
    "        return 'Suena el motor acelerando'\n",
    "\n",
    "     def Frenar(self):\n",
    "        pass\n",
    "\n",
    "     def Doblar(self):\n",
    "        return 'Aceleración centrípeta en el vehículo'\n",
    "             \n",
    "     def Estado(self):\n",
    "          if self.x3 == 'C':\n",
    "               return 'Carro: Velocidad máxima de 220 km/hr en las 2 dimensiones de las calles'\n",
    "          if self.x3 == 'A':\n",
    "               return 'Avión: Velocidad máxima de 800 km/hr en las 3 dimensiones espaciales'\n",
    "          if self.x3 == 'M':\n",
    "               return 'Moto: Velocidad máxima de 150 km/hr en las 2 dimensiones de las calles'\n",
    "\n",
    "     def Presentar(self):\n",
    "        if self.x3 == 'M':\n",
    "            return f'Soy una {self.x2} de color {self.x1} y cilindrada [x]'\n",
    "        else:\n",
    "            return f'Soy un {self.x2} de color {self.x1} y cilindrada [x]'     "
   ]
  },
  {
   "cell_type": "code",
   "execution_count": 5,
   "metadata": {},
   "outputs": [
    {
     "name": "stdout",
     "output_type": "stream",
     "text": [
      "Soy un Avión de color Blanco con Rojo y cilindrada [x]\n",
      "Moto: Velocidad máxima de 150 km/hr en las 2 dimensiones de las calles\n"
     ]
    }
   ],
   "source": [
    "# Al parecer, después de que se modifica una clase, agregando nuevos métodos o \n",
    "# modificando uno o algunos ya existentes, se deben instanciar todos los objetos que \n",
    "# estaban instanciados en la clase antigua. De no hacerlo, los objetos instanciados no\n",
    "# actualizaran a los nuevos métodos o a los métodos modificados.\n",
    "\n",
    "\n",
    "y1 = vehiculo('Azul', 'Carro', 'C')\n",
    "y2 = vehiculo('Blanco con Rojo', 'Avión', 'A')\n",
    "y3 = vehiculo('Negro', 'Moto', 'M')\n",
    "\n",
    "print(y2.Presentar())\n",
    "print(y3.Estado())"
   ]
  },
  {
   "cell_type": "markdown",
   "metadata": {},
   "source": [
    "### 5) Crear una clase que permita utilizar las funciones creadas en la práctica del módulo 6\n",
    "##### Verificar Primo\n",
    "##### Valor modal\n",
    "##### Conversión grados\n",
    "##### Factorial"
   ]
  },
  {
   "cell_type": "code",
   "execution_count": 6,
   "metadata": {},
   "outputs": [],
   "source": [
    "class basicmathfuncs():\n",
    "\n",
    "    def __init__(self,valor,gradosi,gradosf):\n",
    "        self.x1 = valor\n",
    "        self.x2 = gradosi\n",
    "        self.x3 = gradosf\n",
    "\n",
    "\n",
    "    def fprimo(self):\n",
    "        '''\n",
    "        Esta función permite conocer si el número ingresado, la variable \"numero\", es un \n",
    "        número primo o no. Devuelve la variable \"primo\" como tipo bool.\n",
    "        '''\n",
    "        primo = True\n",
    "        if self.x1 < 2:\n",
    "            primo = False\n",
    "        else:\n",
    "            for i in range(2, int(self.x1/2) + 1):\n",
    "                if self.x1 % i == 0:\n",
    "                    primo = False\n",
    "                    break\n",
    "        return primo\n",
    "\n",
    "    def moda(self):\n",
    "\n",
    "        '''\n",
    "        De una lista de números enteros, devuelve el self.x1 más repetido y cuántas veces se \n",
    "        repitio\n",
    "        '''\n",
    "\n",
    "        x = []\n",
    "        z = 0\n",
    "        for i in list(set(self.x1)):\n",
    "            x.append(self.x1.count(i))\n",
    "            lis2 = list(zip(list(set(self.x1)),x))\n",
    "        for j in range(0,len(lis2)):\n",
    "            if lis2[j][1] > z:\n",
    "                y = lis2[j][0]    \n",
    "                z = lis2[j][1]\n",
    "        return f'La moda es {y} y se repite {max(x)} veces'\n",
    "\n",
    "    def temperatura(self):\n",
    "\n",
    "        '''\n",
    "        Esta función permite obtener la temperatura en 3 escalas diferentes \n",
    "        [fahrenheit, celsius, kelvin], y solo acepta dichas escalas como input y un self.x1\n",
    "        del tipo int o float\n",
    "        '''\n",
    "        \n",
    "        y = 'NaN'\n",
    "        \n",
    "        if (self.x2 == 'celsius' and self.x3 == 'farenheit'):\n",
    "            y = (self.x1*9/5) + 32\n",
    "        elif self.x2 == 'celsius' and self.x3 == 'kelvin':\n",
    "            y = self.x1 + 273.15\n",
    "        elif self.x2 == 'celsius' and self.x3 == 'celsius':\n",
    "            y = self.x1\n",
    "        elif self.x2 == 'farenheit' and self.x3 == 'celsius':\n",
    "            y = (self.x1 - 32)*5/9\n",
    "        elif self.x2 == 'farenheit' and self.x3 == 'kelvin':\n",
    "            y = (self.x1 - 32)*5/9 + 273.15\n",
    "        elif self.x2 == 'farenheit' and self.x3 == 'farenheit':\n",
    "            y = self.x1\n",
    "        elif self.x2 == 'kelvin' and self.x3 == 'farenheit':\n",
    "            y = (self.x1 - 273.15)*9/5 +32\n",
    "        elif self.x2 == 'kelvin' and self.x3 == 'celsius':\n",
    "            y = self.x1 - 273.15\n",
    "        elif self.x2 == 'kelvin' and self.x3 == 'kelvin':\n",
    "            y = self.x1\n",
    "\n",
    "        if type(y) == int or type(y) == float:    \n",
    "            return f'{self.x1} grados {self.x2} equivalen a {y} grados {self.x3}'\n",
    "        else:\n",
    "            return print('Recuerda que solo puedes convertir grados [celsius, farenheit,'\n",
    "                        'kelvin], y solo puedes obtener,''como resultado, grados [celsius, farenheit, kelvin]')\n",
    "\n",
    "    def factorial(self):\n",
    "\n",
    "        '''\n",
    "        Función factorial sin recurrencia. Necesita un input de tipo int.  \n",
    "        '''\n",
    "\n",
    "        x = 1\n",
    "\n",
    "        if self.x1 < 0:\n",
    "            print('Debes ingresar un entero que sea positivo')\n",
    "        #elif type(numero) == str or type(numero) == float or type(numero) == bool or type(numero) == list or type(numero) == tuple:\n",
    "        elif type(self.x1) != int:\n",
    "            print('El tipo de dato debe ser [int]')\n",
    "        else:\n",
    "            for i in range(1,self.x1+1):\n",
    "                x = x * i\n",
    "        return x\n",
    "        "
   ]
  },
  {
   "cell_type": "markdown",
   "metadata": {},
   "source": [
    "### 6) Probar las funciones incorporadas en la clase del punto 5\n"
   ]
  },
  {
   "cell_type": "code",
   "execution_count": 7,
   "metadata": {},
   "outputs": [
    {
     "name": "stdout",
     "output_type": "stream",
     "text": [
      "False\n",
      "La moda es 0 y se repite 8 veces\n",
      "273.15 grados kelvin equivalen a 0.0 grados celsius\n",
      "30414093201713378043612608166064768844377641568960512000000000000\n"
     ]
    }
   ],
   "source": [
    "primo = basicmathfuncs(21,0,0)\n",
    "lista = basicmathfuncs([0,0,0,0,0,0,0,0,1,2,3,4,5,5,5,6,4,8,9,8,5,5,5],0,0)\n",
    "temperatura = basicmathfuncs(273.15,'kelvin', 'celsius')\n",
    "factorial = basicmathfuncs(50,0,0)\n",
    "\n",
    "print(primo.fprimo())\n",
    "print(lista.moda())\n",
    "print(temperatura.temperatura())\n",
    "print(factorial.factorial())"
   ]
  },
  {
   "cell_type": "markdown",
   "metadata": {},
   "source": [
    "### 5.1) Otra forma de conseguir lo anterior es creando una clase sin atributos, como sigue:\n"
   ]
  },
  {
   "cell_type": "code",
   "execution_count": 2,
   "metadata": {},
   "outputs": [],
   "source": [
    "class tools1():\n",
    "\n",
    "    def __init__(self):\n",
    "        pass\n",
    "\n",
    "    def fprimo(self, numero):\n",
    "        '''\n",
    "        Esta función permite conocer si el número ingresado, la variable \"numero\", es un \n",
    "        número primo o no. Devuelve la variable \"primo\" como tipo bool.\n",
    "        '''\n",
    "        primo = True\n",
    "        if numero < 2:\n",
    "            primo = False\n",
    "        else:\n",
    "            for i in range(2, int(numero/2) + 1):\n",
    "                if numero % i == 0:\n",
    "                    primo = False\n",
    "                    break\n",
    "        return primo\n",
    "\n",
    "    def moda(self, lista):\n",
    "\n",
    "        '''\n",
    "        De una lista de números enteros, devuelve el valor más repetido y cuántas veces se \n",
    "        repitio\n",
    "        '''\n",
    "\n",
    "        x = []\n",
    "        z = 0\n",
    "        for i in list(set(lista)):\n",
    "            x.append(lista.count(i))\n",
    "            lis2 = list(zip(list(set(lista)),x))\n",
    "        for j in range(0,len(lis2)):\n",
    "            if lis2[j][1] > z:\n",
    "                y = lis2[j][0]    \n",
    "                z = lis2[j][1]\n",
    "        return f'La moda es {y} y se repite {max(x)} veces'\n",
    "\n",
    "    def temperatura(self, valor, igrados, fgrados):\n",
    "\n",
    "        '''\n",
    "        Esta función permite obtener la temperatura en 3 escalas diferentes \n",
    "        [fahrenheit, celsius, kelvin], y solo acepta dichas escalas como input y un valor\n",
    "        del tipo int o float\n",
    "        '''\n",
    "        \n",
    "        y = 'NaN'\n",
    "        \n",
    "        if (igrados == 'celsius' and fgrados == 'farenheit'):\n",
    "            y = (valor*9/5) + 32\n",
    "        elif igrados == 'celsius' and fgrados == 'kelvin':\n",
    "            y = valor + 273.15\n",
    "        elif igrados == 'celsius' and fgrados == 'celsius':\n",
    "            y = valor\n",
    "        elif igrados == 'farenheit' and fgrados == 'celsius':\n",
    "            y = (valor - 32)*5/9\n",
    "        elif igrados == 'farenheit' and fgrados == 'kelvin':\n",
    "            y = (valor - 32)*5/9 + 273.15\n",
    "        elif igrados == 'farenheit' and fgrados == 'farenheit':\n",
    "            y = valor\n",
    "        elif igrados == 'kelvin' and fgrados == 'farenheit':\n",
    "            y = (valor - 273.15)*9/5 +32\n",
    "        elif igrados == 'kelvin' and fgrados == 'celsius':\n",
    "            y = valor - 273.15\n",
    "        elif igrados == 'kelvin' and fgrados == 'kelvin':\n",
    "            y = valor\n",
    "\n",
    "        if type(y) == int or type(y) == float:    \n",
    "            return f'{valor} grados {igrados} equivalen a {y} grados {fgrados}'\n",
    "        else:\n",
    "            return print('Recuerda que solo puedes convertir grados [celsius, farenheit,'\n",
    "                        'kelvin], y solo puedes obtener,''como resultado, grados [celsius, farenheit, kelvin]')\n",
    "\n",
    "    def factorial(self,numero):\n",
    "\n",
    "        '''\n",
    "        Función factorial sin recurrencia. Necesita un input de tipo int.  \n",
    "        '''\n",
    "\n",
    "        x = 1\n",
    "\n",
    "        if numero < 0:\n",
    "            print('Debes ingresar un entero que sea positivo')\n",
    "        #elif type(numero) == str or type(numero) == float or type(numero) == bool or type(numero) == list or type(numero) == tuple:\n",
    "        elif type(numero) != int:\n",
    "            print('El tipo de dato debe ser [int]')\n",
    "        else:\n",
    "            for i in range(1,numero+1):\n",
    "                x = x * i\n",
    "        return x"
   ]
  },
  {
   "cell_type": "code",
   "execution_count": 4,
   "metadata": {},
   "outputs": [],
   "source": [
    "h = tools1()"
   ]
  },
  {
   "cell_type": "code",
   "execution_count": 5,
   "metadata": {},
   "outputs": [
    {
     "name": "stdout",
     "output_type": "stream",
     "text": [
      "0 grados kelvin equivalen a -459.66999999999996 grados farenheit\n",
      "La moda es 0 y se repite 3 veces\n",
      "True\n",
      "39916800\n"
     ]
    }
   ],
   "source": [
    "print(h.temperatura(0,'kelvin', 'farenheit'))\n",
    "print(h.moda([0,0,0,1,2,3]))\n",
    "print(h.fprimo(2))\n",
    "print(h.factorial(11))"
   ]
  },
  {
   "cell_type": "markdown",
   "metadata": {},
   "source": [
    "### 7) Es necesario que la clase creada en el punto 5 contenga una lista, sobre la cual se apliquen las funciones incorporadas"
   ]
  },
  {
   "cell_type": "code",
   "execution_count": 11,
   "metadata": {},
   "outputs": [],
   "source": [
    "# Aquí utilice el formato que ofrece HENRY para la solución de este ejercicio.\n",
    "\n",
    "class tools2():\n",
    "\n",
    "    def __init__(self, lista):\n",
    "        self.x1 = lista\n",
    "\n",
    "# Funciones para una lista\n",
    "\n",
    "    def lprimo(self):\n",
    "        '''\n",
    "        Esta función imprime los números primos existentes en una lista.\n",
    "        '''\n",
    "        for j in self.x1:\n",
    "            if self.fprimo(j):\n",
    "                print(j)\n",
    "\n",
    "    def moda(self):\n",
    "\n",
    "        '''\n",
    "        De una lista de números enteros, devuelve el valor más repetido y cuántas veces \n",
    "        se repitio\n",
    "        '''\n",
    "\n",
    "        x = []\n",
    "        z = 0\n",
    "        for i in list(set(self.x1)):\n",
    "            x.append(self.x1.count(i))\n",
    "            lis2 = list(zip(list(set(self.x1)),x))\n",
    "        for j in range(0,len(lis2)):\n",
    "            if lis2[j][1] > z:\n",
    "                y = lis2[j][0]    \n",
    "                z = lis2[j][1]\n",
    "        return f'La moda es {y} y se repite {max(x)} veces'\n",
    "\n",
    "    def ltemperatura(self,igrados,fgrados):\n",
    "        '''\n",
    "        Interpreta los números de una lista como grados celsius/kelvin/farenheit  y los\n",
    "        convierte a grados celsius/kelvin/farenheit. El primer argumento es la escala\n",
    "        inicial y el segundo argumento la escala a la que deseamos pasar\n",
    "        '''\n",
    "        for j in self.x1:\n",
    "            print(f'{j} grados {igrados} equivalen a {self.temperatura(j,igrados,fgrados)} grados {fgrados}')\n",
    "\n",
    "    def lfactorial(self):\n",
    "        for j in self.x1:\n",
    "            print(self.factorial(j))\n",
    "\n",
    "# Funciones para un solo dígito\n",
    "\n",
    "    def fprimo(self, numero):\n",
    "        '''\n",
    "        Esta función permite conocer si el número ingresado, la variable \"numero\", es un \n",
    "        número primo o no. Devuelve la variable \"primo\" como tipo bool.\n",
    "        '''\n",
    "        primo = True\n",
    "        if numero < 2:\n",
    "            primo = False\n",
    "        else:\n",
    "            for i in range(2, int(numero/2) + 1):\n",
    "                if numero % i == 0:\n",
    "                    primo = False\n",
    "                    break\n",
    "        return primo\n",
    "\n",
    "\n",
    "    def temperatura(self, valor, igrados, fgrados):\n",
    "\n",
    "        '''\n",
    "        Esta función permite obtener la temperatura en 3 escalas diferentes \n",
    "        [fahrenheit, celsius, kelvin], y solo acepta dichas escalas como input y un valor\n",
    "        del tipo int o float\n",
    "        '''\n",
    "        \n",
    "        y = 'NaN'\n",
    "        \n",
    "        if (igrados == 'celsius' and fgrados == 'farenheit'):\n",
    "            y = (valor*9/5) + 32\n",
    "        elif igrados == 'celsius' and fgrados == 'kelvin':\n",
    "            y = valor + 273.15\n",
    "        elif igrados == 'celsius' and fgrados == 'celsius':\n",
    "            y = valor\n",
    "        elif igrados == 'farenheit' and fgrados == 'celsius':\n",
    "            y = (valor - 32)*5/9\n",
    "        elif igrados == 'farenheit' and fgrados == 'kelvin':\n",
    "            y = (valor - 32)*5/9 + 273.15\n",
    "        elif igrados == 'farenheit' and fgrados == 'farenheit':\n",
    "            y = valor\n",
    "        elif igrados == 'kelvin' and fgrados == 'farenheit':\n",
    "            y = (valor - 273.15)*9/5 +32\n",
    "        elif igrados == 'kelvin' and fgrados == 'celsius':\n",
    "            y = valor - 273.15\n",
    "        elif igrados == 'kelvin' and fgrados == 'kelvin':\n",
    "            y = valor\n",
    "\n",
    "        if type(y) == int or type(y) == float:    \n",
    "            return y\n",
    "        else:\n",
    "            return print('Recuerda que solo puedes convertir grados [celsius, farenheit,'\n",
    "                        'kelvin], y solo puedes obtener,''como resultado, grados [celsius, farenheit, kelvin]')\n",
    "\n",
    "    def factorial(self,numero):\n",
    "\n",
    "        '''\n",
    "        Función factorial sin recurrencia. Necesita un input de tipo int.  \n",
    "        '''\n",
    "\n",
    "        x = 1\n",
    "\n",
    "        if numero < 0:\n",
    "            print('Debes ingresar un entero que sea positivo')\n",
    "        #elif type(numero) == str or type(numero) == float or type(numero) == bool or type(numero) == list or type(numero) == tuple:\n",
    "        elif type(numero) != int:\n",
    "            print('El tipo de dato debe ser [int]')\n",
    "        else:\n",
    "            for i in range(1,numero+1):\n",
    "                x = x * i\n",
    "        return x\n"
   ]
  },
  {
   "cell_type": "code",
   "execution_count": 12,
   "metadata": {},
   "outputs": [
    {
     "name": "stdout",
     "output_type": "stream",
     "text": [
      "2\n",
      "3\n",
      "3\n",
      "5\n",
      "7\n",
      "None\n"
     ]
    }
   ],
   "source": [
    "lis = [0,1,2,3,3,4,5,6,7,8,9]\n",
    "\n",
    "g = tools2(lis)\n",
    "\n",
    "print(g.lprimo())"
   ]
  },
  {
   "cell_type": "code",
   "execution_count": 13,
   "metadata": {},
   "outputs": [
    {
     "name": "stdout",
     "output_type": "stream",
     "text": [
      "La moda es 3 y se repite 2 veces\n"
     ]
    }
   ],
   "source": [
    "print(g.moda())"
   ]
  },
  {
   "cell_type": "code",
   "execution_count": 14,
   "metadata": {},
   "outputs": [
    {
     "name": "stdout",
     "output_type": "stream",
     "text": [
      "0 grados celsius equivalen a 273.15 grados kelvin\n",
      "1 grados celsius equivalen a 274.15 grados kelvin\n",
      "2 grados celsius equivalen a 275.15 grados kelvin\n",
      "3 grados celsius equivalen a 276.15 grados kelvin\n",
      "3 grados celsius equivalen a 276.15 grados kelvin\n",
      "4 grados celsius equivalen a 277.15 grados kelvin\n",
      "5 grados celsius equivalen a 278.15 grados kelvin\n",
      "6 grados celsius equivalen a 279.15 grados kelvin\n",
      "7 grados celsius equivalen a 280.15 grados kelvin\n",
      "8 grados celsius equivalen a 281.15 grados kelvin\n",
      "9 grados celsius equivalen a 282.15 grados kelvin\n",
      "None\n"
     ]
    }
   ],
   "source": [
    "print(g.ltemperatura('celsius', 'kelvin'))"
   ]
  },
  {
   "cell_type": "code",
   "execution_count": 15,
   "metadata": {},
   "outputs": [
    {
     "name": "stdout",
     "output_type": "stream",
     "text": [
      "1\n",
      "1\n",
      "2\n",
      "6\n",
      "6\n",
      "24\n",
      "120\n",
      "720\n",
      "5040\n",
      "40320\n",
      "362880\n",
      "None\n"
     ]
    }
   ],
   "source": [
    "print(g.lfactorial())"
   ]
  },
  {
   "cell_type": "markdown",
   "metadata": {},
   "source": [
    "### 7.1) Ahora creare la clase del punto 7 solo con los métodos iniciales\n"
   ]
  },
  {
   "cell_type": "code",
   "execution_count": 16,
   "metadata": {},
   "outputs": [],
   "source": [
    "# Ahora creare la clase del punto 7 solo con los métodos iniciales, a mi manera.\n",
    "\n",
    "class tools3():\n",
    "\n",
    "    def __init__(self, lista):\n",
    "        self.x1 = lista\n",
    "\n",
    "    def fprimo(self):\n",
    "        '''\n",
    "        Esta función permite conocer si el número ingresado, la variable \"numero\", es un \n",
    "        número primo o no. Devuelve la variable \"primo\" como tipo bool.\n",
    "        '''\n",
    "        for j in self.x1:\n",
    "            primo = True\n",
    "            if j < 2:\n",
    "                primo = False\n",
    "                print(j,primo)\n",
    "            else:\n",
    "                for i in range(2, int(j/2) + 1):\n",
    "                    if j % i == 0:\n",
    "                        primo = False\n",
    "                print(j,primo)\n",
    "                                  \n",
    "\n",
    "    def temperatura(self, igrados, fgrados):\n",
    "\n",
    "        '''\n",
    "        Esta función permite obtener la temperatura en 3 escalas diferentes \n",
    "        [fahrenheit, celsius, kelvin], y solo acepta dichas escalas como input y un valor\n",
    "        del tipo int o float\n",
    "        '''\n",
    "        \n",
    "        for j in self.x1:\n",
    "            y = 'NaN'\n",
    "            \n",
    "            if (igrados == 'celsius' and fgrados == 'farenheit'):\n",
    "                y = (j*9/5) + 32\n",
    "            elif igrados == 'celsius' and fgrados == 'kelvin':\n",
    "                y = j + 273.15\n",
    "            elif igrados == 'celsius' and fgrados == 'celsius':\n",
    "                y = j\n",
    "            elif igrados == 'farenheit' and fgrados == 'celsius':\n",
    "                y = (j - 32)*5/9\n",
    "            elif igrados == 'farenheit' and fgrados == 'kelvin':\n",
    "                y = (j - 32)*5/9 + 273.15\n",
    "            elif igrados == 'farenheit' and fgrados == 'farenheit':\n",
    "                y = j\n",
    "            elif igrados == 'kelvin' and fgrados == 'farenheit':\n",
    "                y = (j - 273.15)*9/5 +32\n",
    "            elif igrados == 'kelvin' and fgrados == 'celsius':\n",
    "                y = j - 273.15\n",
    "            elif igrados == 'kelvin' and fgrados == 'kelvin':\n",
    "                y = j\n",
    "\n",
    "            if type(y) == int or type(y) == float:    \n",
    "                print(igrados, '=', j, fgrados, '=', y)\n",
    "            else:\n",
    "                return print('Recuerda que solo puedes convertir grados [celsius, farenheit,'\n",
    "                            'kelvin], y solo puedes obtener,''como resultado, grados [celsius, farenheit, kelvin]')\n",
    "\n",
    "    def factorial(self):\n",
    "\n",
    "        '''\n",
    "        Función factorial sin recurrencia. Necesita un input de tipo int.  \n",
    "        '''\n",
    "        for j in self.x1:\n",
    "            x = 1\n",
    "\n",
    "            if j < 0:\n",
    "                print('Debes ingresar un entero que sea positivo')\n",
    "            #elif type(numero) == str or type(numero) == float or type(numero) == bool or type(numero) == list or type(numero) == tuple:\n",
    "            elif type(j) != int:\n",
    "                print('El tipo de dato debe ser [int]')\n",
    "            else:\n",
    "                for i in range(1,j+1):\n",
    "                    x = x * i\n",
    "            print(x)\n",
    "\n",
    "    def moda(self):\n",
    "\n",
    "        '''\n",
    "        De una lista de números enteros, devuelve el valor más repetido y cuántas veces \n",
    "        se repitio\n",
    "        '''\n",
    "\n",
    "        x = []\n",
    "        z = 0\n",
    "        for i in list(set(self.x1)):\n",
    "            x.append(self.x1.count(i))\n",
    "            lis2 = list(zip(list(set(self.x1)),x))\n",
    "        for j in range(0,len(lis2)):\n",
    "            if lis2[j][1] > z:\n",
    "                y = lis2[j][0]    \n",
    "                z = lis2[j][1]\n",
    "        return f'La moda es {y} y se repite {max(x)} veces'\n",
    "\n",
    "\n",
    "lis = [0,1,2,3,4,5,6,7,8,9,9]\n",
    "\n",
    "f = tools3(lis)"
   ]
  },
  {
   "cell_type": "code",
   "execution_count": 17,
   "metadata": {},
   "outputs": [
    {
     "name": "stdout",
     "output_type": "stream",
     "text": [
      "0 False\n",
      "1 False\n",
      "2 True\n",
      "3 True\n",
      "4 False\n",
      "5 True\n",
      "6 False\n",
      "7 True\n",
      "8 False\n",
      "9 False\n",
      "9 False\n"
     ]
    }
   ],
   "source": [
    "f.fprimo()"
   ]
  },
  {
   "cell_type": "code",
   "execution_count": 18,
   "metadata": {},
   "outputs": [
    {
     "name": "stdout",
     "output_type": "stream",
     "text": [
      "celsius = 0 kelvin = 273.15\n",
      "celsius = 1 kelvin = 274.15\n",
      "celsius = 2 kelvin = 275.15\n",
      "celsius = 3 kelvin = 276.15\n",
      "celsius = 4 kelvin = 277.15\n",
      "celsius = 5 kelvin = 278.15\n",
      "celsius = 6 kelvin = 279.15\n",
      "celsius = 7 kelvin = 280.15\n",
      "celsius = 8 kelvin = 281.15\n",
      "celsius = 9 kelvin = 282.15\n",
      "celsius = 9 kelvin = 282.15\n"
     ]
    }
   ],
   "source": [
    "f.temperatura('celsius','kelvin')"
   ]
  },
  {
   "cell_type": "code",
   "execution_count": 19,
   "metadata": {},
   "outputs": [
    {
     "name": "stdout",
     "output_type": "stream",
     "text": [
      "1\n",
      "1\n",
      "2\n",
      "6\n",
      "24\n",
      "120\n",
      "720\n",
      "5040\n",
      "40320\n",
      "362880\n",
      "362880\n"
     ]
    }
   ],
   "source": [
    "f.factorial()"
   ]
  },
  {
   "cell_type": "code",
   "execution_count": 20,
   "metadata": {},
   "outputs": [
    {
     "data": {
      "text/plain": [
       "'La moda es 9 y se repite 2 veces'"
      ]
     },
     "execution_count": 20,
     "metadata": {},
     "output_type": "execute_result"
    }
   ],
   "source": [
    "f.moda()"
   ]
  },
  {
   "cell_type": "markdown",
   "metadata": {},
   "source": [
    "### 8) Crear un archivo .py aparte y ubicar allí la clase generada en el punto anterior. Luego realizar la importación del módulo y probar alguna de sus funciones\n",
    "\n",
    "Cree un módulo que contiene la clase del punto 5 y 2 de sus métodos (funciones) por separado. Esto nos permite instanciar objetos para utilizar los métodos en dichos objetos o, si se requiere, utilizar las funciones por separado."
   ]
  },
  {
   "cell_type": "code",
   "execution_count": 21,
   "metadata": {},
   "outputs": [
    {
     "data": {
      "text/plain": [
       "'0 grados celsius equivalen a 273.15 grados kelvin'"
      ]
     },
     "execution_count": 21,
     "metadata": {},
     "output_type": "execute_result"
    }
   ],
   "source": [
    "from mimodulo import *\n",
    "\n",
    "h = tools1()\n",
    "\n",
    "h.temperatura(0,'celsius', 'kelvin')"
   ]
  },
  {
   "cell_type": "code",
   "execution_count": 16,
   "metadata": {},
   "outputs": [],
   "source": [
    "import mimodulo\n",
    "import importlib\n",
    "importlib.reload(mimodulo)\n",
    "from mimodulo import *"
   ]
  },
  {
   "cell_type": "code",
   "execution_count": 14,
   "metadata": {},
   "outputs": [
    {
     "data": {
      "text/plain": [
       "3628800"
      ]
     },
     "execution_count": 14,
     "metadata": {},
     "output_type": "execute_result"
    }
   ],
   "source": [
    "factorial(10)\n"
   ]
  },
  {
   "cell_type": "code",
   "execution_count": 19,
   "metadata": {},
   "outputs": [
    {
     "data": {
      "text/plain": [
       "True"
      ]
     },
     "execution_count": 19,
     "metadata": {},
     "output_type": "execute_result"
    }
   ],
   "source": [
    "fprimo(23)"
   ]
  },
  {
   "cell_type": "code",
   "execution_count": 17,
   "metadata": {},
   "outputs": [
    {
     "data": {
      "text/plain": [
       "3628800"
      ]
     },
     "execution_count": 17,
     "metadata": {},
     "output_type": "execute_result"
    }
   ],
   "source": [
    "n = modulo()\n",
    "\n",
    "n.factorial(10)"
   ]
  }
 ],
 "metadata": {
  "kernelspec": {
   "display_name": "Python 3.10.8 64-bit",
   "language": "python",
   "name": "python3"
  },
  "language_info": {
   "codemirror_mode": {
    "name": "ipython",
    "version": 3
   },
   "file_extension": ".py",
   "mimetype": "text/x-python",
   "name": "python",
   "nbconvert_exporter": "python",
   "pygments_lexer": "ipython3",
   "version": "3.10.8"
  },
  "orig_nbformat": 4,
  "vscode": {
   "interpreter": {
    "hash": "be0442737b7318fa7ad3b13af002331592740854ffc0bd4e6d4b05a822eb54b5"
   }
  }
 },
 "nbformat": 4,
 "nbformat_minor": 2
}
