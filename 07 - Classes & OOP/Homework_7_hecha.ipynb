{
 "cells": [
  {
   "cell_type": "markdown",
   "metadata": {},
   "source": [
    "## Tarea 7: Clases y Programación Orientada a Objetos"
   ]
  },
  {
   "cell_type": "code",
   "execution_count": 2,
   "metadata": {},
   "outputs": [],
   "source": [
    "# 1) Crear la clase vehículo que contenga los atributos:<br> Color<br> \n",
    "# Si es moto, auto, camioneta ó camión<br> Cilindrada del motor\n",
    "\n",
    "class vehiculo:\n",
    "\n",
    "    def __init__(self, Color, Tipo, Cc):\n",
    "        self.x1 = Color\n",
    "        self.x2 = Tipo\n",
    "        self.x3 = Cc\n",
    "        #pass"
   ]
  },
  {
   "cell_type": "code",
   "execution_count": 12,
   "metadata": {},
   "outputs": [],
   "source": [
    "# 2) A la clase Vehiculo creada en el punto 1, agregar los siguientes métodos:<br>\n",
    "# Acelerar<br>\n",
    "# Frenar<br>\n",
    "# Doblar<br>\n",
    "\n",
    "class vehiculo:\n",
    "\n",
    "    def __init__(self, Color, Tipo, Tipo_de_Cc):\n",
    "        self.x1 = Color\n",
    "        self.x2 = Tipo\n",
    "        self.x3 = Tipo_de_Cc\n",
    "\n",
    "    def Acelerar(self):\n",
    "        return 'Suena el motor acelerando'\n",
    "\n",
    "    def Frenar(self):\n",
    "        pass\n",
    "\n",
    "    def Doblar(self):\n",
    "        return 'Aceleración centrípeta en el vehículo'"
   ]
  },
  {
   "cell_type": "code",
   "execution_count": 14,
   "metadata": {},
   "outputs": [
    {
     "name": "stdout",
     "output_type": "stream",
     "text": [
      "Soy un Carro de color Azul\n",
      "Aceleración centrípeta en el vehículo\n",
      "Suena el motor acelerando\n",
      "None\n",
      "Soy un Avión de color Blanco con Rojo\n",
      "Aceleración centrípeta en el vehículo\n",
      "Suena el motor acelerando\n",
      "None\n",
      "Soy una Moto de color Negro\n",
      "Aceleración centrípeta en el vehículo\n",
      "Suena el motor acelerando\n",
      "None\n"
     ]
    }
   ],
   "source": [
    "# 3) Instanciar 3 objetos de la clase vehículo y ejecutar sus métodos, probar luego \n",
    "# el resultado\n",
    "y1 = vehiculo('Azul', 'Carro', 'C')\n",
    "y2 = vehiculo('Blanco con Rojo', 'Avión', 'A')\n",
    "y3 = vehiculo('Negro', 'Moto', 'M')\n",
    "\n",
    "\n",
    "print(y1.Doblar())\n",
    "print(y1.Acelerar())\n",
    "print(y1.Frenar())\n",
    "print(y2.Doblar())\n",
    "print(y2.Acelerar())\n",
    "print(y2.Frenar())\n",
    "print(y3.Doblar())\n",
    "print(y3.Acelerar())\n",
    "print(y3.Frenar())\n"
   ]
  },
  {
   "cell_type": "code",
   "execution_count": 38,
   "metadata": {},
   "outputs": [],
   "source": [
    "# 4) Agregar a la clase Vehiculo, un método que muestre su estado, es decir, a que \n",
    "# velocidad se encuentra y su dirección. Y otro método que muestre color, tipo y \n",
    "# cilindrada\n",
    "\n",
    "class vehiculo:\n",
    "\n",
    "     def __init__(self, Color, Tipo, Tipo_de_Cc):\n",
    "        self.x1 = Color\n",
    "        self.x2 = Tipo\n",
    "        self.x3 = Tipo_de_Cc\n",
    "\n",
    "     def Acelerar(self):\n",
    "        return 'Suena el motor acelerando'\n",
    "\n",
    "     def Frenar(self):\n",
    "        pass\n",
    "\n",
    "     def Doblar(self):\n",
    "        return 'Aceleración centrípeta en el vehículo'\n",
    "             \n",
    "     def Estado(self):\n",
    "          if self.x3 == 'C':\n",
    "               return 'Velocidad máxima de 220 km/hr en las 2 dimensiones de las calles'\n",
    "          if self.x3 == 'A':\n",
    "               return 'Velocidad máxima de 800 km/hr en las 3 dimensiones espaciales'\n",
    "          if self.x3 == 'M':\n",
    "               return 'Velocidad máxima de 150 km/hr en las 2 dimensiones de las calles'\n",
    "\n",
    "     def Presentar(self):\n",
    "        if self.x3 == 'M':\n",
    "            return f'Soy una {self.x2} de color {self.x1} con cilindrada [x]'\n",
    "        else:\n",
    "            return f'Soy un {self.x2} de color {self.x1} con cilindrada [x]'     "
   ]
  },
  {
   "cell_type": "code",
   "execution_count": 63,
   "metadata": {},
   "outputs": [
    {
     "data": {
      "text/plain": [
       "'Soy un Avión de color Blanco con Rojo con cilindrada [x]'"
      ]
     },
     "execution_count": 63,
     "metadata": {},
     "output_type": "execute_result"
    }
   ],
   "source": [
    "# Al parecer, después de que se modifica una clase, agregando nuevos métodos o \n",
    "# modificando uno o algunos ya existentes, se deben instanciar todos los objetos que \n",
    "# estaban instanciados en la clase antigua. De no hacerlo, los objetos instanciados no\n",
    "# actualizaran a los nuevos métodos o a los métodos modificados.\n",
    "\n",
    "\n",
    "y1 = vehiculo('Azul', 'Carro', 'C')\n",
    "y2 = vehiculo('Blanco con Rojo', 'Avión', 'A')\n",
    "y3 = vehiculo('Negro', 'Moto', 'M')\n",
    "\n",
    "y2.Presentar()\n"
   ]
  },
  {
   "cell_type": "code",
   "execution_count": 111,
   "metadata": {},
   "outputs": [],
   "source": [
    "# 5) Crear una clase que permita utilizar las funciones creadas en la práctica del \n",
    "# módulo 6:\n",
    "# Verificar Primo\n",
    "# Valor modal\n",
    "# Conversión grados\n",
    "# Factorial\n",
    "\n",
    "class basicmathfuncs():\n",
    "\n",
    "    def __init__(self,valor,gradosi,gradosf):\n",
    "        self.x1 = valor\n",
    "        self.x2 = gradosi\n",
    "        self.x3 = gradosf\n",
    "\n",
    "\n",
    "    def fprimo(self):\n",
    "        '''\n",
    "        Esta función permite conocer si el número ingresado, la variable \"numero\", es un \n",
    "        número primo o no. Devuelve la variable \"primo\" como tipo bool.\n",
    "        '''\n",
    "        primo = True\n",
    "        if self.x1 < 2:\n",
    "            primo = False\n",
    "        else:\n",
    "            for i in range(2, int(self.x1/2) + 1):\n",
    "                if self.x1 % i == 0:\n",
    "                    primo = False\n",
    "                    break\n",
    "        return primo\n",
    "\n",
    "    def moda(self):\n",
    "\n",
    "        '''\n",
    "        De una lista de números enteros, devuelve el valor más repetido y cuántas veces se \n",
    "        repitio\n",
    "        '''\n",
    "\n",
    "        x = []\n",
    "        z = 0\n",
    "        for i in list(set(self.x1)):\n",
    "            x.append(self.x1.count(i))\n",
    "            lis2 = list(zip(list(set(self.x1)),x))\n",
    "        for j in range(1,len(lis2)):\n",
    "            if lis2[j][1] > z:\n",
    "                y = lis2[j][0]    \n",
    "                z = lis2[j][1]\n",
    "        return f'La moda es {y} y se repite {max(x)} veces', lis2\n",
    "\n",
    "    def temperatura(self):\n",
    "\n",
    "        '''\n",
    "        Esta función permite obtener la temperatura en 3 escalas diferentes \n",
    "        [fahrenheit, celsius, kelvin], y solo acepta dichas escalas como input y un valor\n",
    "        del tipo int o float\n",
    "        '''\n",
    "        \n",
    "        y = 'NaN'\n",
    "        \n",
    "        if (self.x2 == 'celsius' and self.x3 == 'farenheit'):\n",
    "            y = (self.x1*9/5) + 32\n",
    "        elif self.x2 == 'celsius' and self.x3 == 'kelvin':\n",
    "            y = self.x1 + 273.15\n",
    "        elif self.x2 == 'celsius' and self.x3 == 'celsius':\n",
    "            y = self.x1\n",
    "        elif self.x2 == 'farenheit' and self.x3 == 'celsius':\n",
    "            y = (self.x1 - 32)*5/9\n",
    "        elif self.x2 == 'farenheit' and self.x3 == 'kelvin':\n",
    "            y = (self.x1 - 32)*5/9 + 273.15\n",
    "        elif self.x2 == 'farenheit' and self.x3 == 'farenheit':\n",
    "            y = self.x1\n",
    "        elif self.x2 == 'kelvin' and self.x3 == 'farenheit':\n",
    "            y = (self.x1 - 273.15)*9/5 +32\n",
    "        elif self.x2 == 'kelvin' and self.x3 == 'celsius':\n",
    "            y = self.x1 - 273.15\n",
    "        elif self.x2 == 'kelvin' and self.x3 == 'kelvin':\n",
    "            y = self.x1\n",
    "\n",
    "        if type(y) == int or type(y) == float:    \n",
    "            return self.x2, self.x1, self.x3, round(y,4), y\n",
    "        else:\n",
    "            return print('Recuerda que solo puedes convertir grados [celsius, farenheit,'\n",
    "                        'kelvin], y solo puedes obtener,''como resultado, grados [celsius, farenheit, kelvin]')\n",
    "\n",
    "    def factorial(self):\n",
    "\n",
    "        '''\n",
    "        Función factorial sin recurrencia. Necesita un input de tipo int.  \n",
    "        '''\n",
    "\n",
    "        x = 1\n",
    "\n",
    "        if self.x1 < 0:\n",
    "            print('Debes ingresar un entero que sea positivo')\n",
    "        #elif type(numero) == str or type(numero) == float or type(numero) == bool or type(numero) == list or type(numero) == tuple:\n",
    "        elif type(self.x1) != int:\n",
    "            print('El tipo de dato debe ser [int]')\n",
    "        else:\n",
    "            for i in range(1,self.x1+1):\n",
    "                x = x * i\n",
    "        return x\n",
    "        "
   ]
  },
  {
   "cell_type": "code",
   "execution_count": 121,
   "metadata": {},
   "outputs": [
    {
     "name": "stdout",
     "output_type": "stream",
     "text": [
      "False\n",
      "('La moda es 5 y se repite 6 veces', [(0, 1), (1, 1), (2, 1), (3, 1), (4, 2), (5, 6), (6, 1), (8, 2), (9, 1)])\n",
      "('kelvin', 273.15, 'celsius', 0.0, 0.0)\n",
      "30414093201713378043612608166064768844377641568960512000000000000\n"
     ]
    }
   ],
   "source": [
    "# 6) Probar las funciones incorporadas en la clase del punto 5\n",
    "\n",
    "primo = basicmathfuncs(21,0,0)\n",
    "lista = basicmathfuncs([0,1,2,3,4,5,5,5,6,4,8,9,8,5,5,5],0,0)\n",
    "temperatura = basicmathfuncs(273.15,'kelvin', 'celsius')\n",
    "factorial = basicmathfuncs(50,0,0)\n",
    "\n",
    "print(primo.fprimo())\n",
    "print(lista.moda())\n",
    "print(temperatura.temperatura())\n",
    "print(factorial.factorial())"
   ]
  },
  {
   "cell_type": "code",
   "execution_count": null,
   "metadata": {},
   "outputs": [],
   "source": [
    "# 7) Es necesario que la clase creada en el punto 5 contenga una lista, sobre la cual \n",
    "# se apliquen las funciones incorporadas"
   ]
  }
 ],
 "metadata": {
  "kernelspec": {
   "display_name": "Python 3.10.8 64-bit",
   "language": "python",
   "name": "python3"
  },
  "language_info": {
   "codemirror_mode": {
    "name": "ipython",
    "version": 3
   },
   "file_extension": ".py",
   "mimetype": "text/x-python",
   "name": "python",
   "nbconvert_exporter": "python",
   "pygments_lexer": "ipython3",
   "version": "3.10.8"
  },
  "orig_nbformat": 4,
  "vscode": {
   "interpreter": {
    "hash": "be0442737b7318fa7ad3b13af002331592740854ffc0bd4e6d4b05a822eb54b5"
   }
  }
 },
 "nbformat": 4,
 "nbformat_minor": 2
}
