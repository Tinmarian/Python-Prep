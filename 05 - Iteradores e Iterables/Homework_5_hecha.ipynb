{
 "cells": [
  {
   "cell_type": "markdown",
   "metadata": {},
   "source": [
    "## Tarea 5: Iteradores e iterables"
   ]
  },
  {
   "cell_type": "code",
   "execution_count": 27,
   "metadata": {},
   "outputs": [
    {
     "name": "stdout",
     "output_type": "stream",
     "text": [
      "[-15, -14, -13, -12, -11, -10, -9, -8, -7, -6, -5, -4, -3, -2, -1]\n"
     ]
    }
   ],
   "source": [
    "# 1) A partir de una lista vacía, utilizar un ciclo while para cargar allí números \n",
    "# negativos del -15 al -1\n",
    "\n",
    "lis1 = []\n",
    "i = -15\n",
    "\n",
    "while True:\n",
    "    if i == 0:\n",
    "        break\n",
    "    lis1.append(i)\n",
    "    i += 1\n",
    "print(lis1)"
   ]
  },
  {
   "cell_type": "code",
   "execution_count": 28,
   "metadata": {},
   "outputs": [
    {
     "name": "stdout",
     "output_type": "stream",
     "text": [
      "Sí\n"
     ]
    }
   ],
   "source": [
    "# 2) ¿Con un ciclo while sería posible recorrer la lista para imprimir sólo los números \n",
    "# pares?\n",
    "\n",
    "print('Sí')"
   ]
  },
  {
   "cell_type": "code",
   "execution_count": 29,
   "metadata": {},
   "outputs": [
    {
     "name": "stdout",
     "output_type": "stream",
     "text": [
      "-14\n",
      "-12\n",
      "-10\n",
      "-8\n",
      "-6\n",
      "-4\n",
      "-2\n"
     ]
    }
   ],
   "source": [
    "# 3) Resolver el punto anterior sin utilizar un ciclo while\n",
    "\n",
    "for i in lis1:\n",
    "    if i % 2 == 0:\n",
    "        print(i) "
   ]
  },
  {
   "cell_type": "code",
   "execution_count": 30,
   "metadata": {},
   "outputs": [
    {
     "name": "stdout",
     "output_type": "stream",
     "text": [
      "-15\n",
      "-14\n",
      "-13\n"
     ]
    }
   ],
   "source": [
    "# 4) Utilizar el iterable para recorrer sólo los primeros 3 elementos\n",
    "\n",
    "for i in range(0,3):\n",
    "    print(lis1[i])"
   ]
  },
  {
   "cell_type": "code",
   "execution_count": 31,
   "metadata": {},
   "outputs": [
    {
     "name": "stdout",
     "output_type": "stream",
     "text": [
      "[(0, -15), (1, -14), (2, -13), (3, -12), (4, -11), (5, -10), (6, -9), (7, -8), (8, -7), (9, -6), (10, -5), (11, -4), (12, -3), (13, -2), (14, -1)]\n"
     ]
    }
   ],
   "source": [
    "# 5) Utilizar la función **enumerate** para obtener dentro del iterable, tambien el índice \n",
    "# al que corresponde el elemento\n",
    "\n",
    "\n",
    "\n",
    "i = enumerate(lis1)\n",
    "lis2 = list(i)\n",
    "print(lis2)"
   ]
  },
  {
   "cell_type": "code",
   "execution_count": 40,
   "metadata": {},
   "outputs": [
    {
     "name": "stdout",
     "output_type": "stream",
     "text": [
      "[1, 2, 3, 4, 5, 6, 7, 8, 9, 10, 11, 12, 13, 14, 15, 16, 17, 18, 19, 20]\n"
     ]
    }
   ],
   "source": [
    "# 6) Dada la siguiente lista de números enteros entre 1 y 20, crear un ciclo donde se \n",
    "# completen los valores faltantes: lista = [1,2,5,7,8,10,13,14,15,17,20]\n",
    "\n",
    "lis3 = [1,2,5,7,8,10,13,14,15,17,20]\n",
    "\n",
    "for i in range(lis3[0],lis3[-1:][0]):\n",
    "    if i in lis3:\n",
    "        continue\n",
    "    elif i not in lis3:\n",
    "        lis3.insert(i-1,i)\n",
    "print(lis3)"
   ]
  },
  {
   "cell_type": "code",
   "execution_count": 56,
   "metadata": {},
   "outputs": [
    {
     "name": "stdout",
     "output_type": "stream",
     "text": [
      "[0, 1, 1, 2, 3, 5, 8, 13, 21, 34, 55, 89, 144, 233, 377, 610, 987, 1597, 2584, 4181, 6765, 10946, 17711, 28657, 46368, 75025, 121393, 196418, 317811, 514229, 832040]\n"
     ]
    }
   ],
   "source": [
    "# 7) La sucesión de Fibonacci es un listado de números que sigue la fórmula: <br>\n",
    "\n",
    "# n<sub>0</sub> = 0<br>\n",
    "# n<sub>1</sub> = 1<br>\n",
    "# n<sub>i</sub> = n<sub>i-1</sub> + n<sub>i-2</sub><br>\n",
    "\n",
    "# Crear una lista con los primeros treinta números de la sucesión.<br>\n",
    "\n",
    "n = []\n",
    "\n",
    "for i in range(0,31):\n",
    "    if i <= 1:\n",
    "        n.append(i)\n",
    "    elif i >= 2:\n",
    "        n.append(n[i-1] + n[i-2])\n",
    "print(n)\n",
    "    "
   ]
  },
  {
   "cell_type": "code",
   "execution_count": 58,
   "metadata": {},
   "outputs": [
    {
     "data": {
      "text/plain": [
       "2178308"
      ]
     },
     "execution_count": 58,
     "metadata": {},
     "output_type": "execute_result"
    }
   ],
   "source": [
    "# 8) Realizar la suma de todos elementos de la lista del punto anterior\n",
    "\n",
    "sum(n)"
   ]
  },
  {
   "cell_type": "code",
   "execution_count": 71,
   "metadata": {},
   "outputs": [
    {
     "name": "stdout",
     "output_type": "stream",
     "text": [
      "Par 1 (26,25): 1.6180339886704431\n",
      "Par 2 (27,26): 1.6180339887802426\n",
      "Par 3 (28,27): 1.618033988738303\n",
      "Par 4 (29,28): 1.6180339887543225\n",
      "Par 5 (30,29): 1.6180339887482036\n"
     ]
    }
   ],
   "source": [
    "# 9) La proporción aurea se expresa con una proporción matemática que nace el número \n",
    "# irracional Phi= 1,618… que los griegos llamaron número áureo. \n",
    "# El cuál se puede aproximar con la sucesión de Fibonacci. Con la lista del ejercicio \n",
    "# anterior, imprimir el cociente de los últimos 5 pares de dos números contiguos\n",
    "\n",
    "for i in list(enumerate(n))[-6:]:\n",
    "    if i[0] == 30:\n",
    "        break\n",
    "    print(f'Par {i[0]-24} ({i[0]+1},{i[0]}):', n[i[0]+1] / n[i[0]])\n"
   ]
  },
  {
   "cell_type": "code",
   "execution_count": 76,
   "metadata": {},
   "outputs": [
    {
     "data": {
      "text/plain": [
       "[(0, 'H'),\n",
       " (1, 'o'),\n",
       " (2, 'l'),\n",
       " (3, 'a'),\n",
       " (4, ' '),\n",
       " (5, 'M'),\n",
       " (6, 'u'),\n",
       " (7, 'n'),\n",
       " (8, 'd'),\n",
       " (9, 'o'),\n",
       " (10, '.'),\n",
       " (11, ' '),\n",
       " (12, 'E'),\n",
       " (13, 's'),\n",
       " (14, 't'),\n",
       " (15, 'o'),\n",
       " (16, ' '),\n",
       " (17, 'e'),\n",
       " (18, 's'),\n",
       " (19, ' '),\n",
       " (20, 'u'),\n",
       " (21, 'n'),\n",
       " (22, 'a'),\n",
       " (23, ' '),\n",
       " (24, 'p'),\n",
       " (25, 'r'),\n",
       " (26, 'a'),\n",
       " (27, 'c'),\n",
       " (28, 't'),\n",
       " (29, 'i'),\n",
       " (30, 'c'),\n",
       " (31, 'a'),\n",
       " (32, ' '),\n",
       " (33, 'd'),\n",
       " (34, 'e'),\n",
       " (35, 'l'),\n",
       " (36, ' '),\n",
       " (37, 'l'),\n",
       " (38, 'e'),\n",
       " (39, 'n'),\n",
       " (40, 'g'),\n",
       " (41, 'u'),\n",
       " (42, 'a'),\n",
       " (43, 'j'),\n",
       " (44, 'e'),\n",
       " (45, ' '),\n",
       " (46, 'd'),\n",
       " (47, 'e'),\n",
       " (48, ' '),\n",
       " (49, 'p'),\n",
       " (50, 'r'),\n",
       " (51, 'o'),\n",
       " (52, 'g'),\n",
       " (53, 'r'),\n",
       " (54, 'a'),\n",
       " (55, 'm'),\n",
       " (56, 'a'),\n",
       " (57, 'c'),\n",
       " (58, 'i'),\n",
       " (59, 'ó'),\n",
       " (60, 'n'),\n",
       " (61, ' '),\n",
       " (62, 'P'),\n",
       " (63, 'y'),\n",
       " (64, 't'),\n",
       " (65, 'h'),\n",
       " (66, 'o'),\n",
       " (67, 'n')]"
      ]
     },
     "execution_count": 76,
     "metadata": {},
     "output_type": "execute_result"
    }
   ],
   "source": [
    "list(enumerate(n))[-5:]\n",
    "\n",
    "lis4 = list(enumerate(list(cadena)))\n",
    "len(lis4)"
   ]
  },
  {
   "cell_type": "code",
   "execution_count": 89,
   "metadata": {},
   "outputs": [
    {
     "name": "stdout",
     "output_type": "stream",
     "text": [
      "[7, 21, 39, 60, 67]\n"
     ]
    }
   ],
   "source": [
    "# 10) A partir de la variable cadena ya dada, mostrar en qué posiciones aparece la letra \n",
    "# \"n\". cadena = 'Hola Mundo. Esto es una practica del lenguaje de programación Python'\n",
    "\n",
    "cadena = 'Hola Mundo. Esto es una practica del lenguaje de programación Python'\n",
    "\n",
    "lis4 = list(enumerate(list(cadena)))\n",
    "j = []\n",
    "\n",
    "for i in range(0,len(lis4)):\n",
    "    if lis4[i][1] == 'n':\n",
    "        j.append(lis4[i][0])\n",
    "print(j)\n",
    "\n"
   ]
  },
  {
   "cell_type": "code",
   "execution_count": 91,
   "metadata": {},
   "outputs": [
    {
     "name": "stdout",
     "output_type": "stream",
     "text": [
      "[7, 21, 39, 60, 67]\n"
     ]
    }
   ],
   "source": [
    "j = []\n",
    "\n",
    "for i in enumerate(cadena):\n",
    "    if i[1] == 'n':\n",
    "        j.append(i[0])\n",
    "print(j)"
   ]
  },
  {
   "cell_type": "code",
   "execution_count": 88,
   "metadata": {},
   "outputs": [
    {
     "name": "stdout",
     "output_type": "stream",
     "text": [
      "Nueces\n",
      "Frutos secos\n",
      "Cereales\n"
     ]
    }
   ],
   "source": [
    "# 11) Crear un diccionario e imprimir sus claves utilizando un iterador\n",
    "\n",
    "dicc = {\n",
    "\n",
    "       'Nueces' : 'Almendra',\n",
    "       'Frutos secos' : 'Mora azul',\n",
    "       'Cereales' : 'Amaranto'\n",
    "\n",
    "        }\n",
    "\n",
    "for i in dicc.keys():\n",
    "    print(i)"
   ]
  },
  {
   "cell_type": "code",
   "execution_count": 94,
   "metadata": {},
   "outputs": [
    {
     "name": "stdout",
     "output_type": "stream",
     "text": [
      "H\n",
      "o\n",
      "l\n",
      "a\n",
      " \n",
      "M\n",
      "u\n",
      "n\n",
      "d\n",
      "o\n",
      ".\n",
      " \n",
      "E\n",
      "s\n",
      "t\n",
      "o\n",
      " \n",
      "e\n",
      "s\n",
      " \n",
      "u\n",
      "n\n",
      "a\n",
      " \n",
      "p\n",
      "r\n",
      "a\n",
      "c\n",
      "t\n",
      "i\n",
      "c\n",
      "a\n",
      " \n",
      "d\n",
      "e\n",
      "l\n",
      " \n",
      "l\n",
      "e\n",
      "n\n",
      "g\n",
      "u\n",
      "a\n",
      "j\n",
      "e\n",
      " \n",
      "d\n",
      "e\n",
      " \n",
      "p\n",
      "r\n",
      "o\n",
      "g\n",
      "r\n",
      "a\n",
      "m\n",
      "a\n",
      "c\n",
      "i\n",
      "ó\n",
      "n\n",
      " \n",
      "P\n",
      "y\n",
      "t\n",
      "h\n",
      "o\n",
      "n\n"
     ]
    }
   ],
   "source": [
    "# 12) Convertir en una lista la variable \"cadena\" del punto 10 y luego recorrerla \n",
    "# con un iterador \n",
    "\n",
    "for i in range(0,len(cadena)):\n",
    "    print(cadena[i])"
   ]
  },
  {
   "cell_type": "code",
   "execution_count": 98,
   "metadata": {},
   "outputs": [
    {
     "name": "stdout",
     "output_type": "stream",
     "text": [
      "[('Nueces', 'Almendra'), ('Frutos secos', 'Mora azul'), ('Cereales', 'Amaranto')]\n",
      "[('Hola ', 'Mundo')]\n"
     ]
    }
   ],
   "source": [
    "# 13) Crear dos listas y unirlas en una tupla utilizando la función zip\n",
    "\n",
    "lis5 = ['Nueces' , 'Frutos secos', 'Cereales']\n",
    "lis6 = ['Almendra', 'Mora azul', 'Amaranto']\n",
    "\n",
    "lis7 = ['Hola ']\n",
    "lis8 = ['Mundo']\n",
    "\n",
    "print(list(zip(lis5,lis6)))\n",
    "print(list(zip(lis7,lis8)))"
   ]
  },
  {
   "cell_type": "code",
   "execution_count": 102,
   "metadata": {},
   "outputs": [
    {
     "name": "stdout",
     "output_type": "stream",
     "text": [
      "[18, 29, 32, 60, 71, 90, 100]\n"
     ]
    }
   ],
   "source": [
    "# 14) A partir de la siguiente lista de números, crear una nueva sólo si el número \n",
    "# es divisible por 7\n",
    "\n",
    "lis = [18,21,29,32,35,42,56,60,63,71,84,90,91,100]\n",
    "lis9 = []\n",
    "\n",
    "for i in lis:\n",
    "    if i % 7:\n",
    "        lis9.append(i)\n",
    "print(lis9)"
   ]
  },
  {
   "cell_type": "code",
   "execution_count": 110,
   "metadata": {},
   "outputs": [
    {
     "name": "stdout",
     "output_type": "stream",
     "text": [
      "Cantidad total de elementos que contiene:  5\n"
     ]
    }
   ],
   "source": [
    "# 15) A partir de la lista de a continuación, contar la cantidad total de elementos que \n",
    "# contiene, teniendo en cuenta que un elemento de la lista podría ser otra lista:\n",
    "\n",
    "lis = [[1,2,3,4],'rojo','verde',[True,False,False],['uno','dos','tres']]\n",
    "\n",
    "print('Cantidad total de elementos que contiene: ', len(lis))\n"
   ]
  },
  {
   "cell_type": "code",
   "execution_count": 116,
   "metadata": {},
   "outputs": [
    {
     "name": "stdout",
     "output_type": "stream",
     "text": [
      "[[1, 2, 3, 4], ['r', 'o', 'j', 'o'], ['v', 'e', 'r', 'd', 'e'], [True, False, False], ['uno', 'dos', 'tres']]\n"
     ]
    }
   ],
   "source": [
    "# 16) Tomar la lista del punto anterior y convertir cada elemento en una lista \n",
    "# si no lo es\n",
    "\n",
    "j = 0\n",
    "lis10 = []\n",
    "\n",
    "for i in lis:\n",
    "    if type(i) != list:\n",
    "        lis[j] = list(i)\n",
    "    j += 1\n",
    "print(lis)"
   ]
  }
 ],
 "metadata": {
  "kernelspec": {
   "display_name": "Python 3.10.8 64-bit",
   "language": "python",
   "name": "python3"
  },
  "language_info": {
   "codemirror_mode": {
    "name": "ipython",
    "version": 3
   },
   "file_extension": ".py",
   "mimetype": "text/x-python",
   "name": "python",
   "nbconvert_exporter": "python",
   "pygments_lexer": "ipython3",
   "version": "3.10.8"
  },
  "orig_nbformat": 4,
  "vscode": {
   "interpreter": {
    "hash": "be0442737b7318fa7ad3b13af002331592740854ffc0bd4e6d4b05a822eb54b5"
   }
  }
 },
 "nbformat": 4,
 "nbformat_minor": 2
}
