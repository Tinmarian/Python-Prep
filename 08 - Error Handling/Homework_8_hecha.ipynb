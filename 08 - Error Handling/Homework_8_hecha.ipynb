{
 "cells": [
  {
   "cell_type": "markdown",
   "metadata": {},
   "source": [
    "## 08 - Error Handling"
   ]
  },
  {
   "cell_type": "markdown",
   "metadata": {},
   "source": [
    "##### 1) Con la clase creada en el módulo 7, tener en cuenta diferentes casos en que el código pudiera arrojar error. Por ejemplo, en la creación del objeto recibimos una lista de números enteros pero ¿qué pasa si se envía otro tipo de dato?\n",
    "##### R:\n",
    "        La respuesta es que los métodos de la clase no funcionarían ya que necesitan una lista. Incluso las funciones \"unitarias\" dependen de los elementos en dicha lista."
   ]
  },
  {
   "cell_type": "markdown",
   "metadata": {},
   "source": [
    "##### 2) En la función que hace la conversión de grados, validar que los parámetros enviados sean los esperados, de no serlo, informar cuáles son los valores esperados."
   ]
  },
  {
   "cell_type": "code",
   "execution_count": 102,
   "metadata": {},
   "outputs": [],
   "source": [
    "def temperatura(valor, igrados, fgrados):\n",
    "\n",
    "        '''\n",
    "        Esta función permite obtener la temperatura en 3 escalas diferentes \n",
    "        [fahrenheit, celsius, kelvin], y solo acepta dichas escalas como input y un valor\n",
    "        del tipo int o float\n",
    "        '''\n",
    "        l = ['celsius','kelvin','farenheit']\n",
    "        y = 0\n",
    "\n",
    "        assert type(valor) == int or type(valor) == float, 'El primer argumento de la función debe ser un entero o un flotante'\n",
    "\n",
    "        assert igrados in l, f'El segundo argumento de la función debe ser cualquier elemento de la siguiente lista {l}'\n",
    "        \n",
    "        assert fgrados in l, f'El tercer argumento de la función debe ser cualquier elemento de la siguiente lista {l}'\n",
    "        \n",
    "        if valor < 0 and igrados == l[1]:\n",
    "            print(f'El menor valor en la escala {l[1]} es el cero')\n",
    "\n",
    "        elif valor < -273.15 and igrados == l[0]:\n",
    "            print(f'El menor valor en la escala {l[0]} es el -273.15')\n",
    "\n",
    "        elif valor < -459.67 and igrados == l[2]:\n",
    "            print(f'El menor valor en la escala {l[2]} es el -459.67')\n",
    "\n",
    "        else:\n",
    "           \n",
    "            \n",
    "            if (igrados == 'celsius' and fgrados == 'farenheit'):\n",
    "                y = (valor*9/5) + 32\n",
    "            elif igrados == 'celsius' and fgrados == 'kelvin':\n",
    "                y = valor + 273.15\n",
    "            elif igrados == 'celsius' and fgrados == 'celsius':\n",
    "                y = valor\n",
    "            elif igrados == 'farenheit' and fgrados == 'celsius':\n",
    "                y = (valor - 32)*5/9\n",
    "            elif igrados == 'farenheit' and fgrados == 'kelvin':\n",
    "                y = (valor - 32)*5/9 + 273.15\n",
    "            elif igrados == 'farenheit' and fgrados == 'farenheit':\n",
    "                y = valor\n",
    "            elif igrados == 'kelvin' and fgrados == 'farenheit':\n",
    "                y = (valor - 273.15)*9/5 +32\n",
    "            elif igrados == 'kelvin' and fgrados == 'celsius':\n",
    "                y = valor - 273.15\n",
    "            elif igrados == 'kelvin' and fgrados == 'kelvin':\n",
    "                y = valor\n",
    "    \n",
    "            return f'{valor} grados {igrados} equivalen a {y} grados {fgrados}', type(valor)"
   ]
  },
  {
   "cell_type": "code",
   "execution_count": 108,
   "metadata": {},
   "outputs": [
    {
     "name": "stdout",
     "output_type": "stream",
     "text": [
      "El menor valor en la escala farenheit es el -459.67\n"
     ]
    }
   ],
   "source": [
    "temperatura(-460,'farenheit','celsius')"
   ]
  },
  {
   "cell_type": "markdown",
   "metadata": {},
   "source": [
    "##### 3) Importar el modulo \"unittest\" y crear los siguientes casos de pruebas sobre la clase utilizada en el punto 2\n",
    "Creacion del objeto incorrecta<br>\n",
    "Creacion correcta del objeto<br>\n",
    "Metodo valor_modal()<br>"
   ]
  },
  {
   "cell_type": "code",
   "execution_count": null,
   "metadata": {},
   "outputs": [],
   "source": []
  }
 ],
 "metadata": {
  "kernelspec": {
   "display_name": "Python 3.10.8 64-bit",
   "language": "python",
   "name": "python3"
  },
  "language_info": {
   "codemirror_mode": {
    "name": "ipython",
    "version": 3
   },
   "file_extension": ".py",
   "mimetype": "text/x-python",
   "name": "python",
   "nbconvert_exporter": "python",
   "pygments_lexer": "ipython3",
   "version": "3.10.8"
  },
  "orig_nbformat": 4,
  "vscode": {
   "interpreter": {
    "hash": "be0442737b7318fa7ad3b13af002331592740854ffc0bd4e6d4b05a822eb54b5"
   }
  }
 },
 "nbformat": 4,
 "nbformat_minor": 2
}
