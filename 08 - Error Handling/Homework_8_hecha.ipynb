{
 "cells": [
  {
   "cell_type": "markdown",
   "metadata": {},
   "source": [
    "## 08 - Error Handling"
   ]
  },
  {
   "cell_type": "markdown",
   "metadata": {},
   "source": [
    "##### 1) Con la clase creada en el módulo 7, tener en cuenta diferentes casos en que el código pudiera arrojar error. Por ejemplo, en la creación del objeto recibimos una lista de números enteros pero ¿qué pasa si se envía otro tipo de dato?"
   ]
  },
  {
   "cell_type": "code",
   "execution_count": 1,
   "metadata": {},
   "outputs": [],
   "source": [
    "import sys\n",
    "sys.path.append(r'C:\\Users\\tinma\\OneDrive\\Escritorio\\Python-Prep\\07 - Classes & OOP')"
   ]
  },
  {
   "cell_type": "code",
   "execution_count": 2,
   "metadata": {},
   "outputs": [
    {
     "data": {
      "text/plain": [
       "['c:\\\\Users\\\\tinma\\\\OneDrive\\\\Escritorio\\\\Python-Prep\\\\08 - Error Handling',\n",
       " 'c:\\\\Users\\\\tinma\\\\AppData\\\\Local\\\\Programs\\\\Python\\\\Python310\\\\python310.zip',\n",
       " 'c:\\\\Users\\\\tinma\\\\AppData\\\\Local\\\\Programs\\\\Python\\\\Python310\\\\DLLs',\n",
       " 'c:\\\\Users\\\\tinma\\\\AppData\\\\Local\\\\Programs\\\\Python\\\\Python310\\\\lib',\n",
       " 'c:\\\\Users\\\\tinma\\\\AppData\\\\Local\\\\Programs\\\\Python\\\\Python310',\n",
       " '',\n",
       " 'C:\\\\Users\\\\tinma\\\\AppData\\\\Roaming\\\\Python\\\\Python310\\\\site-packages',\n",
       " 'C:\\\\Users\\\\tinma\\\\AppData\\\\Roaming\\\\Python\\\\Python310\\\\site-packages\\\\win32',\n",
       " 'C:\\\\Users\\\\tinma\\\\AppData\\\\Roaming\\\\Python\\\\Python310\\\\site-packages\\\\win32\\\\lib',\n",
       " 'C:\\\\Users\\\\tinma\\\\AppData\\\\Roaming\\\\Python\\\\Python310\\\\site-packages\\\\Pythonwin',\n",
       " 'c:\\\\Users\\\\tinma\\\\AppData\\\\Local\\\\Programs\\\\Python\\\\Python310\\\\lib\\\\site-packages',\n",
       " 'C:\\\\Users\\\\tinma\\\\OneDrive\\\\Escritorio\\\\Python-Prep\\\\07 - Classes & OOP']"
      ]
     },
     "execution_count": 2,
     "metadata": {},
     "output_type": "execute_result"
    }
   ],
   "source": [
    "#sys.path.remove(r'C:\\Users\\tinma\\OneDrive\\Escritorio\\Python-Prep\\07 - Classes & OOP')\n",
    "sys.path"
   ]
  },
  {
   "cell_type": "code",
   "execution_count": 3,
   "metadata": {},
   "outputs": [],
   "source": [
    "# En realidad no sucede nada...\n",
    "\n",
    "import fmodulo1 as y\n",
    "\n",
    "y1 = y.modulo('Hola')"
   ]
  },
  {
   "cell_type": "code",
   "execution_count": 4,
   "metadata": {},
   "outputs": [
    {
     "ename": "TypeError",
     "evalue": "'<' not supported between instances of 'str' and 'int'",
     "output_type": "error",
     "traceback": [
      "\u001b[1;31m---------------------------------------------------------------------------\u001b[0m",
      "\u001b[1;31mTypeError\u001b[0m                                 Traceback (most recent call last)",
      "Cell \u001b[1;32mIn [4], line 3\u001b[0m\n\u001b[0;32m      1\u001b[0m \u001b[39m# ...hasta que se implementan los métodos (funciones).\u001b[39;00m\n\u001b[1;32m----> 3\u001b[0m y1\u001b[39m.\u001b[39;49mfactorial()\n",
      "File \u001b[1;32m~\\OneDrive\\Escritorio\\Python-Prep\\07 - Classes & OOP\\fmodulo1.py:67\u001b[0m, in \u001b[0;36mmodulo.factorial\u001b[1;34m(self)\u001b[0m\n\u001b[0;32m     64\u001b[0m \u001b[39mfor\u001b[39;00m j \u001b[39min\u001b[39;00m \u001b[39mself\u001b[39m\u001b[39m.\u001b[39mx1:\n\u001b[0;32m     65\u001b[0m     x \u001b[39m=\u001b[39m \u001b[39m1\u001b[39m\n\u001b[1;32m---> 67\u001b[0m     \u001b[39mif\u001b[39;00m j \u001b[39m<\u001b[39;49m \u001b[39m0\u001b[39;49m:\n\u001b[0;32m     68\u001b[0m         \u001b[39mprint\u001b[39m(\u001b[39m'\u001b[39m\u001b[39mDebes ingresar un entero que sea positivo\u001b[39m\u001b[39m'\u001b[39m)\n\u001b[0;32m     69\u001b[0m     \u001b[39m#elif type(numero) == str or type(numero) == float or type(numero) == bool or type(numero) == list or type(numero) == tuple:\u001b[39;00m\n",
      "\u001b[1;31mTypeError\u001b[0m: '<' not supported between instances of 'str' and 'int'"
     ]
    }
   ],
   "source": [
    "# ...hasta que se implementan los métodos (funciones).\n",
    "\n",
    "y1.factorial()"
   ]
  },
  {
   "cell_type": "markdown",
   "metadata": {},
   "source": [
    "##### 2) En la función que hace la conversión de grados, validar que los parámetros enviados sean los esperados, de no serlo, informar cuáles son los valores esperados."
   ]
  },
  {
   "cell_type": "code",
   "execution_count": 47,
   "metadata": {},
   "outputs": [
    {
     "name": "stdout",
     "output_type": "stream",
     "text": [
      "1 grados celsius equivalen a 274.15 grados kelvin\n",
      "5 grados celsius equivalen a 278.15 grados kelvin\n",
      "El menor valor en la escala celsius es el -273.15 y tú trataste de convertir -500 grados\n",
      "4 grados celsius equivalen a 277.15 grados kelvin\n",
      "2 grados celsius equivalen a 275.15 grados kelvin\n",
      "3 grados celsius equivalen a 276.15 grados kelvin\n"
     ]
    }
   ],
   "source": [
    "import fmodulo2 as x\n",
    "import importlib\n",
    "importlib.reload(x)\n",
    "\n",
    "x1 = x.modulo([1,5,-500,4,2,3])\n",
    "\n",
    "x1.temperatura('celsius','kelvin')\n",
    "\n",
    "# En este resultado podemos notar que con el manejo del comando \"assert\" paramos el \n",
    "# programa, mientras que con las condicionantes podemos seguir corriendo el script \n",
    "# sin la necesidad de pararlo. Veamos ahora cómo funciona el manejo de excepciones..."
   ]
  },
  {
   "cell_type": "code",
   "execution_count": 108,
   "metadata": {},
   "outputs": [
    {
     "name": "stdout",
     "output_type": "stream",
     "text": [
      "El menor valor en la escala farenheit es el -459.67\n"
     ]
    }
   ],
   "source": [
    "temperatura(-460,'farenheit','celsius')"
   ]
  },
  {
   "cell_type": "markdown",
   "metadata": {},
   "source": [
    "##### 3) Importar el modulo \"unittest\" y crear los siguientes casos de pruebas sobre la clase utilizada en el punto 2\n",
    "Creacion del objeto incorrecta<br>\n",
    "Creacion correcta del objeto<br>\n",
    "Metodo valor_modal()<br>"
   ]
  },
  {
   "cell_type": "code",
   "execution_count": 50,
   "metadata": {},
   "outputs": [],
   "source": [
    "import unittest as ut\n",
    "\n",
    "class prueba1(ut.TestCase):\n",
    "    def test_crear_objeto1(self):\n",
    "        '''\n",
    "        Este test dará positivo si existe una falla en la creación del objeto, y negativo\n",
    "        en caso contrario.\n",
    "        '''\n",
    "        param = 1\n",
    "        self.assertRaises(ValueError, x.modulo, param)\n",
    "\n",
    "    def test_crear_objeto2(self):\n",
    "        '''\n",
    "        Al contrario que en el test pasado, aquí dará positivo cuando la creación del\n",
    "        objeto es exitosa, y negativo en caso contrario.\n",
    "        '''\n",
    "        param = [1,2,2,5]\n",
    "        h1 = x.modulo(param)\n",
    "        self.assertEqual(h1.x1, param)\n",
    "\n",
    "    def test_moda(self):\n",
    "        '''\n",
    "        Aquí estamos evaluando el output de la función con una respuesta sencilla\n",
    "        y conocida, si ambos resultado coinciden entonces el test es positivo. Negativo\n",
    "        en caso contrario.\n",
    "        '''\n",
    "        lis = [1,1,1,2,3,4]\n",
    "        h1 = x.modulo(lis)\n",
    "        moda, veces = h1.moda()\n",
    "        moda = [moda]\n",
    "        moda.append(veces)\n",
    "        resultado = [1,3]\n",
    "        self.assertEqual(moda,resultado)\n",
    "        "
   ]
  },
  {
   "cell_type": "code",
   "execution_count": 52,
   "metadata": {},
   "outputs": [
    {
     "name": "stderr",
     "output_type": "stream",
     "text": [
      "test_crear_objeto1 (__main__.prueba)\n",
      "Este test dará positivo si existe una falla en la creación del objeto, y negativo ... ok\n",
      "test_crear_objeto2 (__main__.prueba)\n",
      "Al contrario que en el test pasado, aquí dará positivo cuando la creación del ... ok\n",
      "test_moda (__main__.prueba)\n",
      "Aquí estamos evaluando el output de la función con una respuesta sencilla ... ok\n",
      "\n",
      "----------------------------------------------------------------------\n",
      "Ran 3 tests in 0.005s\n",
      "\n",
      "OK\n"
     ]
    },
    {
     "data": {
      "text/plain": [
       "<unittest.main.TestProgram at 0x1e46525d6c0>"
      ]
     },
     "execution_count": 52,
     "metadata": {},
     "output_type": "execute_result"
    }
   ],
   "source": [
    "ut.main(argv=[''], verbosity=2, exit=False)"
   ]
  },
  {
   "cell_type": "markdown",
   "metadata": {},
   "source": [
    "### 4) Probar una creación incorrecta y visualizar la salida del \"raise\""
   ]
  },
  {
   "cell_type": "code",
   "execution_count": 54,
   "metadata": {},
   "outputs": [
    {
     "ename": "ValueError",
     "evalue": "Se esperaba un objeto del tipo lista, pero se ha recibido uno de tipo <class 'str'>",
     "output_type": "error",
     "traceback": [
      "\u001b[1;31m---------------------------------------------------------------------------\u001b[0m",
      "\u001b[1;31mValueError\u001b[0m                                Traceback (most recent call last)",
      "Cell \u001b[1;32mIn [54], line 1\u001b[0m\n\u001b[1;32m----> 1\u001b[0m h2 \u001b[39m=\u001b[39m x\u001b[39m.\u001b[39;49mmodulo(\u001b[39m'\u001b[39;49m\u001b[39mHola\u001b[39;49m\u001b[39m'\u001b[39;49m)\n",
      "File \u001b[1;32mc:\\Users\\tinma\\OneDrive\\Escritorio\\Python-Prep\\08 - Error Handling\\fmodulo2.py:5\u001b[0m, in \u001b[0;36mmodulo.__init__\u001b[1;34m(self, lista)\u001b[0m\n\u001b[0;32m      3\u001b[0m \u001b[39mdef\u001b[39;00m \u001b[39m__init__\u001b[39m(\u001b[39mself\u001b[39m, lista):\n\u001b[0;32m      4\u001b[0m     \u001b[39mif\u001b[39;00m \u001b[39mtype\u001b[39m(lista) \u001b[39m!=\u001b[39m \u001b[39mlist\u001b[39m:\n\u001b[1;32m----> 5\u001b[0m         \u001b[39mraise\u001b[39;00m \u001b[39mValueError\u001b[39;00m(\u001b[39mf\u001b[39m\u001b[39m'\u001b[39m\u001b[39mSe esperaba un objeto del tipo lista, pero se ha recibido uno de tipo \u001b[39m\u001b[39m{\u001b[39;00m\u001b[39mtype\u001b[39m(lista)\u001b[39m}\u001b[39;00m\u001b[39m'\u001b[39m)\n\u001b[0;32m      6\u001b[0m     \u001b[39melse\u001b[39;00m:\n\u001b[0;32m      7\u001b[0m         \u001b[39mself\u001b[39m\u001b[39m.\u001b[39mx1 \u001b[39m=\u001b[39m lista\n",
      "\u001b[1;31mValueError\u001b[0m: Se esperaba un objeto del tipo lista, pero se ha recibido uno de tipo <class 'str'>"
     ]
    }
   ],
   "source": [
    "h2 = x.modulo('Hola')"
   ]
  },
  {
   "cell_type": "markdown",
   "metadata": {},
   "source": [
    "### 6) Agregar casos de pruebas para el método verifica_primos() realizando el cambio en la clase, para que devuelva una lista de True o False en función de que el elemento en la posisicón sea o no primo"
   ]
  },
  {
   "cell_type": "code",
   "execution_count": 76,
   "metadata": {},
   "outputs": [
    {
     "data": {
      "text/plain": [
       "<module 'fmodulo2' from 'c:\\\\Users\\\\tinma\\\\OneDrive\\\\Escritorio\\\\Python-Prep\\\\08 - Error Handling\\\\fmodulo2.py'>"
      ]
     },
     "execution_count": 76,
     "metadata": {},
     "output_type": "execute_result"
    }
   ],
   "source": [
    "import importlib\n",
    "importlib.reload(x)"
   ]
  },
  {
   "cell_type": "code",
   "execution_count": 68,
   "metadata": {},
   "outputs": [
    {
     "data": {
      "text/plain": [
       "[True, True, True, False, True, True, False]"
      ]
     },
     "execution_count": 68,
     "metadata": {},
     "output_type": "execute_result"
    }
   ],
   "source": [
    "class prueba2(ut.TestCase):\n",
    "\n",
    "    def test_primo(self):\n",
    "        '''\n",
    "        Test para el método fprimo: que el output concuerde con el resultado esperado.\n",
    "        '''\n",
    "        lis = [2,3,7,10,11,23,24]\n",
    "        h1 = x.modulo(lis)\n",
    "        primos = h1.fprimo()\n",
    "        primos_esperados = [True,True,True,False,True,True,False]\n",
    "        self.assertEqual(primos,primos_esperados)\n",
    "        \n",
    "lis = [2,3,7,10,11,23,24]\n",
    "h1 = x.modulo(lis)\n",
    "h1.fprimo()\n",
    "\n"
   ]
  },
  {
   "cell_type": "code",
   "execution_count": 70,
   "metadata": {},
   "outputs": [
    {
     "name": "stderr",
     "output_type": "stream",
     "text": [
      "test_crear_objeto1 (__main__.prueba)\n",
      "Este test dará positivo si existe una falla en la creación del objeto, y negativo ... ok\n",
      "test_crear_objeto2 (__main__.prueba)\n",
      "Al contrario que en el test pasado, aquí dará positivo cuando la creación del ... ok\n",
      "test_moda (__main__.prueba)\n",
      "Aquí estamos evaluando el output de la función con una respuesta sencilla ... ok\n",
      "test_primo (__main__.prueba2) ... ok\n",
      "\n",
      "----------------------------------------------------------------------\n",
      "Ran 4 tests in 0.004s\n",
      "\n",
      "OK\n"
     ]
    },
    {
     "data": {
      "text/plain": [
       "<unittest.main.TestProgram at 0x1e467268d60>"
      ]
     },
     "execution_count": 70,
     "metadata": {},
     "output_type": "execute_result"
    }
   ],
   "source": [
    "ut.main(argv=[''], verbosity=2, exit=False)"
   ]
  },
  {
   "cell_type": "markdown",
   "metadata": {},
   "source": [
    "### 7) Agregar casos de pruebas para el método conversion_grados()\n"
   ]
  },
  {
   "cell_type": "code",
   "execution_count": 78,
   "metadata": {},
   "outputs": [
    {
     "name": "stdout",
     "output_type": "stream",
     "text": [
      "1 grados celsius equivalen a 274.15 grados kelvin\n",
      "2 grados celsius equivalen a 275.15 grados kelvin\n",
      "3 grados celsius equivalen a 276.15 grados kelvin\n",
      "4 grados celsius equivalen a 277.15 grados kelvin\n"
     ]
    },
    {
     "data": {
      "text/plain": [
       "[274.15, 275.15, 276.15, 277.15]"
      ]
     },
     "execution_count": 78,
     "metadata": {},
     "output_type": "execute_result"
    }
   ],
   "source": [
    "class prueba3(ut.TestCase):\n",
    "\n",
    "    def test_temp1(self):\n",
    "        '''\n",
    "        Test para el método temperatur: que el output concuerde con el resultado esperado.\n",
    "        '''\n",
    "        lis = [1,2,3,4]\n",
    "        h1 = x.modulo(lis)\n",
    "        grados = h1.temperatura('celsius','kelvin')\n",
    "        grados_esperados = [274.15,275.15,276.15,277.15]\n",
    "        self.assertEqual(grados, grados_esperados)\n",
    "\n",
    "\n",
    "lis = [1,2,3,4]\n",
    "h1 = x.modulo(lis)\n",
    "h1.temperatura('celsius','kelvin')"
   ]
  },
  {
   "cell_type": "code",
   "execution_count": 80,
   "metadata": {},
   "outputs": [
    {
     "name": "stderr",
     "output_type": "stream",
     "text": [
      "test_crear_objeto1 (__main__.prueba)\n",
      "Este test dará positivo si existe una falla en la creación del objeto, y negativo ... ok\n",
      "test_crear_objeto2 (__main__.prueba)\n",
      "Al contrario que en el test pasado, aquí dará positivo cuando la creación del ... ok\n",
      "test_moda (__main__.prueba)\n",
      "Aquí estamos evaluando el output de la función con una respuesta sencilla ... ok\n",
      "test_primo (__main__.prueba2) ... ok\n",
      "test_temp1 (__main__.prueba3) ... ok\n",
      "\n",
      "----------------------------------------------------------------------\n",
      "Ran 5 tests in 0.006s\n",
      "\n",
      "OK\n"
     ]
    },
    {
     "name": "stdout",
     "output_type": "stream",
     "text": [
      "1 grados celsius equivalen a 274.15 grados kelvin\n",
      "2 grados celsius equivalen a 275.15 grados kelvin\n",
      "3 grados celsius equivalen a 276.15 grados kelvin\n",
      "4 grados celsius equivalen a 277.15 grados kelvin\n"
     ]
    },
    {
     "data": {
      "text/plain": [
       "<unittest.main.TestProgram at 0x1e46726a230>"
      ]
     },
     "execution_count": 80,
     "metadata": {},
     "output_type": "execute_result"
    }
   ],
   "source": [
    "ut.main(argv=[''], verbosity=2, exit=False)"
   ]
  },
  {
   "cell_type": "markdown",
   "metadata": {},
   "source": [
    "### 8) Agregar casos de pruebas para el método factorial()\n"
   ]
  },
  {
   "cell_type": "code",
   "execution_count": 89,
   "metadata": {},
   "outputs": [
    {
     "name": "stderr",
     "output_type": "stream",
     "text": [
      "test_crear_objeto1 (__main__.prueba)\n",
      "Este test dará positivo si existe una falla en la creación del objeto, y negativo ... ok\n",
      "test_crear_objeto2 (__main__.prueba)\n",
      "Al contrario que en el test pasado, aquí dará positivo cuando la creación del ... ok\n",
      "test_moda (__main__.prueba)\n",
      "Aquí estamos evaluando el output de la función con una respuesta sencilla ... ok\n",
      "test_primo (__main__.prueba2) ... ok\n",
      "test_temp1 (__main__.prueba3) ... ok\n",
      "test_factorial (__main__.prueba4)\n",
      "Test para el método factorial: Que el output concuerde con el resultado esperado ... ok\n",
      "\n",
      "----------------------------------------------------------------------\n",
      "Ran 6 tests in 0.006s\n",
      "\n",
      "OK\n"
     ]
    },
    {
     "name": "stdout",
     "output_type": "stream",
     "text": [
      "1\n",
      "1\n",
      "2\n",
      "6\n",
      "24\n",
      "120\n",
      "1 grados celsius equivalen a 274.15 grados kelvin\n",
      "2 grados celsius equivalen a 275.15 grados kelvin\n",
      "3 grados celsius equivalen a 276.15 grados kelvin\n",
      "4 grados celsius equivalen a 277.15 grados kelvin\n",
      "1\n",
      "1\n",
      "2\n",
      "6\n",
      "24\n",
      "120\n"
     ]
    },
    {
     "data": {
      "text/plain": [
       "<unittest.main.TestProgram at 0x1e467315900>"
      ]
     },
     "execution_count": 89,
     "metadata": {},
     "output_type": "execute_result"
    }
   ],
   "source": [
    "class prueba4(ut.TestCase):\n",
    "\n",
    "    def test_factorial(self):\n",
    "        '''\n",
    "        Test para el método factorial: Que el output concuerde con el resultado esperado\n",
    "        '''\n",
    "        lis = [0,1,2,3,4,5]\n",
    "        h1 = x.modulo(lis)\n",
    "        factoriales = h1.factorial()\n",
    "        esperados = [1,1,2,6,24,120]\n",
    "        self.assertEqual(factoriales, esperados)\n",
    "\n",
    "importlib.reload(x)\n",
    "\n",
    "lis = [0,1,2,3,4,5]\n",
    "h1 = x.modulo(lis)\n",
    "h1.factorial()\n",
    "\n",
    "ut.main(argv=[''], verbosity=2, exit=False)"
   ]
  },
  {
   "cell_type": "markdown",
   "metadata": {},
   "source": [
    "### 9) Completar el código en las funciones del archivo \"checkpoint.py\" y probarlo a partir de la ejecución del script \"tests.py\""
   ]
  },
  {
   "cell_type": "code",
   "execution_count": 150,
   "metadata": {},
   "outputs": [
    {
     "data": {
      "text/plain": [
       "True"
      ]
     },
     "execution_count": 150,
     "metadata": {},
     "output_type": "execute_result"
    }
   ],
   "source": [
    "import checkpoint as ch\n",
    "import importlib\n",
    "importlib.reload(ch)\n",
    "\n",
    "ch.EsPrimo(13)"
   ]
  },
  {
   "cell_type": "code",
   "execution_count": 133,
   "metadata": {},
   "outputs": [],
   "source": [
    "a = ch.ClaseAnimal('Caballo','Blanco')"
   ]
  },
  {
   "cell_type": "code",
   "execution_count": 144,
   "metadata": {},
   "outputs": [
    {
     "data": {
      "text/plain": [
       "11"
      ]
     },
     "execution_count": 144,
     "metadata": {},
     "output_type": "execute_result"
    }
   ],
   "source": [
    "a.CumplirAnios()"
   ]
  },
  {
   "cell_type": "code",
   "execution_count": 156,
   "metadata": {},
   "outputs": [
    {
     "data": {
      "text/plain": [
       "120"
      ]
     },
     "execution_count": 156,
     "metadata": {},
     "output_type": "execute_result"
    }
   ],
   "source": [
    "ch.Factorial(5)"
   ]
  },
  {
   "cell_type": "markdown",
   "metadata": {},
   "source": [
    "### Resumen del punto 9):\n",
    "\n",
    "##### PS C:\\Users\\tinma\\OneDrive\\Escritorio\\Python-Prep\\08 - Error Handling> python .\\tests.py\n",
    "###### test_ClaseAnimal_01 (__main__.PruebaHenryChallenge) ... ok\n",
    "###### test_ClaseAnimal_02 (__main__.PruebaHenryChallenge) ... ok\n",
    "###### test_ClaseAnimal_03 (__main__.PruebaHenryChallenge) ... ok\n",
    "###### test_EsPrimo_01 (__main__.PruebaHenryChallenge) ... ok\n",
    "###### test_EsPrimo_02 (__main__.PruebaHenryChallenge) ... ok\n",
    "###### test_EsPrimo_03 (__main__.PruebaHenryChallenge) ... ok\n",
    "###### test_Factorial_01 (__main__.PruebaHenryChallenge) ... ok\n",
    "###### test_Factorial_02 (__main__.PruebaHenryChallenge) ... ok\n",
    "###### test_Factorial_03 (__main__.PruebaHenryChallenge) ... ok\n",
    "\n",
    "###### Ran 9 tests in 0.001s\n",
    "\n",
    "###### OK\n",
    "###### Resumen\n",
    "###### Total Tests: 9\n",
    "###### Total Fallas: 0\n",
    "###### Total Errores: 0\n",
    "###### Total Correctos: 9"
   ]
  }
 ],
 "metadata": {
  "kernelspec": {
   "display_name": "Python 3.10.8 64-bit",
   "language": "python",
   "name": "python3"
  },
  "language_info": {
   "codemirror_mode": {
    "name": "ipython",
    "version": 3
   },
   "file_extension": ".py",
   "mimetype": "text/x-python",
   "name": "python",
   "nbconvert_exporter": "python",
   "pygments_lexer": "ipython3",
   "version": "3.10.8"
  },
  "orig_nbformat": 4,
  "vscode": {
   "interpreter": {
    "hash": "be0442737b7318fa7ad3b13af002331592740854ffc0bd4e6d4b05a822eb54b5"
   }
  }
 },
 "nbformat": 4,
 "nbformat_minor": 2
}
