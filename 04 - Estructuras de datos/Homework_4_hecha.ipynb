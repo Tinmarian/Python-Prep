{
 "cells": [
  {
   "cell_type": "markdown",
   "metadata": {},
   "source": [
    "## Tarea 4: Estructuras de Datos"
   ]
  },
  {
   "cell_type": "code",
   "execution_count": 268,
   "metadata": {},
   "outputs": [
    {
     "data": {
      "text/plain": [
       "['Puebla', 'NewYork', 'Brazilia', 'Ginebra', 'Barcelona', 'Madrid']"
      ]
     },
     "execution_count": 268,
     "metadata": {},
     "output_type": "execute_result"
    }
   ],
   "source": [
    "# 1) Crear una lista que contenga nombres de ciudades del mundo \n",
    "# que contenga más de 5 elementos e imprimir por pantalla\n",
    "\n",
    "ciudades = ['Puebla', 'NewYork', 'Brazilia', 'Ginebra', \n",
    "            'Barcelona', 'Madrid' ]\n",
    "\n",
    "ciudades"
   ]
  },
  {
   "cell_type": "code",
   "execution_count": 269,
   "metadata": {},
   "outputs": [
    {
     "data": {
      "text/plain": [
       "'NewYork'"
      ]
     },
     "execution_count": 269,
     "metadata": {},
     "output_type": "execute_result"
    }
   ],
   "source": [
    "# 2) Imprimir por pantalla el segundo elemento de la lista\n",
    "\n",
    "ciudades[1]"
   ]
  },
  {
   "cell_type": "code",
   "execution_count": 270,
   "metadata": {},
   "outputs": [
    {
     "data": {
      "text/plain": [
       "['NewYork', 'Brazilia', 'Ginebra']"
      ]
     },
     "execution_count": 270,
     "metadata": {},
     "output_type": "execute_result"
    }
   ],
   "source": [
    "# 3) Imprimir por pantalla del segundo al cuarto elemento\n",
    "\n",
    "ciudades[1:4]"
   ]
  },
  {
   "cell_type": "code",
   "execution_count": 271,
   "metadata": {},
   "outputs": [
    {
     "data": {
      "text/plain": [
       "list"
      ]
     },
     "execution_count": 271,
     "metadata": {},
     "output_type": "execute_result"
    }
   ],
   "source": [
    "# 4) Visualizar el tipo de dato de la lista\n",
    "\n",
    "type(ciudades)"
   ]
  },
  {
   "cell_type": "code",
   "execution_count": 272,
   "metadata": {},
   "outputs": [
    {
     "data": {
      "text/plain": [
       "['Brazilia', 'Ginebra', 'Barcelona', 'Madrid']"
      ]
     },
     "execution_count": 272,
     "metadata": {},
     "output_type": "execute_result"
    }
   ],
   "source": [
    "# 5) Visualizar todos los elementos de la lista a partir del \n",
    "# tercero de manera genérica, es decir, sin explicitar la posición \n",
    "# del último elemento\n",
    "\n",
    "ciudades[2:]\n"
   ]
  },
  {
   "cell_type": "code",
   "execution_count": 273,
   "metadata": {},
   "outputs": [
    {
     "name": "stdout",
     "output_type": "stream",
     "text": [
      "['Puebla', 'NewYork', 'Brazilia', 'Ginebra']\n",
      "Puebla\n",
      "NewYork\n",
      "Brazilia\n",
      "Ginebra\n"
     ]
    }
   ],
   "source": [
    "# 6) Visualizar los primeros 4 elementos de la lista\n",
    "\n",
    "print(ciudades[0:4])\n",
    "\n",
    "for i in range(0,4):\n",
    "    print(ciudades[i])"
   ]
  },
  {
   "cell_type": "code",
   "execution_count": 274,
   "metadata": {},
   "outputs": [
    {
     "name": "stdout",
     "output_type": "stream",
     "text": [
      "['Puebla', 'NewYork', 'Brazilia', 'Ginebra', 'Barcelona', 'Madrid', 'Colorado', 'Madrid', 'Madrid', 'Madrid', 'Madrid', 'Madrid']\n"
     ]
    }
   ],
   "source": [
    "# 7) Agregar una ciudad más a la lista que ya exista y otra que \n",
    "# no ¿Arroja algún tipo de error?\n",
    "\n",
    "ciudades.append('Colorado')\n",
    "ciudades.append('Madrid')\n",
    "ciudades.append('Madrid')\n",
    "ciudades.append('Madrid')\n",
    "ciudades.append('Madrid')\n",
    "ciudades.append('Madrid')\n",
    "\n",
    "\n",
    "print(ciudades)\n"
   ]
  },
  {
   "cell_type": "code",
   "execution_count": 275,
   "metadata": {},
   "outputs": [
    {
     "data": {
      "text/plain": [
       "['Puebla',\n",
       " 'NewYork',\n",
       " 'Brazilia',\n",
       " 'Ginebra',\n",
       " 'Sevilla',\n",
       " 'Barcelona',\n",
       " 'Madrid',\n",
       " 'Colorado',\n",
       " 'Madrid',\n",
       " 'Madrid',\n",
       " 'Madrid',\n",
       " 'Madrid',\n",
       " 'Madrid']"
      ]
     },
     "execution_count": 275,
     "metadata": {},
     "output_type": "execute_result"
    }
   ],
   "source": [
    "# 8) Agregar otra ciudad, pero en la cuarta posición\n",
    "\n",
    "ciudades.insert(4, 'Sevilla')\n",
    "\n",
    "ciudades\n"
   ]
  },
  {
   "cell_type": "code",
   "execution_count": 276,
   "metadata": {},
   "outputs": [
    {
     "name": "stdout",
     "output_type": "stream",
     "text": [
      "['Puebla', 'NewYork', 'Brazilia', 'Ginebra', 'Sevilla', 'Barcelona', 'Madrid', 'Colorado', 'Madrid', 'Madrid', 'Madrid', 'Madrid', 'Madrid', (0, 1, 2, 3, 4)]\n",
      "['Puebla', 'NewYork', 'Brazilia', 'Ginebra', 'Sevilla', 'Barcelona', 'Madrid', 'Colorado', 'Madrid', 'Madrid', 'Madrid', 'Madrid', 'Madrid', (0, 1, 2, 3, 4), 0, 1, 2, 3, 4]\n"
     ]
    }
   ],
   "source": [
    "#9) Concatenar otra lista a la ya creada\n",
    "\n",
    "a = tuple(range(0,5))\n",
    "ciudades.append(a)\n",
    "print(ciudades)\n",
    "ciudades.extend(a)\n",
    "print(ciudades)\n",
    "\n",
    "# Aquí es importante notar que no es lo mismo el comando append que el comando extend cuando su argumento es una lista o una tupla.\n",
    "\n",
    "# También es importante notar que una lista pueda contener tuplas y, además, se le pueden agregar tuplas enteras o se le pueden extender tuplas."
   ]
  },
  {
   "cell_type": "code",
   "execution_count": 277,
   "metadata": {},
   "outputs": [
    {
     "name": "stdout",
     "output_type": "stream",
     "text": [
      "['Puebla', 'NewYork', 'Brazilia', 'Ginebra', 'Sevilla', 'Barcelona', 'Madrid', 'Colorado', 'Madrid', 'Madrid', 'Madrid', 'Madrid', 'Madrid', (0, 1, 2, 3, 4), 0, 1, 2, 3, 4]\n",
      "12\n"
     ]
    }
   ],
   "source": [
    "# 10) Encontrar el índice de la ciudad que en el punto 7 agregamos \n",
    "# duplicada. ¿Se nota alguna particularidad?\n",
    "\n",
    "print(ciudades)\n",
    "\n",
    "i = len(ciudades) - 1\n",
    "\n",
    "while i < len(ciudades):\n",
    "    if ciudades[i] == 'Madrid':\n",
    "        print(i)\n",
    "        break\n",
    "    i -= 1\n"
   ]
  },
  {
   "cell_type": "code",
   "execution_count": 278,
   "metadata": {},
   "outputs": [
    {
     "name": "stdout",
     "output_type": "stream",
     "text": [
      "['Puebla', 'NewYork', 'Brazilia', 'Ginebra', 'Sevilla', 'Barcelona', 'Colorado', (0, 1, 2, 3, 4), 0, 1, 2, 3, 4]\n",
      "[6, 8, 9, 10, 11, 12]\n"
     ]
    }
   ],
   "source": [
    "# La función .remove() solo elimina la primera ocurrencia de la lista, al igual que el .index() solo regresa el índice de la primer ocurrencia.\n",
    "\n",
    "# Una forma de utilizar .remove() para eliminar todas las repeticiones de una lista es mediante un ciclo while, y también podemos \n",
    "# saber en qué índices se encontraban con el mismo ciclo\n",
    "\n",
    "indices = []\n",
    "\n",
    "while 'Madrid' in ciudades:\n",
    "    indices.append(ciudades.index('Madrid') + len(indices))\n",
    "    ciudades.remove('Madrid')\n",
    "print(ciudades)\n",
    "print(indices)\n"
   ]
  },
  {
   "cell_type": "code",
   "execution_count": 279,
   "metadata": {},
   "outputs": [
    {
     "name": "stdout",
     "output_type": "stream",
     "text": [
      "['Puebla', 'NewYork', 'Brazilia', 'Ginebra', 'Sevilla', 'Barcelona', 'Madrid', 'Colorado', 'Madrid', (0, 1, 2, 3, 4), 0, 1, 2, 3, 4]\n"
     ]
    }
   ],
   "source": [
    "# Aquí volvemos a la lista original...\n",
    "\n",
    "ciudades.insert(6, 'Madrid')\n",
    "ciudades.insert(8, 'Madrid')\n",
    "print(ciudades)"
   ]
  },
  {
   "cell_type": "code",
   "execution_count": 280,
   "metadata": {},
   "outputs": [
    {
     "name": "stdout",
     "output_type": "stream",
     "text": [
      "Da error\n"
     ]
    }
   ],
   "source": [
    "# 11) ¿Qué pasa si se busca un elemento que no existe?\n",
    "\n",
    "print('Da error')"
   ]
  },
  {
   "cell_type": "code",
   "execution_count": 281,
   "metadata": {},
   "outputs": [
    {
     "data": {
      "text/plain": [
       "['Puebla',\n",
       " 'NewYork',\n",
       " 'Brazilia',\n",
       " 'Ginebra',\n",
       " 'Sevilla',\n",
       " 'Barcelona',\n",
       " 'Madrid',\n",
       " 'Colorado',\n",
       " 'Madrid',\n",
       " 0,\n",
       " 1,\n",
       " 2,\n",
       " 3,\n",
       " 4]"
      ]
     },
     "execution_count": 281,
     "metadata": {},
     "output_type": "execute_result"
    }
   ],
   "source": [
    "# 12) Eliminar un elemento de la lista\n",
    "\n",
    "del(ciudades[9])\n",
    "ciudades"
   ]
  },
  {
   "cell_type": "code",
   "execution_count": 282,
   "metadata": {},
   "outputs": [
    {
     "ename": "TypeError",
     "evalue": "'<' not supported between instances of 'int' and 'str'",
     "output_type": "error",
     "traceback": [
      "\u001b[1;31m---------------------------------------------------------------------------\u001b[0m",
      "\u001b[1;31mTypeError\u001b[0m                                 Traceback (most recent call last)",
      "Cell \u001b[1;32mIn [282], line 1\u001b[0m\n\u001b[1;32m----> 1\u001b[0m ciudades\u001b[39m.\u001b[39;49msort()\n",
      "\u001b[1;31mTypeError\u001b[0m: '<' not supported between instances of 'int' and 'str'"
     ]
    }
   ],
   "source": [
    "ciudades.sort()"
   ]
  },
  {
   "cell_type": "code",
   "execution_count": null,
   "metadata": {},
   "outputs": [
    {
     "name": "stdout",
     "output_type": "stream",
     "text": [
      "Marca error\n"
     ]
    }
   ],
   "source": [
    "# 13) ¿Qué pasa si el elemento a eliminar no existe?\n",
    "\n",
    "print('Marca error')"
   ]
  },
  {
   "cell_type": "code",
   "execution_count": null,
   "metadata": {},
   "outputs": [
    {
     "data": {
      "text/plain": [
       "[4]"
      ]
     },
     "execution_count": 164,
     "metadata": {},
     "output_type": "execute_result"
    }
   ],
   "source": [
    "# 14) Extraer el úlimo elemento de la lista, guardarlo en una \n",
    "# variable e imprimirlo\n",
    "\n",
    "x = ciudades[-1:]\n",
    "x"
   ]
  },
  {
   "cell_type": "code",
   "execution_count": null,
   "metadata": {},
   "outputs": [
    {
     "data": {
      "text/plain": [
       "['Puebla',\n",
       " 'NewYork',\n",
       " 'Brazilia',\n",
       " 'Ginebra',\n",
       " 'Sevilla',\n",
       " 'Barcelona',\n",
       " 'Madrid',\n",
       " 'Colorado',\n",
       " 'Madrid',\n",
       " 0,\n",
       " 1,\n",
       " 2,\n",
       " 3,\n",
       " 4,\n",
       " 'Puebla',\n",
       " 'NewYork',\n",
       " 'Brazilia',\n",
       " 'Ginebra',\n",
       " 'Sevilla',\n",
       " 'Barcelona',\n",
       " 'Madrid',\n",
       " 'Colorado',\n",
       " 'Madrid',\n",
       " 0,\n",
       " 1,\n",
       " 2,\n",
       " 3,\n",
       " 4,\n",
       " 'Puebla',\n",
       " 'NewYork',\n",
       " 'Brazilia',\n",
       " 'Ginebra',\n",
       " 'Sevilla',\n",
       " 'Barcelona',\n",
       " 'Madrid',\n",
       " 'Colorado',\n",
       " 'Madrid',\n",
       " 0,\n",
       " 1,\n",
       " 2,\n",
       " 3,\n",
       " 4,\n",
       " 'Puebla',\n",
       " 'NewYork',\n",
       " 'Brazilia',\n",
       " 'Ginebra',\n",
       " 'Sevilla',\n",
       " 'Barcelona',\n",
       " 'Madrid',\n",
       " 'Colorado',\n",
       " 'Madrid',\n",
       " 0,\n",
       " 1,\n",
       " 2,\n",
       " 3,\n",
       " 4]"
      ]
     },
     "execution_count": 165,
     "metadata": {},
     "output_type": "execute_result"
    }
   ],
   "source": [
    "# 15) Mostrar la lista multiplicada por 4\n",
    "\n",
    "ciudades*4"
   ]
  },
  {
   "cell_type": "code",
   "execution_count": null,
   "metadata": {},
   "outputs": [
    {
     "data": {
      "text/plain": [
       "(1, 2, 3, 4, 5, 6, 7, 8, 9, 10, 11, 12, 13, 14, 15, 16, 17, 18, 19, 20)"
      ]
     },
     "execution_count": 166,
     "metadata": {},
     "output_type": "execute_result"
    }
   ],
   "source": [
    "# 16) Crear una tupla que contenga los números enteros del 1 al 20\n",
    "\n",
    "y = tuple(range(1,21))\n",
    "y"
   ]
  },
  {
   "cell_type": "code",
   "execution_count": null,
   "metadata": {},
   "outputs": [
    {
     "data": {
      "text/plain": [
       "(11, 12, 13, 14, 15, 16)"
      ]
     },
     "execution_count": 167,
     "metadata": {},
     "output_type": "execute_result"
    }
   ],
   "source": [
    "y[10:16]"
   ]
  },
  {
   "cell_type": "code",
   "execution_count": null,
   "metadata": {},
   "outputs": [
    {
     "data": {
      "text/plain": [
       "False"
      ]
     },
     "execution_count": 168,
     "metadata": {},
     "output_type": "execute_result"
    }
   ],
   "source": [
    "# 18) Evaluar si los números 20 y 30 están dentro de la tupla\n",
    "\n",
    "20 and 30 in y\n"
   ]
  },
  {
   "cell_type": "code",
   "execution_count": null,
   "metadata": {},
   "outputs": [
    {
     "name": "stdout",
     "output_type": "stream",
     "text": [
      "False\n"
     ]
    },
    {
     "data": {
      "text/plain": [
       "['Puebla',\n",
       " 'NewYork',\n",
       " 'Brazilia',\n",
       " 'Ginebra',\n",
       " 'Sevilla',\n",
       " 'Barcelona',\n",
       " 'Madrid',\n",
       " 'Colorado',\n",
       " 'Madrid',\n",
       " 0,\n",
       " 1,\n",
       " 2,\n",
       " 3,\n",
       " 4,\n",
       " 'París']"
      ]
     },
     "execution_count": 169,
     "metadata": {},
     "output_type": "execute_result"
    }
   ],
   "source": [
    "# 19) Con la lista creada en el punto 1, validar la existencia del \n",
    "# elemento 'París' y si no existe, agregarlo. \n",
    "# Utilizar una variable e informar lo sucedido.\n",
    "\n",
    "print('París' in ciudades)\n",
    "ciudades.append('París')\n",
    "ciudades"
   ]
  },
  {
   "cell_type": "code",
   "execution_count": null,
   "metadata": {},
   "outputs": [
    {
     "name": "stdout",
     "output_type": "stream",
     "text": [
      "El número de veces que se repite la palabra Madrid es: 2\n",
      "El número 2 se repite 1 vez\n"
     ]
    }
   ],
   "source": [
    "# 20) Mostrar la cantidad de veces que se encuentra un elemento \n",
    "# específico dentro de la tupla y de la lista\n",
    "\n",
    "a = 2\n",
    "b = 'Madrid'\n",
    "\n",
    "print('El número de veces que se repite la palabra', b, 'es:', \n",
    "        ciudades.count(b))\n",
    "print('El número', a, 'se repite', y.count(a), 'vez')\n"
   ]
  },
  {
   "cell_type": "code",
   "execution_count": null,
   "metadata": {},
   "outputs": [
    {
     "data": {
      "text/plain": [
       "[1, 2, 3, 4, 5, 6, 7, 8, 9, 10, 11, 12, 13, 14, 15, 16, 17, 18, 19, 20]"
      ]
     },
     "execution_count": 171,
     "metadata": {},
     "output_type": "execute_result"
    }
   ],
   "source": [
    "# 21) Convertir la tupla en una lista\n",
    "\n",
    "lista = list(y)\n",
    "lista"
   ]
  },
  {
   "cell_type": "code",
   "execution_count": null,
   "metadata": {},
   "outputs": [
    {
     "name": "stdout",
     "output_type": "stream",
     "text": [
      "1 2 3\n"
     ]
    }
   ],
   "source": [
    "# 22) Desempaquetar solo los primeros 3 elementos de la tupla en 3 \n",
    "# variables\n",
    "\n",
    "v1,v2,v3,_,_,_,_,_,_,_,_,_,_,_,_,_,_,_,_,_ = y\n",
    "print(v1,v2,v3)"
   ]
  },
  {
   "cell_type": "code",
   "execution_count": null,
   "metadata": {},
   "outputs": [
    {
     "data": {
      "text/plain": [
       "{'Ciudad': ['Puebla',\n",
       "  'NewYork',\n",
       "  'Brazilia',\n",
       "  'Ginebra',\n",
       "  'Sevilla',\n",
       "  'Barcelona',\n",
       "  'Madrid',\n",
       "  'Colorado',\n",
       "  'Madrid',\n",
       "  0,\n",
       "  1,\n",
       "  2,\n",
       "  3,\n",
       "  4,\n",
       "  'París'],\n",
       " 'País': ['México', 'EUA', 'España', 'Suiza', 'Brasil', 'Francia'],\n",
       " 'Contine': ['America', 'Europa']}"
      ]
     },
     "execution_count": 173,
     "metadata": {},
     "output_type": "execute_result"
    }
   ],
   "source": [
    "# 23) Crear un diccionario utilizando la lista creada en el punto 1,\n",
    "# asignandole la clave \"ciudad\". Agregar tambien otras claves, \n",
    "# como puede ser \"Pais\" y \"Continente\".\n",
    "\n",
    "dicc = {'Ciudad': ciudades,\n",
    "        'País': ['México', 'EUA', 'España', 'Suiza', 'Brasil', 'Francia'],\n",
    "        'Contine': ['America', 'Europa', ]\n",
    "        }\n",
    "\n",
    "dicc"
   ]
  },
  {
   "cell_type": "code",
   "execution_count": null,
   "metadata": {},
   "outputs": [
    {
     "name": "stdout",
     "output_type": "stream",
     "text": [
      "dict_keys(['Ciudad', 'País', 'Contine'])\n"
     ]
    }
   ],
   "source": [
    "# 24) Imprimir las claves del diccionario\n",
    "\n",
    "print(dicc.keys())"
   ]
  },
  {
   "cell_type": "code",
   "execution_count": null,
   "metadata": {},
   "outputs": [
    {
     "name": "stdout",
     "output_type": "stream",
     "text": [
      "['Puebla', 'NewYork', 'Brazilia', 'Ginebra', 'Sevilla', 'Barcelona', 'Madrid', 'Colorado', 'Madrid', 0, 1, 2, 3, 4, 'París']\n"
     ]
    }
   ],
   "source": [
    "print(dicc.get('Ciudad'))"
   ]
  }
 ],
 "metadata": {
  "kernelspec": {
   "display_name": "Python 3.10.8 64-bit",
   "language": "python",
   "name": "python3"
  },
  "language_info": {
   "codemirror_mode": {
    "name": "ipython",
    "version": 3
   },
   "file_extension": ".py",
   "mimetype": "text/x-python",
   "name": "python",
   "nbconvert_exporter": "python",
   "pygments_lexer": "ipython3",
   "version": "3.10.8"
  },
  "orig_nbformat": 4,
  "vscode": {
   "interpreter": {
    "hash": "be0442737b7318fa7ad3b13af002331592740854ffc0bd4e6d4b05a822eb54b5"
   }
  }
 },
 "nbformat": 4,
 "nbformat_minor": 2
}
